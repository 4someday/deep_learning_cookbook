{
 "cells": [
  {
   "cell_type": "code",
   "execution_count": 13,
   "metadata": {},
   "outputs": [],
   "source": [
    "%matplotlib inline\n",
    "\n",
    "from __future__ import print_function\n",
    "import os\n",
    "import gensim\n",
    "import subprocess\n",
    "import numpy as np\n",
    "import matplotlib.pyplot as plt\n",
    "from sklearn.manifold import TSNE\n",
    "import json\n",
    "from collections import Counter\n",
    "from itertools import chain"
   ]
  },
  {
   "cell_type": "code",
   "execution_count": 3,
   "metadata": {},
   "outputs": [],
   "source": [
    "MODEL = 'GoogleNews-vectors-negative300.bin'\n",
    "if not os.path.isfile(MODEL):\n",
    "  with open(MODEL, 'wb') as fout:\n",
    "    path = 'https://s3.amazonaws.com/dl4j-distribution/%s.gz' % MODEL\n",
    "    curl = subprocess.Popen(['curl', path],\n",
    "                           stdout=subprocess.PIPE).stdout\n",
    "    zcat = subprocess.Popen(['zcat'],\n",
    "                          stdin=curl,\n",
    "                          stdout=fout\n",
    "                         )\n",
    "    zcat.wait()"
   ]
  },
  {
   "cell_type": "code",
   "execution_count": 4,
   "metadata": {},
   "outputs": [],
   "source": [
    "model = gensim.models.KeyedVectors.load_word2vec_format(MODEL, binary=True)"
   ]
  },
  {
   "cell_type": "code",
   "execution_count": 5,
   "metadata": {},
   "outputs": [
    {
     "data": {
      "text/plain": [
       "[(u'cappuccino', 0.6888186931610107),\n",
       " (u'mocha', 0.6686209440231323),\n",
       " (u'coffee', 0.6616827249526978),\n",
       " (u'latte', 0.6536752581596375),\n",
       " (u'caramel_macchiato', 0.6491267681121826),\n",
       " (u'ristretto', 0.6485546827316284),\n",
       " (u'espressos', 0.6438628435134888),\n",
       " (u'macchiato', 0.6428250074386597),\n",
       " (u'chai_latte', 0.6308028697967529),\n",
       " (u'espresso_cappuccino', 0.6280542612075806)]"
      ]
     },
     "execution_count": 5,
     "output_type": "execute_result",
     "metadata": {}
    }
   ],
   "source": [
    "model.most_similar(positive=['espresso'])"
   ]
  },
  {
   "cell_type": "code",
   "execution_count": 6,
   "metadata": {},
   "outputs": [
    {
     "data": {
      "text/plain": [
       "u'queen'"
      ]
     },
     "execution_count": 6,
     "output_type": "execute_result",
     "metadata": {}
    }
   ],
   "source": [
    "def A_is_to_B_as_C_is_to(a, b, c, topn=1):\n",
    "  a, b, c = map(lambda x:x if type(x) == list else [x], (a, b, c))\n",
    "  res = model.most_similar(positive=b + c, negative=a, topn=topn)\n",
    "  if len(res):\n",
    "    if topn == 1:\n",
    "      return res[0][0]\n",
    "    return [x[0] for x in res]\n",
    "  return None\n",
    "\n",
    "A_is_to_B_as_C_is_to('man', 'woman', 'king')"
   ]
  },
  {
   "cell_type": "code",
   "execution_count": 7,
   "metadata": {},
   "outputs": [
    {
     "data": {
      "text/plain": [
       "u'vodka'"
      ]
     },
     "execution_count": 7,
     "output_type": "execute_result",
     "metadata": {}
    }
   ],
   "source": [
    "A_is_to_B_as_C_is_to('Germany', 'beer', 'Russia')"
   ]
  },
  {
   "cell_type": "code",
   "execution_count": 8,
   "metadata": {},
   "outputs": [
    {
     "data": {
      "text/plain": [
       "u'Paris'"
      ]
     },
     "execution_count": 8,
     "output_type": "execute_result",
     "metadata": {}
    }
   ],
   "source": [
    "A_is_to_B_as_C_is_to('Germany', 'Berlin', 'France')"
   ]
  },
  {
   "cell_type": "code",
   "execution_count": 9,
   "metadata": {},
   "outputs": [
    {
     "name": "stdout",
     "output_type": "stream",
     "text": [
      "Rome is the capital of Italy\n",
      "Paris is the capital of France\n",
      "Delhi is the capital of India\n",
      "Beijing is the capital of China\n"
     ]
    }
   ],
   "source": [
    "for country in 'Italy', 'France', 'India', 'China':\n",
    "  print('%s is the capital of %s' % \n",
    "        (A_is_to_B_as_C_is_to('Germany', 'Berlin', country), country))"
   ]
  },
  {
   "cell_type": "code",
   "execution_count": 10,
   "metadata": {},
   "outputs": [
    {
     "name": "stdout",
     "output_type": "stream",
     "text": [
      "Google -> personalized_homepage, app, Gmail\n",
      "IBM -> DB2, WebSphere_Portal, Tamino_XML_Server\n",
      "Boeing -> Dreamliner, airframe, aircraft\n",
      "Microsoft -> Windows_Mobile, SyncMate, Windows\n",
      "Samsung -> MM_A###, handset, Samsung_SCH_B###\n"
     ]
    }
   ],
   "source": [
    "for company in 'Google', 'IBM', 'Boeing', 'Microsoft', 'Samsung':\n",
    "  products = A_is_to_B_as_C_is_to(\n",
    "    ['Starbucks', 'Apple'], ['Starbucks_coffee', 'iPhone'], company, topn=3)\n",
    "  print('%s -> %s' % \n",
    "        (company, ', '.join(products)))"
   ]
  },
  {
   "cell_type": "code",
   "execution_count": 11,
   "metadata": {},
   "outputs": [
    {
     "data": {
      "text/plain": [
       "18"
      ]
     },
     "execution_count": 11,
     "output_type": "execute_result",
     "metadata": {}
    }
   ],
   "source": [
    "beverages = ['Cola', 'Coffee', 'Tea', 'Wine', 'Cappuccino', 'Latte',\n",
    "             'Ginger Ale', 'Orange Juice', 'Apple Juice', 'Whiskey',\n",
    "             'Vodka', 'Lager', 'Hefeweizen', 'IPA', 'Grape Juice',\n",
    "             'Milk', 'Goat Milk', 'Herbal Tea']\n",
    "len(beverages)"
   ]
  },
  {
   "cell_type": "code",
   "execution_count": 12,
   "metadata": {},
   "outputs": [
    {
     "data": {
      "text/plain": [
       "18"
      ]
     },
     "execution_count": 12,
     "output_type": "execute_result",
     "metadata": {}
    }
   ],
   "source": [
    "normalized = [beverage.lower().replace(' ', '_').replace('-', '_') \n",
    "              for beverage in beverages]\n",
    "beverage_vectors = [(beverage, model[norm]) \n",
    "                    for beverage, norm in zip(beverages, normalized) \n",
    "                    if norm in model]\n",
    "len(beverage_vectors)"
   ]
  },
  {
   "cell_type": "code",
   "execution_count": 14,
   "metadata": {},
   "outputs": [
    {
     "name": "stdout",
     "output_type": "stream",
     "text": [
      "[t-SNE] Computing pairwise distances...\n",
      "[t-SNE] Computing 17 nearest neighbors...\n",
      "[t-SNE] Computed conditional probabilities for sample 18 / 18\n",
      "[t-SNE] Mean sigma: 0.422394\n",
      "[t-SNE] Iteration 25: error = 1.0984172, gradient norm = 0.0022056\n",
      "[t-SNE] Iteration 50: error = 1.0353470, gradient norm = 0.0020307\n",
      "[t-SNE] Iteration 75: error = 0.8049616, gradient norm = 0.0019073\n",
      "[t-SNE] Iteration 100: error = 0.6989675, gradient norm = 0.0019135\n",
      "[t-SNE] KL divergence after 100 iterations with early exaggeration: 0.698967\n",
      "[t-SNE] Iteration 125: error = 0.5171531, gradient norm = 0.0013886\n",
      "[t-SNE] Iteration 150: error = 0.4698668, gradient norm = 0.0010943\n",
      "[t-SNE] Iteration 175: error = 0.4601213, gradient norm = 0.0010549\n",
      "[t-SNE] Iteration 200: error = 0.4576006, gradient norm = 0.0010453\n",
      "[t-SNE] Iteration 225: error = 0.4570842, gradient norm = 0.0010430\n",
      "[t-SNE] Iteration 250: error = 0.4568935, gradient norm = 0.0010423\n",
      "[t-SNE] Iteration 275: error = 0.4568405, gradient norm = 0.0010421\n",
      "[t-SNE] Iteration 300: error = 0.4568253, gradient norm = 0.0010420\n",
      "[t-SNE] Iteration 325: error = 0.4568212, gradient norm = 0.0010420\n",
      "[t-SNE] Iteration 350: error = 0.4568207, gradient norm = 0.0010420\n",
      "[t-SNE] Iteration 350: error difference 0.000000. Finished.\n",
      "[t-SNE] Error after 350 iterations: 0.698967\n"
     ]
    }
   ],
   "source": [
    "vectors = np.asarray([x[1] for x in beverage_vectors])\n",
    "lengths = np.linalg.norm(vectors, axis=1)\n",
    "vectors = (vectors.T / lengths).T\n",
    "\n",
    "tsne = TSNE(n_components=2, perplexity=10, verbose=2).fit_transform(vectors)"
   ]
  },
  {
   "cell_type": "code",
   "execution_count": 17,
   "metadata": {},
   "outputs": [
    {
     "data": {
      "image/png": "[encoded data removed]"
     },
     "output_type": "display_data",
     "metadata": {}
    }
   ],
   "source": [
    "x=tsne[:,0]\n",
    "y=tsne[:,1]\n",
    "\n",
    "fig, ax = plt.subplots()\n",
    "ax.scatter(x, y)\n",
    "\n",
    "for bev, x1, y1 in zip(beverage_vectors, x, y):\n",
    "    ax.annotate(bev[0], (x1, y1))\n",
    "\n",
    "plt.show()"
   ]
  },
  {
   "cell_type": "code",
   "execution_count": 74,
   "metadata": {},
   "outputs": [
    {
     "data": {
      "text/plain": [
       "(-0.00019134512304018101, 0.00024896834982487265)"
      ]
     },
     "execution_count": 74,
     "output_type": "execute_result",
     "metadata": {}
    }
   ],
   "source": [
    "x.min(), x.max()"
   ]
  },
  {
   "cell_type": "code",
   "execution_count": 86,
   "metadata": {},
   "outputs": [
    {
     "data": {
      "text/plain": [
       "[(u'Tea', 0.7009036540985107),\n",
       " (u'teas', 0.6727380156517029),\n",
       " (u'shape_Angius', 0.632348358631134),\n",
       " (u'activist_Jamie_Radtke', 0.58638596534729),\n",
       " (u'decaffeinated_brew', 0.5839536190032959),\n",
       " (u'planter_bungalow', 0.575829029083252),\n",
       " (u'herbal_tea', 0.5731173753738403),\n",
       " (u'coffee', 0.5635291934013367),\n",
       " (u'jasmine_tea', 0.548339307308197),\n",
       " (u'Tea_NASDAQ_PEET', 0.5402544736862183)]"
      ]
     },
     "execution_count": 86,
     "output_type": "execute_result",
     "metadata": {}
    }
   ],
   "source": [
    "model.most_similar(positive=['tea',], topn=10)"
   ]
  },
  {
   "cell_type": "code",
   "execution_count": 100,
   "metadata": {},
   "outputs": [],
   "source": [
    "tweets = json.load(open('condensed_2017.json'))\n",
    "tokenized = [list(gensim.utils.tokenize(tweet['text'])) for tweet in tweets]"
   ]
  },
  {
   "cell_type": "code",
   "execution_count": 105,
   "metadata": {},
   "outputs": [
    {
     "data": {
      "text/plain": [
       "[(u'the', 0.0013812154696132596),\n",
       " (u'to', 0.002066115702479339),\n",
       " (u'and', 0.00267379679144385),\n",
       " (u't', 0.002717391304347826),\n",
       " (u'of', 0.0030959752321981426),\n",
       " (u'https', 0.0031847133757961785),\n",
       " (u'co', 0.003257328990228013),\n",
       " (u'in', 0.003663003663003663),\n",
       " (u'a', 0.00411522633744856),\n",
       " (u'is', 0.004273504273504274)]"
      ]
     },
     "execution_count": 105,
     "output_type": "execute_result",
     "metadata": {}
    }
   ],
   "source": [
    "word_counts = Counter(chain(*tokenized))\n",
    "word_weights = {word: 1.0 / weight for word, weight in word_counts.items()}\n",
    "[(x[0], word_weights[x[0]]) for x in word_counts.most_common(10)]"
   ]
  },
  {
   "cell_type": "code",
   "execution_count": 128,
   "metadata": {},
   "outputs": [],
   "source": [
    "def tweet_vector(tweet):\n",
    "  res = None\n",
    "  weight = 0\n",
    "  for word in tweet:\n",
    "    if not word in model:\n",
    "      continue\n",
    "    vector = model[word] * word_weights[word]\n",
    "    if res is None:\n",
    "      res = vector\n",
    "    else:\n",
    "      res += vector\n",
    "  if np.linalg.norm(res) == 0:\n",
    "    return None # No real information\n",
    "  return res / np.linalg.norm(res)\n",
    "\n",
    "tweet_vectors = [tweet_vector(tweet) for tweet in tokenized]"
   ]
  },
  {
   "cell_type": "code",
   "execution_count": 133,
   "metadata": {},
   "outputs": [],
   "source": [
    "usuable_tweets = []\n",
    "usuable_vectors = []\n",
    "for tweet, vector in zip(tweets, tweet_vectors):\n",
    "  if not vector is None:\n",
    "    usuable_tweets.append(tweet['text'])\n",
    "    usuable_vectors.append(vector)\n",
    "usuable_vectors = np.asarray(usuable_vectors)"
   ]
  },
  {
   "cell_type": "code",
   "execution_count": 142,
   "metadata": {},
   "outputs": [
    {
     "name": "stdout",
     "output_type": "stream",
     "text": [
      "Matches for: music\n",
      "---\n",
      "Great parent-teacher listening session this morning with @VP Pence &amp; @usedgov Secretary @BetsyDeVos. Watch:… https://t.co/nuLTs513Ot\n",
      "My statement as to what's happening in Sweden was in reference to a story that was broadcast on @FoxNews concerning immigrants &amp; Sweden.\n",
      "Is it true the DNC would not allow the FBI access to check server or other equipment after learning it was hacked? Can that be possible?\n",
      "Join me live at 9:00 P.M. \n",
      "#JointAddress https://t.co/J882zbyVkJ https://t.co/gTtK3vJmkU\n",
      "Join me live from the @WhiteHouse.\n",
      "https://t.co/LHOs4nAaGl\n",
      "Join me live at the @WhiteHouse.\n",
      "\n",
      "➡️https://t.co/9VOb99W42r https://t.co/sjb5VHLHYH\n",
      "Looking forward to a big rally in Nashville, Tennessee, tonight. Big crowd of great people expected. Will be fun!\n",
      "Nancy Pelosi and Fake Tears Chuck Schumer held a rally  at the steps of The Supreme Court and mic did not work (a mess)-just like Dem party!\n",
      "Great Concert at 4:00 P.M. today at Lincoln Memorial. Enjoy!\n",
      "Jackie Evancho's album sales have skyrocketed after announcing her Inauguration performance.Some people just don't understand the \"Movement\"\n"
     ]
    }
   ],
   "source": [
    "def closest(word):\n",
    "  dists = np.dot(usuable_vectors, model[word])\n",
    "  return np.argsort(dists)[-10:]\n",
    "\n",
    "word = 'music'\n",
    "print('Matches for: %s' % word)\n",
    "print('---')\n",
    "for other_idx in closest(word):\n",
    "  print(usuable_tweets[other_idx])"
   ]
  },
  {
   "cell_type": "code",
   "execution_count": 137,
   "metadata": {},
   "outputs": [
    {
     "data": {
      "text/plain": [
       "array([ 1.00000012], dtype=float32)"
      ]
     },
     "execution_count": 137,
     "output_type": "execute_result",
     "metadata": {}
    }
   ],
   "source": [
    "np.dot([usuable_vectors[tweet_idx]], usuable_vectors[tweet_idx])"
   ]
  },
  {
   "cell_type": "code",
   "execution_count": 18,
   "metadata": {},
   "outputs": [
    {
     "data": {
      "text/plain": [
       "array([[-0.06258024, -0.02259842,  0.00987693, ...,  0.07553878,\n",
       "         0.03745333,  0.03729529],\n",
       "       [-0.05390024, -0.04573354, -0.12478722, ...,  0.0220501 ,\n",
       "         0.07284699,  0.0676203 ],\n",
       "       [-0.06273787,  0.03928446, -0.01487826, ...,  0.10612667,\n",
       "         0.02154782,  0.10143599],\n",
       "       ..., \n",
       "       [-0.02361988,  0.04283071, -0.00225373, ...,  0.07684333,\n",
       "         0.03054837, -0.08188223],\n",
       "       [ 0.00513691, -0.06047985, -0.01602458, ...,  0.0267507 ,\n",
       "         0.07185213,  0.03928606],\n",
       "       [-0.09418097, -0.03064828, -0.00470247, ...,  0.14100839,\n",
       "         0.07313494,  0.0799749 ]], dtype=float32)"
      ]
     },
     "execution_count": 18,
     "output_type": "execute_result",
     "metadata": {}
    }
   ],
   "source": [
    "vectors"
   ]
  },
  {
   "cell_type": "code",
   "execution_count": null,
   "metadata": {},
   "outputs": [],
   "source": [
    ""
   ]
  }
 ],
 "metadata": {
  "kernelspec": {
   "display_name": "Python 3",
   "language": "python",
   "name": "python3"
  },
  "language_info": {
   "codemirror_mode": {
    "name": "ipython",
    "version": 3.0
   },
   "file_extension": ".py",
   "mimetype": "text/x-python",
   "name": "python",
   "nbconvert_exporter": "python",
   "pygments_lexer": "ipython3",
   "version": "3.5.2"
  }
 },
 "nbformat": 4,
 "nbformat_minor": 1
}