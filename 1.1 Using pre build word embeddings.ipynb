{
 "cells": [
  {
   "cell_type": "code",
   "execution_count": 4,
   "metadata": {},
   "outputs": [
    {
     "name": "stderr",
     "output_type": "stream",
     "text": [
      "Using TensorFlow backend.\n"
     ]
    }
   ],
   "source": [
    "%matplotlib inline\n",
    "\n",
    "from __future__ import print_function\n",
    "import os\n",
    "import gensim\n",
    "import subprocess\n",
    "import numpy as np\n",
    "import matplotlib.pyplot as plt\n",
    "from sklearn.manifold import TSNE\n",
    "import json\n",
    "from collections import Counter\n",
    "from itertools import chain"
   ]
  },
  {
   "cell_type": "code",
   "execution_count": null,
   "metadata": {
    "collapsed": true
   },
   "outputs": [],
   "source": [
    "MODEL = 'GoogleNews-vectors-negative300.bin'\n",
    "if not os.path.isfile(MODEL):\n",
    "    with open(MODEL, 'wb') as fout:\n",
    "        path = 'https://s3.amazonaws.com/dl4j-distribution/%s.gz' % MODEL\n",
    "        curl = subprocess.Popen(['curl', path],\n",
    "                                stdout=subprocess.PIPE).stdout\n",
    "        zcat = subprocess.Popen(['zcat'],\n",
    "                          stdin=curl,\n",
    "                          stdout=fout\n",
    "                         )\n",
    "        zcat.wait()"
   ]
  },
  {
   "cell_type": "code",
   "execution_count": 9,
   "metadata": {},
   "outputs": [],
   "source": [
    "model = gensim.models.KeyedVectors.load_word2vec_format(MODEL, binary=True)"
   ]
  },
  {
   "cell_type": "code",
   "execution_count": 10,
   "metadata": {},
   "outputs": [
    {
     "data": {
      "text/plain": [
       "[('cappuccino', 0.688818633556366),\n",
       " ('mocha', 0.6686208248138428),\n",
       " ('coffee', 0.6616827249526978),\n",
       " ('latte', 0.6536752581596375),\n",
       " ('caramel_macchiato', 0.6491269469261169),\n",
       " ('ristretto', 0.6485545635223389),\n",
       " ('espressos', 0.6438629627227783),\n",
       " ('macchiato', 0.6428249478340149),\n",
       " ('chai_latte', 0.6308027505874634),\n",
       " ('espresso_cappuccino', 0.6280543804168701)]"
      ]
     },
     "execution_count": 10,
     "metadata": {},
     "output_type": "execute_result"
    }
   ],
   "source": [
    "model.most_similar(positive=['espresso'])"
   ]
  },
  {
   "cell_type": "code",
   "execution_count": 11,
   "metadata": {},
   "outputs": [
    {
     "data": {
      "text/plain": [
       "'queen'"
      ]
     },
     "execution_count": 11,
     "metadata": {},
     "output_type": "execute_result"
    }
   ],
   "source": [
    "def A_is_to_B_as_C_is_to(a, b, c, topn=1):\n",
    "    a, b, c = map(lambda x:x if type(x) == list else [x], (a, b, c))\n",
    "    res = model.most_similar(positive=b + c, negative=a, topn=topn)\n",
    "    if len(res):\n",
    "        if topn == 1:\n",
    "            return res[0][0]\n",
    "        return [x[0] for x in res]\n",
    "    return None\n",
    "\n",
    "A_is_to_B_as_C_is_to('man', 'woman', 'king')"
   ]
  },
  {
   "cell_type": "code",
   "execution_count": 12,
   "metadata": {},
   "outputs": [
    {
     "name": "stdout",
     "output_type": "stream",
     "text": [
      "Rome is the capital of Italy\n",
      "Paris is the capital of France\n",
      "Delhi is the capital of India\n",
      "Beijing is the capital of China\n"
     ]
    }
   ],
   "source": [
    "for country in 'Italy', 'France', 'India', 'China':\n",
    "    print('%s is the capital of %s' % \n",
    "          (A_is_to_B_as_C_is_to('Germany', 'Berlin', country), country))"
   ]
  },
  {
   "cell_type": "code",
   "execution_count": 13,
   "metadata": {},
   "outputs": [
    {
     "name": "stdout",
     "output_type": "stream",
     "text": [
      "Google -> personalized_homepage, app, Gmail\n",
      "IBM -> DB2, WebSphere_Portal, Tamino_XML_Server\n",
      "Boeing -> Dreamliner, airframe, aircraft\n",
      "Microsoft -> Windows_Mobile, SyncMate, Windows\n",
      "Samsung -> MM_A###, handset, Samsung_SCH_B###\n"
     ]
    }
   ],
   "source": [
    "for company in 'Google', 'IBM', 'Boeing', 'Microsoft', 'Samsung':\n",
    "    products = A_is_to_B_as_C_is_to(\n",
    "        ['Starbucks', 'Apple'], \n",
    "        ['Starbucks_coffee', 'iPhone'], \n",
    "        company, topn=3)\n",
    "    print('%s -> %s' % \n",
    "          (company, ', '.join(products)))"
   ]
  },
  {
   "cell_type": "code",
   "execution_count": 14,
   "metadata": {},
   "outputs": [
    {
     "data": {
      "text/plain": [
       "18"
      ]
     },
     "execution_count": 14,
     "metadata": {},
     "output_type": "execute_result"
    }
   ],
   "source": [
    "beverages = ['Cola', 'Coffee', 'Tea', 'Wine', 'Cappuccino', 'Latte',\n",
    "             'Ginger Ale', 'Orange Juice', 'Apple Juice', 'Whiskey',\n",
    "             'Vodka', 'Lager', 'Hefeweizen', 'IPA', 'Grape Juice',\n",
    "             'Milk', 'Goat Milk', 'Herbal Tea']\n",
    "len(beverages)"
   ]
  },
  {
   "cell_type": "code",
   "execution_count": 15,
   "metadata": {},
   "outputs": [
    {
     "data": {
      "text/plain": [
       "18"
      ]
     },
     "execution_count": 15,
     "metadata": {},
     "output_type": "execute_result"
    }
   ],
   "source": [
    "normalized = [beverage.lower().replace(' ', '_').replace('-', '_') \n",
    "              for beverage in beverages]\n",
    "beverage_vectors = [(beverage, model[norm]) \n",
    "                    for beverage, norm in zip(beverages, normalized) \n",
    "                    if norm in model]\n",
    "len(beverage_vectors)"
   ]
  },
  {
   "cell_type": "code",
   "execution_count": 16,
   "metadata": {},
   "outputs": [
    {
     "name": "stdout",
     "output_type": "stream",
     "text": [
      "[t-SNE] Computing pairwise distances...\n",
      "[t-SNE] Computing 17 nearest neighbors...\n",
      "[t-SNE] Computed conditional probabilities for sample 18 / 18\n",
      "[t-SNE] Mean sigma: 0.422394\n",
      "[t-SNE] Iteration 25: error = 1.0797015, gradient norm = 0.0024558\n",
      "[t-SNE] Iteration 50: error = 1.0067117, gradient norm = 0.0021012\n",
      "[t-SNE] Iteration 75: error = 0.8328501, gradient norm = 0.0010670\n",
      "[t-SNE] Iteration 100: error = 0.8005741, gradient norm = 0.0010775\n",
      "[t-SNE] KL divergence after 100 iterations with early exaggeration: 0.800574\n",
      "[t-SNE] Iteration 125: error = 0.7054098, gradient norm = 0.0013243\n",
      "[t-SNE] Iteration 150: error = 0.6558407, gradient norm = 0.0012816\n",
      "[t-SNE] Iteration 175: error = 0.6433069, gradient norm = 0.0012577\n",
      "[t-SNE] Iteration 200: error = 0.6396095, gradient norm = 0.0012476\n",
      "[t-SNE] Iteration 225: error = 0.6385924, gradient norm = 0.0012446\n",
      "[t-SNE] Iteration 250: error = 0.6383104, gradient norm = 0.0012438\n",
      "[t-SNE] Iteration 275: error = 0.6382326, gradient norm = 0.0012436\n",
      "[t-SNE] Iteration 300: error = 0.6382112, gradient norm = 0.0012435\n",
      "[t-SNE] Iteration 300: error difference 0.000000. Finished.\n",
      "[t-SNE] Error after 300 iterations: 0.800574\n"
     ]
    }
   ],
   "source": [
    "vectors = np.asarray([x[1] for x in beverage_vectors])\n",
    "lengths = np.linalg.norm(vectors, axis=1)\n",
    "vectors = (vectors.T / lengths).T\n",
    "\n",
    "tsne = TSNE(n_components=2, perplexity=10, verbose=2).fit_transform(vectors)"
   ]
  },
  {
   "cell_type": "code",
   "execution_count": 17,
   "metadata": {},
   "outputs": [
    {
     "data": {
      "image/png": "[encoded data removed]",
      "text/plain": [
       "<matplotlib.figure.Figure at 0x7f3fa715c0f0>"
      ]
     },
     "metadata": {},
     "output_type": "display_data"
    }
   ],
   "source": [
    "x=tsne[:,0]\n",
    "y=tsne[:,1]\n",
    "\n",
    "fig, ax = plt.subplots()\n",
    "ax.scatter(x, y)\n",
    "\n",
    "for bev, x1, y1 in zip(beverage_vectors, x, y):\n",
    "    ax.annotate(bev[0], (x1, y1))\n",
    "\n",
    "plt.show()"
   ]
  },
  {
   "cell_type": "code",
   "execution_count": 18,
   "metadata": {},
   "outputs": [
    {
     "data": {
      "text/plain": [
       "(-199.45668520670424, 173.1036072377226)"
      ]
     },
     "execution_count": 18,
     "metadata": {},
     "output_type": "execute_result"
    }
   ],
   "source": [
    "x.min(), x.max()"
   ]
  },
  {
   "cell_type": "code",
   "execution_count": 19,
   "metadata": {},
   "outputs": [
    {
     "data": {
      "text/plain": [
       "[('Tea', 0.700903594493866),\n",
       " ('teas', 0.6727380752563477),\n",
       " ('shape_Angius', 0.6323481202125549),\n",
       " ('activist_Jamie_Radtke', 0.5863860249519348),\n",
       " ('decaffeinated_brew', 0.5839537382125854),\n",
       " ('planter_bungalow', 0.5758289694786072),\n",
       " ('herbal_tea', 0.5731173753738403),\n",
       " ('coffee', 0.5635291934013367),\n",
       " ('jasmine_tea', 0.5483392477035522),\n",
       " ('Tea_NASDAQ_PEET', 0.5402543544769287)]"
      ]
     },
     "execution_count": 19,
     "metadata": {},
     "output_type": "execute_result"
    }
   ],
   "source": [
    "model.most_similar(positive=['tea',], topn=10)"
   ]
  },
  {
   "cell_type": "code",
   "execution_count": 22,
   "metadata": {},
   "outputs": [],
   "source": [
    "tweets = json.load(open('data/condensed_2017.json'))\n",
    "tokenized = [list(gensim.utils.tokenize(tweet['text'])) for tweet in tweets]"
   ]
  },
  {
   "cell_type": "code",
   "execution_count": 23,
   "metadata": {},
   "outputs": [
    {
     "data": {
      "text/plain": [
       "[('the', 0.0013812154696132596),\n",
       " ('to', 0.002066115702479339),\n",
       " ('and', 0.00267379679144385),\n",
       " ('t', 0.002717391304347826),\n",
       " ('of', 0.0030959752321981426),\n",
       " ('https', 0.0031847133757961785),\n",
       " ('co', 0.003257328990228013),\n",
       " ('in', 0.003663003663003663),\n",
       " ('a', 0.00411522633744856),\n",
       " ('is', 0.004273504273504274)]"
      ]
     },
     "execution_count": 23,
     "metadata": {},
     "output_type": "execute_result"
    }
   ],
   "source": [
    "word_counts = Counter(chain(*tokenized))\n",
    "word_weights = {word: 1.0 / weight for word, weight in word_counts.items()}\n",
    "[(x[0], word_weights[x[0]]) for x in word_counts.most_common(10)]"
   ]
  },
  {
   "cell_type": "code",
   "execution_count": 25,
   "metadata": {
    "collapsed": true
   },
   "outputs": [],
   "source": [
    "def tweet_vector(tweet):\n",
    "    res = None\n",
    "    weight = 0\n",
    "    for word in tweet:\n",
    "        if not word in model:\n",
    "            continue\n",
    "        vector = model[word] * word_weights[word]\n",
    "        if res is None:\n",
    "            res = vector\n",
    "        else:\n",
    "            res += vector\n",
    "    if np.linalg.norm(res) == 0:\n",
    "        return None # No real information\n",
    "    return res / np.linalg.norm(res)\n",
    "\n",
    "tweet_vectors = [tweet_vector(tweet) for tweet in tokenized]"
   ]
  },
  {
   "cell_type": "code",
   "execution_count": 26,
   "metadata": {
    "collapsed": true
   },
   "outputs": [],
   "source": [
    "usuable_tweets = []\n",
    "usuable_vectors = []\n",
    "for tweet, vector in zip(tweets, tweet_vectors):\n",
    "    if not vector is None:\n",
    "        usuable_tweets.append(tweet['text'])\n",
    "        usuable_vectors.append(vector)\n",
    "usuable_vectors = np.asarray(usuable_vectors)"
   ]
  },
  {
   "cell_type": "code",
   "execution_count": 142,
   "metadata": {},
   "outputs": [
    {
     "name": "stdout",
     "output_type": "stream",
     "text": [
      "Matches for: music\n",
      "---\n",
      "Great parent-teacher listening session this morning with @VP Pence &amp; @usedgov Secretary @BetsyDeVos. Watch:… https://t.co/nuLTs513Ot\n",
      "My statement as to what's happening in Sweden was in reference to a story that was broadcast on @FoxNews concerning immigrants &amp; Sweden.\n",
      "Is it true the DNC would not allow the FBI access to check server or other equipment after learning it was hacked? Can that be possible?\n",
      "Join me live at 9:00 P.M. \n",
      "#JointAddress https://t.co/J882zbyVkJ https://t.co/gTtK3vJmkU\n",
      "Join me live from the @WhiteHouse.\n",
      "https://t.co/LHOs4nAaGl\n",
      "Join me live at the @WhiteHouse.\n",
      "\n",
      "➡️https://t.co/9VOb99W42r https://t.co/sjb5VHLHYH\n",
      "Looking forward to a big rally in Nashville, Tennessee, tonight. Big crowd of great people expected. Will be fun!\n",
      "Nancy Pelosi and Fake Tears Chuck Schumer held a rally  at the steps of The Supreme Court and mic did not work (a mess)-just like Dem party!\n",
      "Great Concert at 4:00 P.M. today at Lincoln Memorial. Enjoy!\n",
      "Jackie Evancho's album sales have skyrocketed after announcing her Inauguration performance.Some people just don't understand the \"Movement\"\n"
     ]
    }
   ],
   "source": [
    "def closest(word):\n",
    "    dists = np.dot(usuable_vectors, model[word])\n",
    "    return np.argsort(dists)[-10:]\n",
    "\n",
    "word = 'music'\n",
    "print('Matches for: %s' % word)\n",
    "print('---')\n",
    "for other_idx in closest(word):\n",
    "    print(usuable_tweets[other_idx])\n"
   ]
  },
  {
   "cell_type": "code",
   "execution_count": 137,
   "metadata": {},
   "outputs": [
    {
     "data": {
      "text/plain": [
       "array([ 1.00000012], dtype=float32)"
      ]
     },
     "execution_count": 137,
     "metadata": {},
     "output_type": "execute_result"
    }
   ],
   "source": [
    "np.dot([usuable_vectors[tweet_idx]], usuable_vectors[tweet_idx])"
   ]
  },
  {
   "cell_type": "code",
   "execution_count": 18,
   "metadata": {},
   "outputs": [
    {
     "data": {
      "text/plain": [
       "array([[-0.06258024, -0.02259842,  0.00987693, ...,  0.07553878,\n",
       "         0.03745333,  0.03729529],\n",
       "       [-0.05390024, -0.04573354, -0.12478722, ...,  0.0220501 ,\n",
       "         0.07284699,  0.0676203 ],\n",
       "       [-0.06273787,  0.03928446, -0.01487826, ...,  0.10612667,\n",
       "         0.02154782,  0.10143599],\n",
       "       ..., \n",
       "       [-0.02361988,  0.04283071, -0.00225373, ...,  0.07684333,\n",
       "         0.03054837, -0.08188223],\n",
       "       [ 0.00513691, -0.06047985, -0.01602458, ...,  0.0267507 ,\n",
       "         0.07185213,  0.03928606],\n",
       "       [-0.09418097, -0.03064828, -0.00470247, ...,  0.14100839,\n",
       "         0.07313494,  0.0799749 ]], dtype=float32)"
      ]
     },
     "execution_count": 18,
     "metadata": {},
     "output_type": "execute_result"
    }
   ],
   "source": [
    "vectors"
   ]
  },
  {
   "cell_type": "code",
   "execution_count": 29,
   "metadata": {},
   "outputs": [
    {
     "data": {
      "text/plain": [
       "[-4.626129150390625,\n",
       " -3.6992340087890625,\n",
       " -5.369544506072998,\n",
       " -1.5804328918457031,\n",
       " 0.10629653930664062,\n",
       " -1.9902725219726562,\n",
       " -4.2095489501953125,\n",
       " -0.2247772216796875,\n",
       " -3.1390838623046875,\n",
       " -0.80577659606933594,\n",
       " 3.6111221313476562,\n",
       " -1.7716903686523438,\n",
       " -2.0825843811035156,\n",
       " 1.348358154296875,\n",
       " -1.8843193054199219,\n",
       " -2.0873260498046875,\n",
       " 1.33062744140625,\n",
       " -7.1678543090820312]"
      ]
     },
     "execution_count": 29,
     "metadata": {},
     "output_type": "execute_result"
    }
   ],
   "source": [
    "[sum(x[1]) for x in beverage_vectors]"
   ]
  },
  {
   "cell_type": "code",
   "execution_count": 32,
   "metadata": {},
   "outputs": [
    {
     "data": {
      "text/plain": [
       "array([-0.19335938, -0.06982422,  0.03051758,  0.57421875, -0.00463867,\n",
       "        0.0246582 ,  0.328125  , -0.1796875 ,  0.04711914,  0.2265625 ,\n",
       "       -0.04858398, -0.22949219, -0.13671875,  0.10839844, -0.41210938,\n",
       "        0.4140625 , -0.01416016,  0.05957031,  0.07568359, -0.16308594,\n",
       "       -0.12011719,  0.02514648,  0.04272461, -0.39257812, -0.02392578,\n",
       "        0.13867188, -0.27148438,  0.16894531,  0.04492188,  0.27148438,\n",
       "        0.2578125 , -0.14453125,  0.00604248,  0.12255859, -0.42773438,\n",
       "       -0.19042969,  0.05834961,  0.02954102,  0.2578125 ,  0.02758789,\n",
       "       -0.02941895, -0.35351562,  0.12353516,  0.13671875, -0.16699219,\n",
       "       -0.15917969, -0.04882812,  0.04101562,  0.15820312, -0.02954102,\n",
       "       -0.3515625 ,  0.0267334 , -0.19628906,  0.05786133,  0.08447266,\n",
       "       -0.11767578,  0.26367188, -0.1328125 , -0.00958252, -0.265625  ,\n",
       "        0.0300293 ,  0.015625  , -0.10302734,  0.04541016, -0.09423828,\n",
       "       -0.01635742, -0.15429688,  0.01708984,  0.12304688, -0.11083984,\n",
       "       -0.296875  ,  0.11279297,  0.04418945,  0.0255127 , -0.41992188,\n",
       "       -0.18945312,  0.08056641,  0.05395508,  0.03015137, -0.3125    ,\n",
       "       -0.18359375, -0.05664062, -0.20703125, -0.05810547, -0.13476562,\n",
       "       -0.02087402,  0.15722656,  0.16894531,  0.27148438,  0.02319336,\n",
       "       -0.4140625 , -0.15136719,  0.08886719, -0.07080078, -0.07275391,\n",
       "        0.12988281,  0.14746094,  0.01745605,  0.30078125,  0.18652344,\n",
       "       -0.07666016,  0.32226562,  0.20898438,  0.18847656,  0.24609375,\n",
       "       -0.21679688,  0.04370117,  0.12060547,  0.12695312,  0.12353516,\n",
       "       -0.08251953, -0.09326172, -0.16992188, -0.30664062, -0.17089844,\n",
       "       -0.01385498, -0.16601562, -0.17089844, -0.13671875, -0.13964844,\n",
       "       -0.22753906,  0.03039551, -0.20214844,  0.05737305, -0.23535156,\n",
       "        0.21484375,  0.26757812,  0.01794434,  0.37304688, -0.26367188,\n",
       "       -0.34960938,  0.14257812, -0.2265625 , -0.15820312, -0.31445312,\n",
       "        0.22460938,  0.24609375, -0.15332031,  0.09375   , -0.13671875,\n",
       "        0.22265625, -0.27734375, -0.3203125 , -0.25195312, -0.07714844,\n",
       "       -0.02893066,  0.2890625 ,  0.04614258, -0.18261719, -0.17578125,\n",
       "       -0.00662231, -0.06298828, -0.20800781, -0.05175781,  0.09375   ,\n",
       "        0.04614258, -0.10742188, -0.04980469, -0.06054688, -0.08056641,\n",
       "       -0.08300781, -0.2109375 , -0.01611328,  0.09912109,  0.15429688,\n",
       "       -0.06201172,  0.20898438,  0.08251953, -0.18066406, -0.21191406,\n",
       "       -0.03491211,  0.15234375,  0.16992188, -0.04980469, -0.265625  ,\n",
       "       -0.23632812,  0.16796875, -0.10107422, -0.09277344,  0.18164062,\n",
       "        0.25585938, -0.04150391, -0.38085938, -0.00349426,  0.234375  ,\n",
       "        0.02612305,  0.24023438,  0.3515625 , -0.16894531, -0.03271484,\n",
       "       -0.2890625 , -0.18261719, -0.16894531,  0.25976562,  0.00233459,\n",
       "        0.34570312,  0.11230469, -0.08300781,  0.04833984,  0.00256348,\n",
       "        0.01165771, -0.23925781,  0.03808594, -0.03857422,  0.22851562,\n",
       "       -0.03564453,  0.17871094, -0.19335938, -0.22363281, -0.13867188,\n",
       "       -0.37890625,  0.13769531, -0.04077148,  0.06079102,  0.07470703,\n",
       "        0.08935547, -0.23535156,  0.12695312, -0.17578125,  0.02880859,\n",
       "       -0.16894531, -0.10400391, -0.15039062,  0.09277344,  0.31835938,\n",
       "        0.22265625, -0.22558594, -0.27148438,  0.13964844,  0.4609375 ,\n",
       "       -0.09082031, -0.04321289, -0.10400391, -0.10644531,  0.10253906,\n",
       "       -0.28125   ,  0.08642578, -0.26757812,  0.19042969, -0.11962891,\n",
       "        0.02758789,  0.0177002 ,  0.03662109,  0.07617188,  0.21777344,\n",
       "        0.07177734, -0.09375   ,  0.36523438, -0.1640625 ,  0.01989746,\n",
       "        0.07519531,  0.06030273,  0.29296875, -0.04956055,  0.06054688,\n",
       "       -0.01989746, -0.09667969,  0.03710938,  0.05151367, -0.24804688,\n",
       "        0.08789062,  0.03564453, -0.11230469,  0.25585938,  0.0456543 ,\n",
       "       -0.2734375 , -0.14648438,  0.00854492,  0.10742188,  0.04052734,\n",
       "       -0.26757812,  0.01586914, -0.11816406, -0.04199219,  0.16015625,\n",
       "        0.13085938, -0.07275391, -0.0189209 ,  0.11816406,  0.13867188,\n",
       "       -0.07519531, -0.09912109, -0.01507568,  0.23925781, -0.03295898,\n",
       "       -0.22363281, -0.10205078,  0.16699219, -0.10888672, -0.01251221,\n",
       "       -0.19042969, -0.36523438,  0.01446533, -0.15820312, -0.03759766,\n",
       "       -0.23828125,  0.01525879,  0.23339844,  0.11572266,  0.11523438], dtype=float32)"
      ]
     },
     "execution_count": 32,
     "metadata": {},
     "output_type": "execute_result"
    }
   ],
   "source": [
    "beverage_vectors[0][1]"
   ]
  },
  {
   "cell_type": "code",
   "execution_count": 38,
   "metadata": {},
   "outputs": [
    {
     "data": {
      "text/plain": [
       "[('IPA', 2.0834081172943115),\n",
       " ('Hefeweizen', 0.4371369183063507),\n",
       " ('Cola', 0.42915797233581543),\n",
       " ('Latte', 0.3974763751029968),\n",
       " ('Herbal Tea', 0.3242728114128113),\n",
       " ('Cappuccino', 0.3090534806251526),\n",
       " ('Goat Milk', 0.3050992488861084),\n",
       " ('Grape Juice', 0.28654414415359497),\n",
       " ('Milk', 0.27041053771972656),\n",
       " ('Coffee', 0.2670033872127533)]"
      ]
     },
     "execution_count": 38,
     "metadata": {},
     "output_type": "execute_result"
    }
   ],
   "source": [
    "def rank_beverages(beverage, topn=10):\n",
    "    for other in beverage_vectors:\n",
    "        if other[0].lower() == beverage.lower():\n",
    "            vec = other[1]\n",
    "            dists = np.dot(vectors, vec)\n",
    "            return [(beverage_vectors[idx][0], float(dists[idx])) \n",
    "                    for idx in reversed(np.argsort(dists)[-topn:])]\n",
    "    return []\n",
    "\n",
    "rank_beverages('ipa')"
   ]
  },
  {
   "cell_type": "code",
   "execution_count": null,
   "metadata": {
    "collapsed": true
   },
   "outputs": [],
   "source": []
  }
 ],
 "metadata": {
  "kernelspec": {
   "display_name": "Python 3",
   "language": "python",
   "name": "python3"
  },
  "language_info": {
   "codemirror_mode": {
    "name": "ipython",
    "version": 3
   },
   "file_extension": ".py",
   "mimetype": "text/x-python",
   "name": "python",
   "nbconvert_exporter": "python",
   "pygments_lexer": "ipython3",
   "version": "3.5.2"
  }
 },
 "nbformat": 4,
 "nbformat_minor": 1
}
