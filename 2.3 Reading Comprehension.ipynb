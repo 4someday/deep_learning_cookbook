{
 "cells": [
  {
   "cell_type": "code",
   "execution_count": 170,
   "metadata": {},
   "outputs": [],
   "source": [
    "import keras\n",
    "import nb_utils\n",
    "import numpy as np"
   ]
  },
  {
   "cell_type": "code",
   "execution_count": 2,
   "metadata": {
    "collapsed": true
   },
   "outputs": [],
   "source": [
    "squad_training = json.load(\n",
    "    open(nb_utils.download('https://rajpurkar.github.io/SQuAD-explorer/dataset/train-v1.1.json'))\n",
    ")"
   ]
  },
  {
   "cell_type": "markdown",
   "metadata": {},
   "source": [
    "## Converting our training data\n",
    "\n",
    "The squad training data is structured as a list of paragraphs, each with an associated set of questions.  Let's preprocess this a bit before we continue"
   ]
  },
  {
   "cell_type": "code",
   "execution_count": 226,
   "metadata": {},
   "outputs": [
    {
     "data": {
      "text/plain": [
       "{'context': 'Beyoncé Giselle Knowles-Carter (/biːˈjɒnseɪ/ bee-YON-say) (born September 4, 1981) is an American singer, songwriter, record producer and actress. Born and raised in Houston, Texas, she performed in various singing and dancing competitions as a child, and rose to fame in the late 1990s as lead singer of R&B girl-group Destiny\\'s Child. Managed by her father, Mathew Knowles, the group became one of the world\\'s best-selling girl groups of all time. Their hiatus saw the release of Beyoncé\\'s debut album, Dangerously in Love (2003), which established her as a solo artist worldwide, earned five Grammy Awards and featured the Billboard Hot 100 number-one singles \"Crazy in Love\" and \"Baby Boy\".',\n",
       " 'qas': [{'answers': [{'answer_start': 269, 'text': 'in the late 1990s'}],\n",
       "   'id': '56be85543aeaaa14008c9063',\n",
       "   'question': 'When did Beyonce start becoming popular?'},\n",
       "  {'answers': [{'answer_start': 207, 'text': 'singing and dancing'}],\n",
       "   'id': '56be85543aeaaa14008c9065',\n",
       "   'question': 'What areas did Beyonce compete in when she was growing up?'},\n",
       "  {'answers': [{'answer_start': 526, 'text': '2003'}],\n",
       "   'id': '56be85543aeaaa14008c9066',\n",
       "   'question': \"When did Beyonce leave Destiny's Child and become a solo singer?\"},\n",
       "  {'answers': [{'answer_start': 166, 'text': 'Houston, Texas'}],\n",
       "   'id': '56bf6b0f3aeaaa14008c9601',\n",
       "   'question': 'In what city and state did Beyonce  grow up? '},\n",
       "  {'answers': [{'answer_start': 276, 'text': 'late 1990s'}],\n",
       "   'id': '56bf6b0f3aeaaa14008c9602',\n",
       "   'question': 'In which decade did Beyonce become famous?'},\n",
       "  {'answers': [{'answer_start': 320, 'text': \"Destiny's Child\"}],\n",
       "   'id': '56bf6b0f3aeaaa14008c9603',\n",
       "   'question': 'In what R&B group was she the lead singer?'},\n",
       "  {'answers': [{'answer_start': 505, 'text': 'Dangerously in Love'}],\n",
       "   'id': '56bf6b0f3aeaaa14008c9604',\n",
       "   'question': 'What album made her a worldwide known artist?'},\n",
       "  {'answers': [{'answer_start': 360, 'text': 'Mathew Knowles'}],\n",
       "   'id': '56bf6b0f3aeaaa14008c9605',\n",
       "   'question': \"Who managed the Destiny's Child group?\"},\n",
       "  {'answers': [{'answer_start': 166, 'text': 'Houston'}],\n",
       "   'id': '56cef8faaab44d1400b88d67',\n",
       "   'question': 'In what city did Beyonce grow up?'},\n",
       "  {'answers': [{'answer_start': 505, 'text': 'Dangerously in Love'}],\n",
       "   'id': '56cef8faaab44d1400b88d68',\n",
       "   'question': \"What was the name of Beyonce's first solo album?\"},\n",
       "  {'answers': [{'answer_start': 64, 'text': 'September 4, 1981'}],\n",
       "   'id': '56cef8faaab44d1400b88d6a',\n",
       "   'question': 'On what date was Beyonce born?'},\n",
       "  {'answers': [{'answer_start': 0, 'text': 'Beyoncé Giselle Knowles-Carter'}],\n",
       "   'id': '56cef8faaab44d1400b88d6b',\n",
       "   'question': \"What is Beyonce's full name?\"},\n",
       "  {'answers': [{'answer_start': 276, 'text': 'late 1990s'}],\n",
       "   'id': '56d43c5f2ccc5a1400d830a9',\n",
       "   'question': 'When did Beyoncé rise to fame?'},\n",
       "  {'answers': [{'answer_start': 290, 'text': 'lead singer'}],\n",
       "   'id': '56d43c5f2ccc5a1400d830aa',\n",
       "   'question': \"What role did Beyoncé have in Destiny's Child?\"},\n",
       "  {'answers': [{'answer_start': 505, 'text': 'Dangerously in Love'}],\n",
       "   'id': '56d43c5f2ccc5a1400d830ab',\n",
       "   'question': 'What was the first album Beyoncé released as a solo artist?'},\n",
       "  {'answers': [{'answer_start': 526, 'text': '2003'}],\n",
       "   'id': '56d43c5f2ccc5a1400d830ac',\n",
       "   'question': 'When did Beyoncé release Dangerously in Love?'},\n",
       "  {'answers': [{'answer_start': 590, 'text': 'five'}],\n",
       "   'id': '56d43c5f2ccc5a1400d830ad',\n",
       "   'question': 'How many Grammy awards did Beyoncé win for her first solo album?'},\n",
       "  {'answers': [{'answer_start': 290, 'text': 'lead singer'}],\n",
       "   'id': '56d43ce42ccc5a1400d830b4',\n",
       "   'question': \"What was Beyoncé's role in Destiny's Child?\"},\n",
       "  {'answers': [{'answer_start': 505, 'text': 'Dangerously in Love'}],\n",
       "   'id': '56d43ce42ccc5a1400d830b5',\n",
       "   'question': \"What was the name of Beyoncé's first solo album?\"},\n",
       "  {'answers': [{'answer_start': 526, 'text': '2003'}],\n",
       "   'id': '56d43ce42ccc5a1400d830b6',\n",
       "   'question': 'When did Beyoncé release her first solo album?'}]}"
      ]
     },
     "execution_count": 226,
     "metadata": {},
     "output_type": "execute_result"
    }
   ],
   "source": [
    "squad_training['data'][1]['paragraphs'][0]"
   ]
  },
  {
   "cell_type": "code",
   "execution_count": 4,
   "metadata": {
    "collapsed": true
   },
   "outputs": [],
   "source": [
    "from keras.preprocessing.text import Tokenizer\n",
    "\n",
    "VOCAB_SIZE = 250000\n",
    "tokenizer = Tokenizer(num_words=VOCAB_SIZE)"
   ]
  },
  {
   "cell_type": "code",
   "execution_count": 5,
   "metadata": {
    "collapsed": true
   },
   "outputs": [],
   "source": [
    "all_text = []\n",
    "\n",
    "for article in squad_training['data']:\n",
    "    for p in article['paragraphs']:\n",
    "        all_text.append(p['context'])\n",
    "        for qa in p['qas']:\n",
    "            all_text.append(qa['question'])\n",
    "            \n",
    "tokenizer.fit_on_texts(all_text)"
   ]
  },
  {
   "cell_type": "code",
   "execution_count": 192,
   "metadata": {},
   "outputs": [],
   "source": [
    "question_tokens = []\n",
    "answer_locations = []\n",
    "context_tokens = []\n",
    "\n",
    "for article in squad_training['data']:\n",
    "    for p in article['paragraphs']:\n",
    "        ct = tokenizer.texts_to_sequences([p['context']])[0]\n",
    "\n",
    "        for qa in p['qas']:\n",
    "            qt = tokenizer.texts_to_sequences([qa['question']])[0]\n",
    "            at = tokenizer.texts_to_sequences([qa['answers'][0]['text']])[0]\n",
    "            for j in range(len(ct) - len(at)):\n",
    "                if ct[j:j+len(at)] == at:\n",
    "                    question_tokens.append(qt)\n",
    "                    answer_locations.append((j, j + len(a)))\n",
    "                    context_tokens.append(ct)\n",
    "                    break"
   ]
  },
  {
   "cell_type": "code",
   "execution_count": 7,
   "metadata": {},
   "outputs": [
    {
     "data": {
      "text/plain": [
       "[<matplotlib.axes._subplots.AxesSubplot at 0x12fd8df60>,\n",
       " <matplotlib.axes._subplots.AxesSubplot at 0x12fd8df60>,\n",
       " <matplotlib.axes._subplots.AxesSubplot at 0x12fd8df60>]"
      ]
     },
     "execution_count": 7,
     "metadata": {},
     "output_type": "execute_result"
    },
    {
     "data": {
      "image/png": "[encoded data removed]",
      "text/plain": [
       "<matplotlib.figure.Figure at 0x12ac54668>"
      ]
     },
     "metadata": {},
     "output_type": "display_data"
    }
   ],
   "source": [
    "%matplotlib inline\n",
    "import seaborn\n",
    "[\n",
    "    seaborn.distplot([len(s) for s in context_tokens], kde=False),\n",
    "    seaborn.distplot([len(s) for s in question_tokens], kde=False),\n",
    "    seaborn.distplot([len(s) for s in answer_tokens], kde=False),\n",
    "]"
   ]
  },
  {
   "cell_type": "code",
   "execution_count": 220,
   "metadata": {
    "collapsed": true
   },
   "outputs": [],
   "source": [
    "import random\n",
    "from keras.preprocessing.sequence import pad_sequences\n",
    "from keras.preprocessing.text import one_hot\n",
    "\n",
    "def training_generator(bs=2):\n",
    "    while True:\n",
    "        batch_q = []\n",
    "        batch_c = []\n",
    "        start_idx = []\n",
    "        end_idx = []\n",
    "\n",
    "        idx = np.random.randint(0, len(context_tokens) - 1, size=bs)\n",
    "        for i in idx:\n",
    "            batch_q.append(question_tokens[i])\n",
    "            batch_c.append(context_tokens[i])\n",
    "            start_idx.append(answer_locations[i][0])\n",
    "            end_idx.append(answer_locations[i][1])\n",
    "        \n",
    "        batch_q = pad_sequences(batch_q)\n",
    "        batch_c = pad_sequences(batch_c)\n",
    "        onehot_start = np.zeros_like(batch_c)\n",
    "        onehot_end = np.zeros_like(batch_c)\n",
    "        onehot_start[np.arange(len(start_idx)), start_idx] = 1\n",
    "        onehot_end[np.arange(len(start_idx)), end_idx] = 1\n",
    "        \n",
    "        yield ({\n",
    "            'question': batch_q,\n",
    "            'context': batch_c,\n",
    "        }, {\n",
    "            'start_idx': onehot_start,\n",
    "            'end_idx': onehot_end,\n",
    "        })\n",
    "\n",
    "        \n",
    "tg = training_generator(5)\n",
    "for i in range(10):\n",
    "    x = next(tg)"
   ]
  },
  {
   "cell_type": "code",
   "execution_count": 224,
   "metadata": {
    "scrolled": false
   },
   "outputs": [
    {
     "name": "stdout",
     "output_type": "stream",
     "text": [
      "(None, None, None)\n",
      "(None, None, None)\n",
      "(None, None, None)\n",
      "(None, None, None)\n",
      "____________________________________________________________________________________________________\n",
      "Layer (type)                     Output Shape          Param #     Connected to                     \n",
      "====================================================================================================\n",
      "context (InputLayer)             (None, None)          0                                            \n",
      "____________________________________________________________________________________________________\n",
      "question (InputLayer)            (None, None)          0                                            \n",
      "____________________________________________________________________________________________________\n",
      "embedding_127 (Embedding)        (None, None, 50)      4594450     question[0][0]                   \n",
      "                                                                   context[0][0]                    \n",
      "____________________________________________________________________________________________________\n",
      "lstm_316 (LSTM)                  (None, None, 50)      20200       embedding_127[1][0]              \n",
      "____________________________________________________________________________________________________\n",
      "lstm_315 (LSTM)                  (None, None, 50)      20200       embedding_127[0][0]              \n",
      "____________________________________________________________________________________________________\n",
      "lambda_220 (Lambda)              (None, None, 50)      0           lstm_315[0][0]                   \n",
      "                                                                   lstm_316[0][0]                   \n",
      "____________________________________________________________________________________________________\n",
      "lambda_221 (Lambda)              (None, None, 50)      0           lstm_315[0][0]                   \n",
      "                                                                   lstm_316[0][0]                   \n",
      "____________________________________________________________________________________________________\n",
      "multiply_82 (Multiply)           (None, None, 50)      0           lambda_220[0][0]                 \n",
      "                                                                   lstm_316[0][0]                   \n",
      "____________________________________________________________________________________________________\n",
      "multiply_83 (Multiply)           (None, None, 50)      0           lambda_221[0][0]                 \n",
      "                                                                   lstm_316[0][0]                   \n",
      "____________________________________________________________________________________________________\n",
      "concatenate_102 (Concatenate)    (None, None, 200)     0           lstm_316[0][0]                   \n",
      "                                                                   lambda_220[0][0]                 \n",
      "                                                                   multiply_82[0][0]                \n",
      "                                                                   multiply_83[0][0]                \n",
      "____________________________________________________________________________________________________\n",
      "bidirectional_63 (Bidirectional) (None, None, 100)     100400      concatenate_102[0][0]            \n",
      "____________________________________________________________________________________________________\n",
      "bidirectional_64 (Bidirectional) (None, None, 100)     60400       bidirectional_63[0][0]           \n",
      "____________________________________________________________________________________________________\n",
      "concatenate_103 (Concatenate)    (None, None, 300)     0           bidirectional_63[0][0]           \n",
      "                                                                   concatenate_102[0][0]            \n",
      "____________________________________________________________________________________________________\n",
      "concatenate_104 (Concatenate)    (None, None, 300)     0           bidirectional_64[0][0]           \n",
      "                                                                   concatenate_102[0][0]            \n",
      "____________________________________________________________________________________________________\n",
      "time_distributed_61 (TimeDistrib (None, None, 1)       301         concatenate_103[0][0]            \n",
      "____________________________________________________________________________________________________\n",
      "time_distributed_62 (TimeDistrib (None, None, 1)       301         concatenate_104[0][0]            \n",
      "____________________________________________________________________________________________________\n",
      "start_idx (Lambda)               (None, None)          0           time_distributed_61[0][0]        \n",
      "____________________________________________________________________________________________________\n",
      "end_idx (Lambda)                 (None, None)          0           time_distributed_62[0][0]        \n",
      "====================================================================================================\n",
      "Total params: 4,796,252\n",
      "Trainable params: 4,796,252\n",
      "Non-trainable params: 0\n",
      "____________________________________________________________________________________________________\n"
     ]
    }
   ],
   "source": [
    "import tensorflow as tf\n",
    "from keras.layers.merge import concatenate\n",
    "from keras import layers, models\n",
    "from keras.layers import Bidirectional, LSTM\n",
    "import keras.backend as K\n",
    "\n",
    "HIDDEN_SIZE = 50\n",
    "EMBEDDING_SIZE = 50\n",
    "\n",
    "def model(weights):\n",
    "    question = layers.Input(name='question', dtype='int32', shape=(None,))\n",
    "    context = layers.Input(name='context', dtype='int32', shape=(None,))\n",
    "    \n",
    "    embedding = layers.Embedding(\n",
    "        mask_zero=True,\n",
    "        input_dim=min(len(tokenizer.word_index), VOCAB_SIZE),\n",
    "        output_dim=EMBEDDING_SIZE,\n",
    "    )\n",
    "    \n",
    "    # Keras/Tensorflow doesn't have a builtin for outer products.  We\n",
    "    # can abuse how broadcasting works to accomplish it, by adding \n",
    "    # empty extra dimensions in the right places.\n",
    "    def outer_product(x, y):\n",
    "        batch_size = K.shape(x)[0]\n",
    "        w = K.shape(x)[1]\n",
    "        h = K.shape(y)[1]\n",
    "        outer_product = K.batch_dot(x, y, axes=(2,2))\n",
    "        print(K.int_shape(outer_product))\n",
    "#         outer_product = K.reshape(outer_product, (batch_size, w, h))\n",
    "        return outer_product\n",
    "    \n",
    "    def context2query(inputs):\n",
    "        question, context = inputs\n",
    "        op = outer_product(question, context)\n",
    "        e = K.exp(op - K.max(op, axis=2, keepdims=True))\n",
    "        s = K.sum(op, axis=2, keepdims=True)\n",
    "        softmax = e / s\n",
    "        \n",
    "        question = K.expand_dims(question, axis=2)\n",
    "        attention = K.expand_dims(softmax, axis=-1) * question\n",
    "        return K.sum(attention, axis=1)\n",
    "\n",
    "    def query2context(inputs):\n",
    "        question, context = inputs\n",
    "        op = outer_product(question, context)\n",
    "        attention = K.softmax(K.max(op, axis=1))\n",
    "        return context * K.expand_dims(attention, axis=-1)\n",
    "\n",
    "    encoded_question = Bidirectional(LSTM(units=HIDDEN_SIZE, return_sequences=True), merge_mode='concat')(embedding(question))\n",
    "    encoded_context = Bidirectional(LSTM(units=HIDDEN_SIZE, return_sequences=True), merge_mode='concat')(embedding(context))\n",
    "\n",
    "    # Take the softmax over the question, and sum the encoded contexts:\n",
    "    c2q = layers.Lambda(context2query)([encoded_question, encoded_context])\n",
    "    q2c = layers.Lambda(query2context)([encoded_question, encoded_context])\n",
    "    G = concatenate([encoded_context, \n",
    "                      c2q, \n",
    "                      layers.Multiply()([c2q, encoded_context]),\n",
    "                      layers.Multiply()([q2c, encoded_context]),\n",
    "                     ])\n",
    "\n",
    "    def flat_softmax(inputs):\n",
    "        return K.softmax(K.batch_flatten(inputs))\n",
    "    \n",
    "    M = Bidirectional(LSTM(units=HIDDEN_SIZE, return_sequences=True), merge_mode='concat')(G)\n",
    "    start_idx = layers.TimeDistributed(layers.Dense(units=1))(concatenate([M, G]))\n",
    "    start_idx = layers.Lambda(flat_softmax, name='start_idx')(start_idx)\n",
    "    \n",
    "    M2 = Bidirectional(LSTM(units=HIDDEN_SIZE, return_sequences=True), merge_mode='concat')(M)\n",
    "    end_idx = layers.TimeDistributed(layers.Dense(units=1))(concatenate([M2, G]))\n",
    "    end_idx = layers.Lambda(flat_softmax, name='end_idx')(end_idx)\n",
    "    model = models.Model(inputs=[question, context],\n",
    "                        outputs=[start_idx, end_idx])\n",
    "    \n",
    "    def idx_loss(y_true, y_pred):\n",
    "        \"Negative log loss for the true index.  y_true must be passed in as a one-hot vector.\"\n",
    "        return K.categorical_crossentropy(y_pred, y_true)\n",
    "    \n",
    "    model.compile(\n",
    "        metrics=['accuracy'],\n",
    "        optimizer='adam',\n",
    "        loss={'start_idx': 'categorical_crossentropy', 'end_idx': 'categorical_crossentropy'},\n",
    "    )\n",
    "    return model\n",
    "    \n",
    "    \n",
    "m = model(weights=None)\n",
    "m.summary()"
   ]
  },
  {
   "cell_type": "code",
   "execution_count": 225,
   "metadata": {},
   "outputs": [
    {
     "name": "stdout",
     "output_type": "stream",
     "text": [
      "Epoch 1/10\n",
      "  40/1000 [>.............................] - ETA: 1386s - loss: 9.5923 - start_idx_loss: 4.7993 - end_idx_loss: 4.7929 - start_idx_acc: 0.0000e+00 - end_idx_acc: 0.0250"
     ]
    },
    {
     "ename": "KeyboardInterrupt",
     "evalue": "",
     "output_type": "error",
     "traceback": [
      "\u001b[0;31m---------------------------------------------------------------------------\u001b[0m",
      "\u001b[0;31mKeyboardInterrupt\u001b[0m                         Traceback (most recent call last)",
      "\u001b[0;32m<ipython-input-225-d6f0a2f2c86a>\u001b[0m in \u001b[0;36m<module>\u001b[0;34m()\u001b[0m\n\u001b[0;32m----> 1\u001b[0;31m \u001b[0mm\u001b[0m\u001b[0;34m.\u001b[0m\u001b[0mfit_generator\u001b[0m\u001b[0;34m(\u001b[0m\u001b[0mtraining_generator\u001b[0m\u001b[0;34m(\u001b[0m\u001b[0mbs\u001b[0m\u001b[0;34m=\u001b[0m\u001b[0;36m1\u001b[0m\u001b[0;34m)\u001b[0m\u001b[0;34m,\u001b[0m \u001b[0msteps_per_epoch\u001b[0m\u001b[0;34m=\u001b[0m\u001b[0;36m1000\u001b[0m\u001b[0;34m,\u001b[0m \u001b[0mepochs\u001b[0m\u001b[0;34m=\u001b[0m\u001b[0;36m10\u001b[0m\u001b[0;34m)\u001b[0m\u001b[0;34m\u001b[0m\u001b[0m\n\u001b[0m",
      "\u001b[0;32m/Users/power/anaconda3/lib/python3.5/site-packages/keras/legacy/interfaces.py\u001b[0m in \u001b[0;36mwrapper\u001b[0;34m(*args, **kwargs)\u001b[0m\n\u001b[1;32m     85\u001b[0m                 warnings.warn('Update your `' + object_name +\n\u001b[1;32m     86\u001b[0m                               '` call to the Keras 2 API: ' + signature, stacklevel=2)\n\u001b[0;32m---> 87\u001b[0;31m             \u001b[0;32mreturn\u001b[0m \u001b[0mfunc\u001b[0m\u001b[0;34m(\u001b[0m\u001b[0;34m*\u001b[0m\u001b[0margs\u001b[0m\u001b[0;34m,\u001b[0m \u001b[0;34m**\u001b[0m\u001b[0mkwargs\u001b[0m\u001b[0;34m)\u001b[0m\u001b[0;34m\u001b[0m\u001b[0m\n\u001b[0m\u001b[1;32m     88\u001b[0m         \u001b[0mwrapper\u001b[0m\u001b[0;34m.\u001b[0m\u001b[0m_original_function\u001b[0m \u001b[0;34m=\u001b[0m \u001b[0mfunc\u001b[0m\u001b[0;34m\u001b[0m\u001b[0m\n\u001b[1;32m     89\u001b[0m         \u001b[0;32mreturn\u001b[0m \u001b[0mwrapper\u001b[0m\u001b[0;34m\u001b[0m\u001b[0m\n",
      "\u001b[0;32m/Users/power/anaconda3/lib/python3.5/site-packages/keras/engine/training.py\u001b[0m in \u001b[0;36mfit_generator\u001b[0;34m(self, generator, steps_per_epoch, epochs, verbose, callbacks, validation_data, validation_steps, class_weight, max_queue_size, workers, use_multiprocessing, initial_epoch)\u001b[0m\n\u001b[1;32m   1838\u001b[0m                     outs = self.train_on_batch(x, y,\n\u001b[1;32m   1839\u001b[0m                                                \u001b[0msample_weight\u001b[0m\u001b[0;34m=\u001b[0m\u001b[0msample_weight\u001b[0m\u001b[0;34m,\u001b[0m\u001b[0;34m\u001b[0m\u001b[0m\n\u001b[0;32m-> 1840\u001b[0;31m                                                class_weight=class_weight)\n\u001b[0m\u001b[1;32m   1841\u001b[0m \u001b[0;34m\u001b[0m\u001b[0m\n\u001b[1;32m   1842\u001b[0m                     \u001b[0;32mif\u001b[0m \u001b[0;32mnot\u001b[0m \u001b[0misinstance\u001b[0m\u001b[0;34m(\u001b[0m\u001b[0mouts\u001b[0m\u001b[0;34m,\u001b[0m \u001b[0mlist\u001b[0m\u001b[0;34m)\u001b[0m\u001b[0;34m:\u001b[0m\u001b[0;34m\u001b[0m\u001b[0m\n",
      "\u001b[0;32m/Users/power/anaconda3/lib/python3.5/site-packages/keras/engine/training.py\u001b[0m in \u001b[0;36mtrain_on_batch\u001b[0;34m(self, x, y, sample_weight, class_weight)\u001b[0m\n\u001b[1;32m   1563\u001b[0m             \u001b[0mins\u001b[0m \u001b[0;34m=\u001b[0m \u001b[0mx\u001b[0m \u001b[0;34m+\u001b[0m \u001b[0my\u001b[0m \u001b[0;34m+\u001b[0m \u001b[0msample_weights\u001b[0m\u001b[0;34m\u001b[0m\u001b[0m\n\u001b[1;32m   1564\u001b[0m         \u001b[0mself\u001b[0m\u001b[0;34m.\u001b[0m\u001b[0m_make_train_function\u001b[0m\u001b[0;34m(\u001b[0m\u001b[0;34m)\u001b[0m\u001b[0;34m\u001b[0m\u001b[0m\n\u001b[0;32m-> 1565\u001b[0;31m         \u001b[0moutputs\u001b[0m \u001b[0;34m=\u001b[0m \u001b[0mself\u001b[0m\u001b[0;34m.\u001b[0m\u001b[0mtrain_function\u001b[0m\u001b[0;34m(\u001b[0m\u001b[0mins\u001b[0m\u001b[0;34m)\u001b[0m\u001b[0;34m\u001b[0m\u001b[0m\n\u001b[0m\u001b[1;32m   1566\u001b[0m         \u001b[0;32mif\u001b[0m \u001b[0mlen\u001b[0m\u001b[0;34m(\u001b[0m\u001b[0moutputs\u001b[0m\u001b[0;34m)\u001b[0m \u001b[0;34m==\u001b[0m \u001b[0;36m1\u001b[0m\u001b[0;34m:\u001b[0m\u001b[0;34m\u001b[0m\u001b[0m\n\u001b[1;32m   1567\u001b[0m             \u001b[0;32mreturn\u001b[0m \u001b[0moutputs\u001b[0m\u001b[0;34m[\u001b[0m\u001b[0;36m0\u001b[0m\u001b[0;34m]\u001b[0m\u001b[0;34m\u001b[0m\u001b[0m\n",
      "\u001b[0;32m/Users/power/anaconda3/lib/python3.5/site-packages/keras/backend/tensorflow_backend.py\u001b[0m in \u001b[0;36m__call__\u001b[0;34m(self, inputs)\u001b[0m\n\u001b[1;32m   2266\u001b[0m         updated = session.run(self.outputs + [self.updates_op],\n\u001b[1;32m   2267\u001b[0m                               \u001b[0mfeed_dict\u001b[0m\u001b[0;34m=\u001b[0m\u001b[0mfeed_dict\u001b[0m\u001b[0;34m,\u001b[0m\u001b[0;34m\u001b[0m\u001b[0m\n\u001b[0;32m-> 2268\u001b[0;31m                               **self.session_kwargs)\n\u001b[0m\u001b[1;32m   2269\u001b[0m         \u001b[0;32mreturn\u001b[0m \u001b[0mupdated\u001b[0m\u001b[0;34m[\u001b[0m\u001b[0;34m:\u001b[0m\u001b[0mlen\u001b[0m\u001b[0;34m(\u001b[0m\u001b[0mself\u001b[0m\u001b[0;34m.\u001b[0m\u001b[0moutputs\u001b[0m\u001b[0;34m)\u001b[0m\u001b[0;34m]\u001b[0m\u001b[0;34m\u001b[0m\u001b[0m\n\u001b[1;32m   2270\u001b[0m \u001b[0;34m\u001b[0m\u001b[0m\n",
      "\u001b[0;32m/Users/power/anaconda3/lib/python3.5/site-packages/tensorflow/python/client/session.py\u001b[0m in \u001b[0;36mrun\u001b[0;34m(self, fetches, feed_dict, options, run_metadata)\u001b[0m\n\u001b[1;32m    787\u001b[0m     \u001b[0;32mtry\u001b[0m\u001b[0;34m:\u001b[0m\u001b[0;34m\u001b[0m\u001b[0m\n\u001b[1;32m    788\u001b[0m       result = self._run(None, fetches, feed_dict, options_ptr,\n\u001b[0;32m--> 789\u001b[0;31m                          run_metadata_ptr)\n\u001b[0m\u001b[1;32m    790\u001b[0m       \u001b[0;32mif\u001b[0m \u001b[0mrun_metadata\u001b[0m\u001b[0;34m:\u001b[0m\u001b[0;34m\u001b[0m\u001b[0m\n\u001b[1;32m    791\u001b[0m         \u001b[0mproto_data\u001b[0m \u001b[0;34m=\u001b[0m \u001b[0mtf_session\u001b[0m\u001b[0;34m.\u001b[0m\u001b[0mTF_GetBuffer\u001b[0m\u001b[0;34m(\u001b[0m\u001b[0mrun_metadata_ptr\u001b[0m\u001b[0;34m)\u001b[0m\u001b[0;34m\u001b[0m\u001b[0m\n",
      "\u001b[0;32m/Users/power/anaconda3/lib/python3.5/site-packages/tensorflow/python/client/session.py\u001b[0m in \u001b[0;36m_run\u001b[0;34m(self, handle, fetches, feed_dict, options, run_metadata)\u001b[0m\n\u001b[1;32m    995\u001b[0m     \u001b[0;32mif\u001b[0m \u001b[0mfinal_fetches\u001b[0m \u001b[0;32mor\u001b[0m \u001b[0mfinal_targets\u001b[0m\u001b[0;34m:\u001b[0m\u001b[0;34m\u001b[0m\u001b[0m\n\u001b[1;32m    996\u001b[0m       results = self._do_run(handle, final_targets, final_fetches,\n\u001b[0;32m--> 997\u001b[0;31m                              feed_dict_string, options, run_metadata)\n\u001b[0m\u001b[1;32m    998\u001b[0m     \u001b[0;32melse\u001b[0m\u001b[0;34m:\u001b[0m\u001b[0;34m\u001b[0m\u001b[0m\n\u001b[1;32m    999\u001b[0m       \u001b[0mresults\u001b[0m \u001b[0;34m=\u001b[0m \u001b[0;34m[\u001b[0m\u001b[0;34m]\u001b[0m\u001b[0;34m\u001b[0m\u001b[0m\n",
      "\u001b[0;32m/Users/power/anaconda3/lib/python3.5/site-packages/tensorflow/python/client/session.py\u001b[0m in \u001b[0;36m_do_run\u001b[0;34m(self, handle, target_list, fetch_list, feed_dict, options, run_metadata)\u001b[0m\n\u001b[1;32m   1130\u001b[0m     \u001b[0;32mif\u001b[0m \u001b[0mhandle\u001b[0m \u001b[0;32mis\u001b[0m \u001b[0;32mNone\u001b[0m\u001b[0;34m:\u001b[0m\u001b[0;34m\u001b[0m\u001b[0m\n\u001b[1;32m   1131\u001b[0m       return self._do_call(_run_fn, self._session, feed_dict, fetch_list,\n\u001b[0;32m-> 1132\u001b[0;31m                            target_list, options, run_metadata)\n\u001b[0m\u001b[1;32m   1133\u001b[0m     \u001b[0;32melse\u001b[0m\u001b[0;34m:\u001b[0m\u001b[0;34m\u001b[0m\u001b[0m\n\u001b[1;32m   1134\u001b[0m       return self._do_call(_prun_fn, self._session, handle, feed_dict,\n",
      "\u001b[0;32m/Users/power/anaconda3/lib/python3.5/site-packages/tensorflow/python/client/session.py\u001b[0m in \u001b[0;36m_do_call\u001b[0;34m(self, fn, *args)\u001b[0m\n\u001b[1;32m   1137\u001b[0m   \u001b[0;32mdef\u001b[0m \u001b[0m_do_call\u001b[0m\u001b[0;34m(\u001b[0m\u001b[0mself\u001b[0m\u001b[0;34m,\u001b[0m \u001b[0mfn\u001b[0m\u001b[0;34m,\u001b[0m \u001b[0;34m*\u001b[0m\u001b[0margs\u001b[0m\u001b[0;34m)\u001b[0m\u001b[0;34m:\u001b[0m\u001b[0;34m\u001b[0m\u001b[0m\n\u001b[1;32m   1138\u001b[0m     \u001b[0;32mtry\u001b[0m\u001b[0;34m:\u001b[0m\u001b[0;34m\u001b[0m\u001b[0m\n\u001b[0;32m-> 1139\u001b[0;31m       \u001b[0;32mreturn\u001b[0m \u001b[0mfn\u001b[0m\u001b[0;34m(\u001b[0m\u001b[0;34m*\u001b[0m\u001b[0margs\u001b[0m\u001b[0;34m)\u001b[0m\u001b[0;34m\u001b[0m\u001b[0m\n\u001b[0m\u001b[1;32m   1140\u001b[0m     \u001b[0;32mexcept\u001b[0m \u001b[0merrors\u001b[0m\u001b[0;34m.\u001b[0m\u001b[0mOpError\u001b[0m \u001b[0;32mas\u001b[0m \u001b[0me\u001b[0m\u001b[0;34m:\u001b[0m\u001b[0;34m\u001b[0m\u001b[0m\n\u001b[1;32m   1141\u001b[0m       \u001b[0mmessage\u001b[0m \u001b[0;34m=\u001b[0m \u001b[0mcompat\u001b[0m\u001b[0;34m.\u001b[0m\u001b[0mas_text\u001b[0m\u001b[0;34m(\u001b[0m\u001b[0me\u001b[0m\u001b[0;34m.\u001b[0m\u001b[0mmessage\u001b[0m\u001b[0;34m)\u001b[0m\u001b[0;34m\u001b[0m\u001b[0m\n",
      "\u001b[0;32m/Users/power/anaconda3/lib/python3.5/site-packages/tensorflow/python/client/session.py\u001b[0m in \u001b[0;36m_run_fn\u001b[0;34m(session, feed_dict, fetch_list, target_list, options, run_metadata)\u001b[0m\n\u001b[1;32m   1119\u001b[0m         return tf_session.TF_Run(session, options,\n\u001b[1;32m   1120\u001b[0m                                  \u001b[0mfeed_dict\u001b[0m\u001b[0;34m,\u001b[0m \u001b[0mfetch_list\u001b[0m\u001b[0;34m,\u001b[0m \u001b[0mtarget_list\u001b[0m\u001b[0;34m,\u001b[0m\u001b[0;34m\u001b[0m\u001b[0m\n\u001b[0;32m-> 1121\u001b[0;31m                                  status, run_metadata)\n\u001b[0m\u001b[1;32m   1122\u001b[0m \u001b[0;34m\u001b[0m\u001b[0m\n\u001b[1;32m   1123\u001b[0m     \u001b[0;32mdef\u001b[0m \u001b[0m_prun_fn\u001b[0m\u001b[0;34m(\u001b[0m\u001b[0msession\u001b[0m\u001b[0;34m,\u001b[0m \u001b[0mhandle\u001b[0m\u001b[0;34m,\u001b[0m \u001b[0mfeed_dict\u001b[0m\u001b[0;34m,\u001b[0m \u001b[0mfetch_list\u001b[0m\u001b[0;34m)\u001b[0m\u001b[0;34m:\u001b[0m\u001b[0;34m\u001b[0m\u001b[0m\n",
      "\u001b[0;31mKeyboardInterrupt\u001b[0m: "
     ]
    }
   ],
   "source": [
    "m.fit_generator(training_generator(bs=1), steps_per_epoch=1000, epochs=10)"
   ]
  }
 ],
 "metadata": {
  "anaconda-cloud": {},
  "kernelspec": {
   "display_name": "Python [conda root]",
   "language": "python",
   "name": "conda-root-py"
  },
  "language_info": {
   "codemirror_mode": {
    "name": "ipython",
    "version": 3
   },
   "file_extension": ".py",
   "mimetype": "text/x-python",
   "name": "python",
   "nbconvert_exporter": "python",
   "pygments_lexer": "ipython3",
   "version": "3.5.2"
  }
 },
 "nbformat": 4,
 "nbformat_minor": 1
}
