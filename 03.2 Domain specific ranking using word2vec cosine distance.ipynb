{
 "cells": [
  {
   "cell_type": "code",
   "execution_count": 19,
   "metadata": {},
   "outputs": [],
   "source": [
    "%matplotlib inline\n",
    "\n",
    "from __future__ import print_function\n",
    "from sklearn import svm\n",
    "import os\n",
    "import gensim\n",
    "import json\n",
    "import numpy as np\n",
    "import matplotlib.pyplot as plt\n",
    "import random\n",
    "import requests\n",
    "from IPython.display import HTML"
   ]
  },
  {
   "cell_type": "code",
   "execution_count": 2,
   "metadata": {
    "collapsed": true
   },
   "outputs": [],
   "source": [
    "MODEL = 'GoogleNews-vectors-negative300.bin'\n",
    "if not os.path.isfile(MODEL):\n",
    "  with open(MODEL, 'wb') as fout:\n",
    "    path = 'https://s3.amazonaws.com/dl4j-distribution/%s.gz' % MODEL\n",
    "    curl = subprocess.Popen(['curl', path],\n",
    "                           stdout=subprocess.PIPE).stdout\n",
    "    zcat = subprocess.Popen(['zcat'],\n",
    "                          stdin=curl,\n",
    "                          stdout=fout\n",
    "                         )\n",
    "    zcat.wait()"
   ]
  },
  {
   "cell_type": "code",
   "execution_count": 3,
   "metadata": {},
   "outputs": [
    {
     "data": {
      "text/plain": [
       "[(u'Argentina', 0.6674915552139282),\n",
       " (u'South_Africa', 0.6387202739715576),\n",
       " (u'Portugal', 0.6178219318389893),\n",
       " (u'China', 0.6163622736930847),\n",
       " (u'Poland', 0.6154980063438416),\n",
       " (u'Europe', 0.6070772409439087),\n",
       " (u'Japan', 0.604107677936554),\n",
       " (u'Uruguay', 0.6010408997535706),\n",
       " (u'South_Korea', 0.5988144874572754),\n",
       " (u'United_States', 0.5964299440383911)]"
      ]
     },
     "execution_count": 3,
     "metadata": {},
     "output_type": "execute_result"
    }
   ],
   "source": [
    "model = gensim.models.KeyedVectors.load_word2vec_format(MODEL, binary=True)\n",
    "model.most_similar(positive=['Germany', 'India', 'Brazil'])"
   ]
  },
  {
   "cell_type": "code",
   "execution_count": 4,
   "metadata": {
    "collapsed": true
   },
   "outputs": [],
   "source": [
    "COUNTRIES = {'Canada': 'ca', 'Turkmenistan': 'tm', 'Vatican': 'va', 'Lithuania': 'lt', 'Cambodia': 'kh',\n",
    "             'Ethiopia': 'et', 'Aruba': 'aw', 'Swaziland': 'sz', 'Argentina': 'ar', 'Bolivia': 'bo', 'Cameroon': 'cm',\n",
    "             'Ghana': 'gh', 'Japan': 'jp', 'Slovenia': 'si', 'Guatemala': 'gt', 'Kuwait': 'kw', 'Jordan': 'jo',\n",
    "             'UAE': 'ae', 'Spain': 'es', 'Western_Sahara': 'eh', 'Liberia': 'lr', 'Maldives': 'mv', 'East_Timor': 'tl',\n",
    "             'Pakistan': 'pk', 'Oman': 'om', 'Tanzania': 'tz', 'Zambia': 'zm', 'North_Korea': 'kp', 'Albania': 'al',\n",
    "             'Gabon': 'ga', 'Finland': 'fi', 'Monaco': 'mc', 'Samoa': 'ws', 'Yemen': 'ye', 'Jamaica': 'jm',\n",
    "             'Greenland': 'gl', 'England': 'uk', 'Ivory_Coast': 'ci', 'Guam': 'gu', 'Uruguay': 'uy', 'India': 'in',\n",
    "             'Azerbaijan': 'az', 'Solomon_Islands': 'sb', 'Kenya': 'ke', 'Tajikistan': 'tj', 'Turkey': 'tr',\n",
    "             'Afghanistan': 'af', 'Bangladesh': 'bd', 'Mauritania': 'mr', 'Mongolia': 'mn',\n",
    "             'France': 'fr', 'Bermuda': 'bm', 'Slovakia': 'sk', 'Somalia': 'so', 'Peru': 'pe', 'Laos': 'la',\n",
    "             'Norway': 'no', 'Czech_Republic': 'cz', 'Benin': 'bj', 'Cuba': 'cu', 'South_Africa': 'za',\n",
    "             'Montenegro': 'me', 'Togo': 'tg', 'China': 'cn', 'Armenia': 'am', 'Ukraine': 'ua', 'Bahrain': 'bh',\n",
    "             'Tonga': 'to', 'French_Guiana': 'gf', 'Libya': 'ly', 'Indonesia': 'id', 'Mauritius': 'mu', 'Sweden': 'se',\n",
    "             'Belarus': 'by', 'Equatorial_Guinea': 'gq', 'Mali': 'ml', 'Russia': 'ru', 'Bulgaria': 'bg', 'Papua': 'pg',\n",
    "             'Romania': 'ro', 'Angola': 'ao', 'Chad': 'td', 'Cyprus': 'cy', 'Puerto_Rico': 'pr', 'Malaysia': 'my',\n",
    "             'Austria': 'at', 'Vietnam': 'vn', 'Mozambique': 'mz', 'Uganda': 'ug', 'Hungary': 'hu', 'Niger': 'ne',\n",
    "             'Brazil': 'br', 'Dominican_Republic': 'do', 'Guinea': 'gn', 'Panama': 'pa', 'Qatar': 'qa',\n",
    "             'Luxembourg': 'lu', 'Bahamas': 'bs', 'Ireland': 'ie', 'Nigeria': 'ng', 'Ecuador': 'ec', 'Brunei': 'bn',\n",
    "             'Australia': 'au', 'Iran': 'ir', 'Algeria': 'dz', 'Svalbard': 'sj', 'Chile': 'cl', 'Belgium': 'be',\n",
    "             'Thailand': 'th', 'Haiti': 'ht', 'Belize': 'bz', 'Georgia': 'ge', 'Gambia': 'gm', 'Poland': 'pl',\n",
    "             'Moldova': 'md', 'Morocco': 'ma', 'Croatia': 'hr', 'Switzerland': 'ch', 'Iraq': 'iq', 'Sierra_Leone': 'sl',\n",
    "             'Portugal': 'pt', 'Estonia': 'ee', 'Kosovo': 'xk', 'Lebanon': 'lb', 'America': 'us', 'Uzbekistan': 'uz',\n",
    "             'Tunisia': 'tn', 'Djibouti': 'dj', 'Rwanda': 'rw', 'Saudi_Arabia': 'sa', 'Colombia': 'co', 'Burundi': 'bi',\n",
    "             'Sri_Lanka': 'lk', 'Taiwan': 'tw', 'Fiji': 'fj', 'Barbados': 'bb', 'Madagascar': 'mg', 'Italy': 'it',\n",
    "             'Virgin_Islands': 'vi', 'Bhutan': 'bt', 'Sudan': 'sd', 'Nepal': 'np', 'Malta': 'mt', 'Malawi': 'mw',\n",
    "             'Netherlands': 'nl', 'Suriname': 'sr', 'Lesotho': 'ls', 'Venezuela': 've', 'South_Korea': 'kr',\n",
    "             'Israel': 'il', 'Iceland': 'is', 'Burkina_Faso': 'bf', 'Senegal': 'sn', 'El_Salvador': 'sv',\n",
    "             'Zimbabwe': 'zw', 'Germany': 'de', 'Denmark': 'dk', 'Kazakhstan': 'kz', 'Philippines': 'ph',\n",
    "             'Eritrea': 'er', 'Kyrgyzstan': 'kg', 'Bosnia': 'ba', 'New_Zealand': 'nz', 'Macedonia': 'mk',\n",
    "             'Latvia': 'lv', 'Guyana': 'gy', 'Syria': 'sy', 'Gaza_Strip': 'ps', 'Honduras': 'hn', 'Myanmar': 'mm',\n",
    "             'Mexico': 'mx', 'Egypt': 'eg', 'Nicaragua': 'ni', 'Singapore': 'sg', 'Serbia': 'rs', 'Botswana': 'bw',\n",
    "             'Antarctica': 'aq', 'Congo': 'cd', 'Greece': 'gr', 'Paraguay': 'py', 'Namibia': 'na', 'Costa_Rica': 'cr',\n",
    "             'Comoros': 'km', 'Cayman_Islands': 'ky'}"
   ]
  },
  {
   "cell_type": "code",
   "execution_count": 5,
   "metadata": {
    "collapsed": true
   },
   "outputs": [],
   "source": [
    "positive = list(COUNTRIES.keys())\n",
    "random.shuffle(positive)\n",
    "positive = positive[:40]"
   ]
  },
  {
   "cell_type": "code",
   "execution_count": 6,
   "metadata": {},
   "outputs": [
    {
     "data": {
      "text/plain": [
       "[u'Gush_Shalom_Peace', u'La_Rabassa', u'coagulase', u'RIS_LeaderBoard']"
      ]
     },
     "execution_count": 6,
     "metadata": {},
     "output_type": "execute_result"
    }
   ],
   "source": [
    "negative = random.sample(model.vocab.keys(), 5000)\n",
    "negative[:4]"
   ]
  },
  {
   "cell_type": "code",
   "execution_count": 7,
   "metadata": {},
   "outputs": [
    {
     "data": {
      "text/plain": [
       "((5040, 300), (5040,))"
      ]
     },
     "execution_count": 7,
     "metadata": {},
     "output_type": "execute_result"
    }
   ],
   "source": [
    "labelled = [(p, 1) for p in positive] + [(n, 0) for n in negative]\n",
    "random.shuffle(labelled)\n",
    "X = np.asarray([model[w] for w, l in labelled])\n",
    "y = np.asarray([l for w, l in labelled])\n",
    "X.shape, y.shape"
   ]
  },
  {
   "cell_type": "code",
   "execution_count": 8,
   "metadata": {},
   "outputs": [
    {
     "data": {
      "text/plain": [
       "SVC(C=1.0, cache_size=200, class_weight=None, coef0=0.0,\n",
       "  decision_function_shape=None, degree=3, gamma='auto', kernel='linear',\n",
       "  max_iter=-1, probability=False, random_state=None, shrinking=True,\n",
       "  tol=0.001, verbose=False)"
      ]
     },
     "execution_count": 8,
     "metadata": {},
     "output_type": "execute_result"
    }
   ],
   "source": [
    "TRAINING_FRACTION = 0.3\n",
    "cut_off = int(TRAINING_FRACTION * len(labelled))\n",
    "clf = svm.SVC(kernel='linear')\n",
    "clf.fit(X[:cut_off], y[:cut_off]) "
   ]
  },
  {
   "cell_type": "code",
   "execution_count": 9,
   "metadata": {},
   "outputs": [
    {
     "data": {
      "text/plain": [
       "(99.91496598639456, [('Iraq', 1), ('Iran', 1), ('Gaza_Strip', 1)])"
      ]
     },
     "execution_count": 9,
     "metadata": {},
     "output_type": "execute_result"
    }
   ],
   "source": [
    "res = clf.predict(X[cut_off:])\n",
    "\n",
    "missed = [country for (pred, truth, country) in \n",
    " zip(res, y[cut_off:], labelled[cut_off:]) if pred != truth]\n",
    "\n",
    "100 - 100 * float(len(missed)) / len(res), missed"
   ]
  },
  {
   "cell_type": "code",
   "execution_count": 10,
   "metadata": {
    "collapsed": true
   },
   "outputs": [],
   "source": [
    "all_predictions = clf.predict(model.syn0)"
   ]
  },
  {
   "cell_type": "code",
   "execution_count": 11,
   "metadata": {},
   "outputs": [
    {
     "data": {
      "text/plain": [
       "[u'British_Columbia',\n",
       " u'Argentina',\n",
       " u'Belgium',\n",
       " u'South_Dakota',\n",
       " u'Venezuela',\n",
       " u'New_Zealand',\n",
       " u'Japan',\n",
       " u'Swedish',\n",
       " u'Florida',\n",
       " u'Idaho']"
      ]
     },
     "execution_count": 11,
     "metadata": {},
     "output_type": "execute_result"
    }
   ],
   "source": [
    "res = []\n",
    "for word, pred in zip(model.index2word, all_predictions):\n",
    "  if pred:\n",
    "    res.append(word)\n",
    "    if len(res) == 150:\n",
    "      break\n",
    "random.sample(res, 10)"
   ]
  },
  {
   "cell_type": "code",
   "execution_count": 12,
   "metadata": {},
   "outputs": [
    {
     "data": {
      "text/plain": [
       "u'us'"
      ]
     },
     "execution_count": 12,
     "metadata": {},
     "output_type": "execute_result"
    }
   ],
   "source": [
    "url = 'https://docs.google.com/spreadsheets/d/1jqYEIrvgGKc_FE7R5-zqYjwLfOY2ptVFH74sdw7VbOg/pub?gid=0&single=true&output=csv'\n",
    "country_to_cc = dict(x.split(',') for x in requests.get(url).text.splitlines())\n",
    "country_to_cc['United_States']"
   ]
  },
  {
   "cell_type": "code",
   "execution_count": 13,
   "metadata": {
    "collapsed": true
   },
   "outputs": [],
   "source": [
    "countries = list(country_to_cc.keys())\n",
    "country_to_idx = {country: idx for idx, country in enumerate(countries)}\n",
    "country_vecs = np.asarray([model[c] for c in countries])"
   ]
  },
  {
   "cell_type": "code",
   "execution_count": 14,
   "metadata": {},
   "outputs": [
    {
     "name": "stdout",
     "output_type": "stream",
     "text": [
      "Canada 7.54402\n",
      "New_Zealand 3.96197\n",
      "Finland 3.93924\n",
      "Puerto_Rico 3.83815\n",
      "Jamaica 3.81029\n",
      "Sweden 3.80428\n",
      "Slovakia 3.70387\n",
      "Australia 3.6711\n",
      "Bahamas 3.62404\n",
      "United_States 3.53743\n"
     ]
    }
   ],
   "source": [
    "dists = np.dot(country_vecs, country_vecs[country_to_idx['Canada']])\n",
    "for idx in reversed(np.argsort(dists)[-10:]):\n",
    "  print(countries[idx], dists[idx])"
   ]
  },
  {
   "cell_type": "code",
   "execution_count": 15,
   "metadata": {
    "collapsed": true
   },
   "outputs": [],
   "source": [
    "def rank_countries(term, topn=10):\n",
    "  if not term in model:\n",
    "    return []\n",
    "  vec = model[term]\n",
    "  dists = np.dot(country_vecs, vec)\n",
    "  return [(countries[idx], float(dists[idx])) \n",
    "          for idx in reversed(np.argsort(dists)[-topn:])]"
   ]
  },
  {
   "cell_type": "code",
   "execution_count": 16,
   "metadata": {},
   "outputs": [
    {
     "data": {
      "text/plain": [
       "[(u'Canada', 2.5576062202453613),\n",
       " (u'Slovakia', 2.456810474395752),\n",
       " (u'Finland', 2.244586706161499),\n",
       " (u'Sweden', 2.1060357093811035),\n",
       " (u'Czech_Republic', 2.088719129562378),\n",
       " (u'Latvia', 2.033060312271118),\n",
       " (u'Pakistan', 1.8923059701919556),\n",
       " (u'Norway', 1.7905339002609253),\n",
       " (u'Belarus', 1.7010831832885742),\n",
       " (u'Greenland', 1.6949326992034912)]"
      ]
     },
     "execution_count": 16,
     "metadata": {},
     "output_type": "execute_result"
    }
   ],
   "source": [
    "rank_countries('hockey')"
   ]
  },
  {
   "cell_type": "code",
   "execution_count": 17,
   "metadata": {},
   "outputs": [
    {
     "data": {
      "text/plain": [
       "[(u'Canada', 7.5440239906311035),\n",
       " (u'New_Zealand', 3.9619698524475098),\n",
       " (u'Finland', 3.9392404556274414),\n",
       " (u'Puerto_Rico', 3.8381450176239014),\n",
       " (u'Jamaica', 3.810293436050415),\n",
       " (u'Sweden', 3.80427885055542),\n",
       " (u'Slovakia', 3.703874111175537),\n",
       " (u'Australia', 3.6711010932922363),\n",
       " (u'Bahamas', 3.6240415573120117),\n",
       " (u'United_States', 3.5374338626861572),\n",
       " (u'Barbados', 3.470252275466919),\n",
       " (u'Norway', 3.4603371620178223),\n",
       " (u'Mexico', 3.426602840423584),\n",
       " (u'Argentina', 3.4216275215148926),\n",
       " (u'Bermuda', 3.381308078765869),\n",
       " (u'Guyana', 3.3389341831207275),\n",
       " (u'Colombia', 3.3358325958251953),\n",
       " (u'Dominican_Republic', 3.253561019897461),\n",
       " (u'Latvia', 3.2421295642852783),\n",
       " (u'Chile', 3.229321002960205),\n",
       " (u'Switzerland', 3.2072014808654785),\n",
       " (u'Netherlands', 3.195124864578247),\n",
       " (u'Suriname', 3.181366205215454),\n",
       " (u'Costa_Rica', 3.15801739692688),\n",
       " (u'Belize', 3.1510772705078125),\n",
       " (u'Czech_Republic', 3.143127918243408),\n",
       " (u'France', 3.128284454345703),\n",
       " (u'Iceland', 3.123826026916504),\n",
       " (u'Brazil', 3.1149439811706543),\n",
       " (u'India', 3.097590446472168),\n",
       " (u'Slovenia', 3.037161350250244),\n",
       " (u'Haiti', 3.0319693088531494),\n",
       " (u'Honduras', 3.0141420364379883),\n",
       " (u'Austria', 3.0110931396484375),\n",
       " (u'Cayman_Islands', 3.004281997680664),\n",
       " (u'Guatemala', 2.9574074745178223),\n",
       " (u'Japan', 2.9534780979156494),\n",
       " (u'South_Korea', 2.946737289428711),\n",
       " (u'Algeria', 2.9439663887023926),\n",
       " (u'Ireland', 2.935234546661377),\n",
       " (u'Mongolia', 2.9168248176574707),\n",
       " (u'Hungary', 2.906684637069702),\n",
       " (u'Virgin_Islands', 2.8958168029785156),\n",
       " (u'Cuba', 2.8953444957733154),\n",
       " (u'Venezuela', 2.895030975341797),\n",
       " (u'Belgium', 2.893296718597412),\n",
       " (u'Denmark', 2.8919849395751953),\n",
       " (u'Russia', 2.878950834274292),\n",
       " (u'El_Salvador', 2.8642079830169678),\n",
       " (u'Botswana', 2.858445644378662),\n",
       " (u'Kenya', 2.8296597003936768),\n",
       " (u'China', 2.792262554168701),\n",
       " (u'Germany', 2.7806954383850098),\n",
       " (u'South_Africa', 2.7693207263946533),\n",
       " (u'Philippines', 2.755552291870117),\n",
       " (u'Thailand', 2.7519350051879883),\n",
       " (u'Belarus', 2.7481369972229004),\n",
       " (u'Malawi', 2.7323861122131348),\n",
       " (u'UAE', 2.7308835983276367),\n",
       " (u'Sri_Lanka', 2.7216415405273438),\n",
       " (u'Uruguay', 2.7195448875427246),\n",
       " (u'Italy', 2.6901230812072754),\n",
       " (u'Ukraine', 2.6814866065979004),\n",
       " (u'Poland', 2.6786794662475586),\n",
       " (u'Nigeria', 2.6779675483703613),\n",
       " (u'Fiji', 2.6688342094421387),\n",
       " (u'Ecuador', 2.6653976440429688),\n",
       " (u'Saudi_Arabia', 2.65877103805542),\n",
       " (u'Ghana', 2.6378774642944336),\n",
       " (u'Pakistan', 2.6256980895996094),\n",
       " (u'Burkina_Faso', 2.620077133178711),\n",
       " (u'Afghanistan', 2.593987464904785),\n",
       " (u'England', 2.589536666870117),\n",
       " (u'Estonia', 2.5452427864074707),\n",
       " (u'Nicaragua', 2.532258987426758),\n",
       " (u'Lithuania', 2.5301733016967773),\n",
       " (u'Malaysia', 2.508066177368164),\n",
       " (u'Spain', 2.4650027751922607),\n",
       " (u'Portugal', 2.457920551300049),\n",
       " (u'Peru', 2.443155527114868),\n",
       " (u'Indonesia', 2.43369722366333),\n",
       " (u'Taiwan', 2.4303054809570312),\n",
       " (u'Romania', 2.4298768043518066),\n",
       " (u'Greece', 2.4265851974487305),\n",
       " (u'Nepal', 2.42240834236145),\n",
       " (u'Solomon_Islands', 2.4207406044006348),\n",
       " (u'Zambia', 2.401951551437378),\n",
       " (u'Morocco', 2.3824682235717773),\n",
       " (u'Bhutan', 2.3748598098754883),\n",
       " (u'Rwanda', 2.3599042892456055),\n",
       " (u'Zimbabwe', 2.354832172393799),\n",
       " (u'Paraguay', 2.345500946044922),\n",
       " (u'Greenland', 2.335172653198242),\n",
       " (u'Bulgaria', 2.3314266204833984),\n",
       " (u'Tanzania', 2.328860282897949),\n",
       " (u'Kazakhstan', 2.3116607666015625),\n",
       " (u'Ethiopia', 2.2999014854431152),\n",
       " (u'Gambia', 2.2974932193756104),\n",
       " (u'Namibia', 2.293586254119873),\n",
       " (u'Cambodia', 2.292031764984131),\n",
       " (u'Croatia', 2.2615766525268555),\n",
       " (u'Tunisia', 2.2405669689178467),\n",
       " (u'Uganda', 2.2250726222991943),\n",
       " (u'Egypt', 2.213434934616089),\n",
       " (u'Bolivia', 2.210296154022217),\n",
       " (u'Cameroon', 2.195681571960449),\n",
       " (u'Yemen', 2.1923370361328125),\n",
       " (u'Gaza_Strip', 2.1887218952178955),\n",
       " (u'Papua', 2.1724982261657715),\n",
       " (u'Bangladesh', 2.1579766273498535),\n",
       " (u'Panama', 2.1552813053131104),\n",
       " (u'Luxembourg', 2.1520676612854004),\n",
       " (u'French_Guiana', 2.149172306060791),\n",
       " (u'Ivory_Coast', 2.136793613433838),\n",
       " (u'Serbia', 2.133599281311035),\n",
       " (u'Aruba', 2.1171622276306152),\n",
       " (u'Cyprus', 2.1048831939697266),\n",
       " (u'Malta', 2.0844104290008545),\n",
       " (u'Singapore', 2.0775794982910156),\n",
       " (u'Swaziland', 2.0774006843566895),\n",
       " (u'Sierra_Leone', 2.0631346702575684),\n",
       " (u'Kyrgyzstan', 2.056629180908203),\n",
       " (u'Israel', 2.0371203422546387),\n",
       " (u'Senegal', 2.036525249481201),\n",
       " (u'Mozambique', 2.0344133377075195),\n",
       " (u'Syria', 2.022954225540161),\n",
       " (u'Brunei', 1.9994218349456787),\n",
       " (u'Oman', 1.9981426000595093),\n",
       " (u'Togo', 1.9657808542251587),\n",
       " (u'Eritrea', 1.933830976486206),\n",
       " (u'Uzbekistan', 1.9328781366348267),\n",
       " (u'Kosovo', 1.923964023590088),\n",
       " (u'Turkey', 1.9195765256881714),\n",
       " (u'Tonga', 1.9121370315551758),\n",
       " (u'Burundi', 1.9104045629501343),\n",
       " (u'Congo', 1.909081220626831),\n",
       " (u'Niger', 1.9006521701812744),\n",
       " (u'Guam', 1.89480459690094),\n",
       " (u'Kuwait', 1.8819856643676758),\n",
       " (u'Guinea', 1.8685333728790283),\n",
       " (u'Mali', 1.866250991821289),\n",
       " (u'Tajikistan', 1.8590031862258911),\n",
       " (u'Madagascar', 1.8471627235412598),\n",
       " (u'Iran', 1.8266875743865967),\n",
       " (u'Bahrain', 1.8226709365844727),\n",
       " (u'Equatorial_Guinea', 1.8196907043457031),\n",
       " (u'Mauritius', 1.815287470817566),\n",
       " (u'Bosnia', 1.8001036643981934),\n",
       " (u'Turkmenistan', 1.7970921993255615),\n",
       " (u'Lesotho', 1.787338376045227),\n",
       " (u'Angola', 1.766300916671753),\n",
       " (u'Albania', 1.7556407451629639),\n",
       " (u'Laos', 1.7366178035736084),\n",
       " (u'Comoros', 1.7089474201202393),\n",
       " (u'Moldova', 1.7053701877593994),\n",
       " (u'Mauritania', 1.6935184001922607),\n",
       " (u'Vietnam', 1.6920175552368164),\n",
       " (u'Somalia', 1.6915620565414429),\n",
       " (u'Gabon', 1.6879879236221313),\n",
       " (u'Macedonia', 1.6710649728775024),\n",
       " (u'Azerbaijan', 1.6622573137283325),\n",
       " (u'Armenia', 1.6324859857559204),\n",
       " (u'Liberia', 1.6251609325408936),\n",
       " (u'Benin', 1.6026506423950195),\n",
       " (u'Samoa', 1.5700197219848633),\n",
       " (u'Qatar', 1.5223913192749023),\n",
       " (u'Svalbard', 1.519972324371338),\n",
       " (u'Sudan', 1.5100408792495728),\n",
       " (u'Libya', 1.4909083843231201),\n",
       " (u'Monaco', 1.4743764400482178),\n",
       " (u'Lebanon', 1.46684992313385),\n",
       " (u'Georgia', 1.4544878005981445),\n",
       " (u'Iraq', 1.443300724029541),\n",
       " (u'Myanmar', 1.4103240966796875),\n",
       " (u'East_Timor', 1.404883861541748),\n",
       " (u'Maldives', 1.4030133485794067),\n",
       " (u'North_Korea', 1.2321486473083496),\n",
       " (u'Montenegro', 1.2003823518753052),\n",
       " (u'Western_Sahara', 1.1951557397842407),\n",
       " (u'Djibouti', 1.1932528018951416),\n",
       " (u'Chad', 1.1489355564117432),\n",
       " (u'Vatican', 1.1233152151107788),\n",
       " (u'Jordan', 0.9711291193962097),\n",
       " (u'Reunion', -0.2868509292602539)]"
      ]
     },
     "execution_count": 17,
     "metadata": {},
     "output_type": "execute_result"
    }
   ],
   "source": [
    "rank_countries('Canada', topn=0)"
   ]
  },
  {
   "cell_type": "code",
   "execution_count": null,
   "metadata": {
    "collapsed": true
   },
   "outputs": [],
   "source": []
  },
  {
   "cell_type": "code",
   "execution_count": 24,
   "metadata": {},
   "outputs": [
    {
     "data": {
      "text/html": [
       "\n",
       "  <script type=\"text/javascript\" src=\"https://www.gstatic.com/charts/loader.js\"></script>\n",
       "  <div id=\"regions_div\" style=\"width: 640px; height: 320px;\"></div>\n",
       "  <script type=\"text/Javascript\">\n",
       "    google.charts.load('upcoming', {'packages':['geochart']});\n",
       "    google.charts.setOnLoadCallback(drawRegionsMap);\n",
       "    function drawRegionsMap() {\n",
       "      var chart = new google.visualization.GeoChart(\n",
       "          document.getElementById('regions_div'));\n",
       "      chart.draw(google.visualization.arrayToDataTable([[\"Country\", \"coffee\"], [\"et\", 1.9432251453399658], [\"ke\", 1.9391343593597412], [\"co\", 1.9116393327713013], [\"bi\", 1.885450839996338], [\"tz\", 1.883944034576416], [\"ug\", 1.7865114212036133], [\"tl\", 1.7661278247833252], [\"rw\", 1.7186617851257324], [\"dj\", 1.670926570892334], [\"cr\", 1.6578599214553833], [\"ec\", 1.5987077951431274], [\"jm\", 1.542784571647644], [\"pg\", 1.542001485824585], [\"ni\", 1.506739854812622], [\"gl\", 1.4851250648498535], [\"gt\", 1.4719676971435547], [\"hn\", 1.455660343170166], [\"bt\", 1.394688367843628], [\"sv\", 1.3946762084960938], [\"so\", 1.376462697982788], [\"ht\", 1.336338758468628], [\"lk\", 1.3241007328033447], [\"pe\", 1.320108413696289], [\"bf\", 1.319614291191101], [\"id\", 1.3150925636291504], [\"gy\", 1.3047252893447876], [\"dk\", 1.291492223739624], [\"vn\", 1.2302966117858887], [\"is\", 1.1880583763122559], [\"ci\", 1.1845461130142212], [\"np\", 1.1750996112823486], [\"sj\", 1.1665881872177124], [\"bo\", 1.1567857265472412], [\"bz\", 1.1530203819274902], [\"mg\", 1.1249696016311646], [\"gh\", 1.1219944953918457], [\"py\", 1.1197559833526611], [\"cd\", 1.0949156284332275], [\"uy\", 1.080857276916504], [\"ma\", 1.0757341384887695], [\"ph\", 1.0756969451904297], [\"lr\", 1.074967861175537], [\"sz\", 1.0615038871765137], [\"sb\", 1.0605595111846924], [\"bd\", 1.0547692775726318], [\"th\", 1.0385804176330566], [\"sl\", 1.0358179807662964], [\"zm\", 1.01674485206604], [\"kh\", 1.0126914978027344], [\"se\", 0.9997625946998596], [\"er\", 0.9663003087043762], [\"eh\", 0.9633224606513977], [\"bb\", 0.9520492553710938], [\"af\", 0.9503141641616821], [\"mz\", 0.9452933073043823], [\"sr\", 0.9289939403533936], [\"do\", 0.9228217005729675], [\"la\", 0.9181491732597351], [\"zw\", 0.9129990339279175], [\"cu\", 0.9088700413703918], [\"be\", 0.9033278226852417], [\"fi\", 0.8865717649459839], [\"aw\", 0.8859086632728577], [\"nz\", 0.8794105648994446], [\"tg\", 0.8788934946060181], [\"cm\", 0.8685826659202576], [\"ye\", 0.8661928772926331], [\"mv\", 0.8653206825256348], [\"md\", 0.8618448376655579], [\"mw\", 0.8551729917526245], [\"cl\", 0.8541258573532104], [\"gm\", 0.846021831035614], [\"mm\", 0.821595311164856], [\"no\", 0.8096863627433777], [\"fj\", 0.8064908981323242], [\"br\", 0.8021613359451294], [\"ls\", 0.7879699468612671], [\"bn\", 0.7702916264533997], [\"mu\", 0.769172191619873], [\"pa\", 0.7664139866828918], [\"ne\", 0.7659356594085693], [\"gf\", 0.7584412097930908], [\"ve\", 0.7560847997665405], [\"nl\", 0.7518777847290039], [\"bs\", 0.7482159733772278], [\"gn\", 0.7320325374603271], [\"es\", 0.7286583185195923], [\"ba\", 0.7196853160858154], [\"gu\", 0.7079677581787109], [\"tr\", 0.7061139941215515], [\"lu\", 0.7044325470924377], [\"vi\", 0.7028141617774963], [\"sn\", 0.6730007529258728], [\"ee\", 0.6644705533981323], [\"tj\", 0.6540276408195496], [\"sd\", 0.6446350812911987], [\"bj\", 0.6426526308059692], [\"ng\", 0.6412960290908813], [\"iq\", 0.6320387125015259], [\"kg\", 0.6304294466972351], [\"mr\", 0.6259191036224365], [\"bm\", 0.6144813299179077], [\"to\", 0.5910756587982178], [\"pt\", 0.5830247402191162], [\"sa\", 0.564670979976654], [\"bw\", 0.562699556350708], [\"by\", 0.5560449361801147], [\"pr\", 0.5320162773132324], [\"om\", 0.52491295337677], [\"am\", 0.5005572438240051], [\"tn\", 0.4951269030570984], [\"my\", 0.491822212934494], [\"cz\", 0.48216521739959717], [\"tm\", 0.4783148765563965], [\"ie\", 0.4589845836162567], [\"dz\", 0.4547102451324463], [\"ly\", 0.4433804750442505], [\"mk\", 0.43309202790260315], [\"in\", 0.4261784553527832], [\"kw\", 0.42576849460601807], [\"sy\", 0.4233248829841614], [\"us\", 0.42039239406585693], [\"ga\", 0.4123738706111908], [\"az\", 0.41196775436401367], [\"ca\", 0.4094829559326172], [\"td\", 0.4080151915550232], [\"ws\", 0.39786580204963684], [\"ge\", 0.38002610206604004], [\"cy\", 0.37266817688941956], [\"xk\", 0.3697516620159149], [\"de\", 0.36800941824913025], [\"gq\", 0.3605704605579376], [\"ar\", 0.35915225744247437], [\"na\", 0.3538641333580017], [\"gr\", 0.3484169840812683], [\"ch\", 0.3347819447517395], [\"mc\", 0.32546889781951904], [\"qa\", 0.3228980004787445], [\"jp\", 0.31583428382873535], [\"it\", 0.3020821809768677], [\"ps\", 0.2986294627189636], [\"ao\", 0.29593944549560547], [\"za\", 0.28089016675949097], [\"ml\", 0.26922741532325745], [\"lv\", 0.26574862003326416], [\"ua\", 0.23781709372997284], [\"sg\", 0.2348102629184723], [\"au\", 0.2313719540834427], [\"lt\", 0.22483085095882416], [\"gb\", 0.22472257912158966], [\"eg\", 0.21469730138778687], [\"uz\", 0.20732605457305908], [\"jo\", 0.20319905877113342], [\"fr\", 0.20181697607040405], [\"pk\", 0.1979517936706543], [\"sk\", 0.19551301002502441], [\"hu\", 0.17634359002113342], [\"ir\", 0.15719762444496155], [\"pl\", 0.1503688544034958], [\"ae\", 0.1481204628944397], [\"bh\", 0.1464442014694214], [\"ky\", 0.133719801902771], [\"bg\", 0.12891077995300293], [\"si\", 0.12299180030822754], [\"at\", 0.12070521712303162], [\"al\", 0.10344719886779785], [\"kz\", 0.06951911747455597], [\"lb\", 0.040142208337783813], [\"mt\", 0.031121253967285156], [\"mx\", 0.022179126739501953], [\"hr\", 0.01879611611366272], [\"ru\", 0.017305023968219757], [\"cn\", 0.01696401834487915], [\"ro\", -0.024669483304023743], [\"kr\", -0.027613967657089233], [\"mn\", -0.06528311222791672], [\"km\", -0.0727449357509613], [\"xk\", -0.08990868926048279], [\"il\", -0.100868821144104], [\"tw\", -0.10263121128082275], [\"kp\", -0.10338848829269409], [\"va\", -0.1491301953792572], [\"re\", -0.22997872531414032], [\"rs\", -0.3030056059360504]]), {});\n",
       "    }\n",
       "  </script>\n",
       "  "
      ],
      "text/plain": [
       "<IPython.core.display.HTML object>"
      ]
     },
     "execution_count": 24,
     "metadata": {},
     "output_type": "execute_result"
    }
   ],
   "source": [
    "def GChart(term):\n",
    "  data = rank_countries(term, topn=0)\n",
    "  data_by_cc = [[country_to_cc[country], val] for country, val in data]\n",
    "  data_js = json.dumps([('Country', term)] + data_by_cc)\n",
    "\n",
    "  code = \"\"\"\n",
    "  <script type=\"text/javascript\" src=\"https://www.gstatic.com/charts/loader.js\"></script>\n",
    "  <div id=\"regions_div\" style=\"width: 640px; height: 320px;\"></div>\n",
    "  <script type=\"text/Javascript\">\n",
    "    google.charts.load('upcoming', {'packages':['geochart']});\n",
    "    google.charts.setOnLoadCallback(drawRegionsMap);\n",
    "    function drawRegionsMap() {\n",
    "      var chart = new google.visualization.GeoChart(\n",
    "          document.getElementById('regions_div'));\n",
    "      chart.draw(google.visualization.arrayToDataTable(%s), {});\n",
    "    }\n",
    "  </script>\n",
    "  \"\"\"\n",
    "\n",
    "  return HTML(code % data_js)\n",
    "\n",
    "GChart('coffee')"
   ]
  },
  {
   "cell_type": "code",
   "execution_count": null,
   "metadata": {},
   "outputs": [],
   "source": [
    "HTML(\"\"\"\n",
    "  <div id=\"a_map\" style=\"width: 640px; height: 320px;\"></div>\n",
    "  <script type=\"text/Javascript\">\n",
    "    google.charts.load('upcoming', {'packages':['geochart']});\n",
    "    google.charts.setOnLoadCallback(drawRegionsMap);\n",
    "    function drawRegionsMap() {\n",
    "      var chart = new google.visualization.GeoChart(\n",
    "          document.getElementById('a_map'));\n",
    "      var data = [['Header', 'Value'], ['ca', 100], ['us', 50]]\n",
    "      chart.draw(google.visualization.arrayToDataTable(data), {});\n",
    "    }\n",
    "  </script>\n",
    "  \"\"\")"
   ]
  },
  {
   "cell_type": "code",
   "execution_count": null,
   "metadata": {},
   "outputs": [],
   "source": [
    "data[0]"
   ]
  },
  {
   "cell_type": "code",
   "execution_count": 163,
   "metadata": {},
   "outputs": [
    {
     "data": {
      "text/plain": [
       "'[[\"bd\", 2.4695568084716797], [\"lk\", 2.2264552116394043], [\"np\", 2.1970415115356445], [\"bt\", 2.181537628173828], [\"ke\", 2.0634021759033203], [\"kp\", 1.769707202911377], [\"mm\", 1.7306537628173828], [\"et\", 1.5849881172180176], [\"pk\", 1.5726646184921265], [\"th\", 1.5576823949813843]]'"
      ]
     },
     "execution_count": 163,
     "metadata": {},
     "output_type": "execute_result"
    }
   ],
   "source": [
    "data_js"
   ]
  },
  {
   "cell_type": "code",
   "execution_count": null,
   "metadata": {
    "collapsed": true
   },
   "outputs": [],
   "source": []
  }
 ],
 "metadata": {
  "kernelspec": {
   "display_name": "Python 3",
   "language": "python",
   "name": "python3"
  },
  "language_info": {
   "codemirror_mode": {
    "name": "ipython",
    "version": 3
   },
   "file_extension": ".py",
   "mimetype": "text/x-python",
   "name": "python",
   "nbconvert_exporter": "python",
   "pygments_lexer": "ipython3",
   "version": "3.5.2"
  }
 },
 "nbformat": 4,
 "nbformat_minor": 1
}
