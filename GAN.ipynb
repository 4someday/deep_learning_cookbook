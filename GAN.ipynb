{
 "cells": [
  {
   "cell_type": "markdown",
   "metadata": {},
   "source": [
    "# Training a Generative-Adversarial Network\n",
    "\n",
    "In our previous chapters, we've focused on classification networks: taking an input and outputting a fixed label.  In this chapter, we'll examine generative networks: instead of simply classifying an image as containing a cat, these networks allow us to create new images of cats!  Cute lovers rejoice!\n",
    "\n",
    "Most GAN research focuses on real life images from the CIFAR or ImageNet datasets.  For this section we'll pick a different type of image -- icons -- and see if we can generate realistic icons from scratch."
   ]
  },
  {
   "cell_type": "markdown",
   "metadata": {},
   "source": [
    "## Data collection\n",
    "\n",
    "To train our GAN, we'll need a set of real icons to compare against.  Unfortunately, no such download is trivially available, so you'll have to do a little bit of manual work to acquire the data.\n",
    "\n",
    "Start here: https://icons8.com/app/ and download the app.  Open up the resulting DMG image, right click, and select \"Show Package Contents\".  Now copy out the resources/icons.tar.gz file to somewhere on your file system and extract the contents.  We'll assume it's at ~/.cache/dl-cookbook/icons/.\n",
    "\n",
    "## Loading the data\n",
    "\n",
    "Our icon data is store as a LevelDB database.  Python wrappers exist for LevelDB, making it easy to read.  Each icon record is in a custom format which we don't have a parser for.  We'll do our best to pull out the information we want: namely, the category and icon SVG itself.  Fortunately, the format appears to be consistent across the vast majority of the icons -- we ignore any icons we can't parse."
   ]
  },
  {
   "cell_type": "code",
   "execution_count": 10,
   "metadata": {},
   "outputs": [],
   "source": [
    "DB_LOCATION = os.path.expanduser('~/.cache/dl-cookbook/icons/')\n",
    "\n",
    "import leveldb\n",
    "ldb = leveldb.LevelDB(DB_LOCATION)"
   ]
  },
  {
   "cell_type": "code",
   "execution_count": 173,
   "metadata": {
    "scrolled": true
   },
   "outputs": [
    {
     "name": "stdout",
     "output_type": "stream",
     "text": [
      "02700: bytearray(b'icon_12554')Bad:  bytearray(b'icon_12570') (<class 'urllib.error.URLError'>, URLError(IsADirectoryError(21, 'Is a directory'),), <traceback object at 0x11f6ab948>)\n",
      "Bad:  bytearray(b'icon_12571') (<class 'urllib.error.URLError'>, URLError(IsADirectoryError(21, 'Is a directory'),), <traceback object at 0x11f6abb48>)\n",
      "Bad:  bytearray(b'icon_12613') (<class 'urllib.error.URLError'>, URLError(IsADirectoryError(21, 'Is a directory'),), <traceback object at 0x11f52a248>)\n",
      "Bad:  bytearray(b'icon_12615') (<class 'urllib.error.URLError'>, URLError(IsADirectoryError(21, 'Is a directory'),), <traceback object at 0x1240f1c48>)\n",
      "09900: bytearray(b'icon_19253')Bad:  bytearray(b'icon_19261') (<class 'urllib.error.URLError'>, URLError(IsADirectoryError(21, 'Is a directory'),), <traceback object at 0x3e7242108>)\n",
      "Bad:  bytearray(b'icon_19262') (<class 'urllib.error.URLError'>, URLError(IsADirectoryError(21, 'Is a directory'),), <traceback object at 0x3e7231d08>)\n",
      "11800: bytearray(b'icon_21012')Bad:  bytearray(b'icon_21012') (<class 'urllib.error.URLError'>, URLError(IsADirectoryError(21, 'Is a directory'),), <traceback object at 0x3e72254c8>)\n",
      "Bad:  bytearray(b'icon_21013') (<class 'urllib.error.URLError'>, URLError(IsADirectoryError(21, 'Is a directory'),), <traceback object at 0x1b911ed08>)\n",
      "Bad:  bytearray(b'icon_21014') (<class 'urllib.error.URLError'>, URLError(IsADirectoryError(21, 'Is a directory'),), <traceback object at 0x1b911e508>)\n",
      "11900: bytearray(b'icon_21106')Bad:  bytearray(b'icon_21160') (<class 'urllib.error.URLError'>, URLError(IsADirectoryError(21, 'Is a directory'),), <traceback object at 0x3e7258a08>)\n",
      "Bad:  bytearray(b'icon_21161') (<class 'urllib.error.URLError'>, URLError(IsADirectoryError(21, 'Is a directory'),), <traceback object at 0x1b9107f88>)\n",
      "Bad:  bytearray(b'icon_21162') (<class 'urllib.error.URLError'>, URLError(IsADirectoryError(21, 'Is a directory'),), <traceback object at 0x1b9107dc8>)\n",
      "12500: bytearray(b'icon_2170'))Bad:  bytearray(b'icon_21784') (<class 'urllib.error.URLError'>, URLError(IsADirectoryError(21, 'Is a directory'),), <traceback object at 0x1bbf85448>)\n",
      "Bad:  bytearray(b'icon_21789') (<class 'urllib.error.URLError'>, URLError(IsADirectoryError(21, 'Is a directory'),), <traceback object at 0x1b9107648>)\n",
      "13800: bytearray(b'icon_22915')Bad:  bytearray(b'icon_22922') (<class 'urllib.error.URLError'>, URLError(IsADirectoryError(21, 'Is a directory'),), <traceback object at 0x11f909cc8>)\n",
      "15400: bytearray(b'icon_24491')Bad:  bytearray(b'icon_24554') (<class 'urllib.error.URLError'>, URLError(FileNotFoundError(2, 'No such file or directory'),), <traceback object at 0x1bb941b48>)\n",
      "15500: bytearray(b'icon_24609')Bad:  bytearray(b'icon_24613') (<class 'urllib.error.URLError'>, URLError(FileNotFoundError(2, 'No such file or directory'),), <traceback object at 0x1bb935288>)\n",
      "Bad:  bytearray(b'icon_24640') (<class 'urllib.error.URLError'>, URLError(FileNotFoundError(2, 'No such file or directory'),), <traceback object at 0x1bb918088>)\n",
      "Bad:  bytearray(b'icon_24726') (<class 'urllib.error.URLError'>, URLError(FileNotFoundError(2, 'No such file or directory'),), <traceback object at 0x11f92ec88>)\n",
      "15600: bytearray(b'icon_2476')Bad:  bytearray(b'icon_24883') (<class 'urllib.error.URLError'>, URLError(FileNotFoundError(2, 'No such file or directory'),), <traceback object at 0x1bdf6ea88>)\n",
      "15900: bytearray(b'icon_2531'))Bad:  bytearray(b'icon_25647') (<class 'urllib.error.URLError'>, URLError(FileNotFoundError(2, 'No such file or directory'),), <traceback object at 0x1bdf4b188>)\n",
      "16000: bytearray(b'icon_257')Bad:  bytearray(b'icon_25997') (<class 'urllib.error.URLError'>, URLError(FileNotFoundError(2, 'No such file or directory'),), <traceback object at 0x11f92e148>)\n",
      "16500: bytearray(b'icon_2740'))Bad:  bytearray(b'icon_281') (<class 'urllib.error.URLError'>, URLError(IsADirectoryError(21, 'Is a directory'),), <traceback object at 0x1bb945388>)\n",
      "18300: bytearray(b'icon_3178'))Bad:  bytearray(b'icon_3199') (<class 'urllib.error.URLError'>, URLError(IsADirectoryError(21, 'Is a directory'),), <traceback object at 0x1bb9990c8>)\n",
      "20400: bytearray(b'icon_3487'))Bad:  bytearray(b'icon_34885') (<class 'urllib.error.URLError'>, URLError(FileNotFoundError(2, 'No such file or directory'),), <traceback object at 0x1afab2148>)\n",
      "Bad:  bytearray(b'icon_34920') (<class 'urllib.error.URLError'>, URLError(IsADirectoryError(21, 'Is a directory'),), <traceback object at 0x1afacd908>)\n",
      "Bad:  bytearray(b'icon_34921') (<class 'urllib.error.URLError'>, URLError(IsADirectoryError(21, 'Is a directory'),), <traceback object at 0x1afacd708>)\n",
      "Bad:  bytearray(b'icon_34922') (<class 'urllib.error.URLError'>, URLError(IsADirectoryError(21, 'Is a directory'),), <traceback object at 0x1afacdb88>)\n",
      "Bad:  bytearray(b'icon_34923') (<class 'urllib.error.URLError'>, URLError(IsADirectoryError(21, 'Is a directory'),), <traceback object at 0x1afacdcc8>)\n",
      "Bad:  bytearray(b'icon_34924') (<class 'urllib.error.URLError'>, URLError(IsADirectoryError(21, 'Is a directory'),), <traceback object at 0x1afacdf88>)\n",
      "Bad:  bytearray(b'icon_34925') (<class 'urllib.error.URLError'>, URLError(IsADirectoryError(21, 'Is a directory'),), <traceback object at 0x1afab29c8>)\n",
      "Bad:  bytearray(b'icon_34928') (<class 'urllib.error.URLError'>, URLError(IsADirectoryError(21, 'Is a directory'),), <traceback object at 0x1afab2848>)\n",
      "Bad:  bytearray(b'icon_34929') (<class 'urllib.error.URLError'>, URLError(IsADirectoryError(21, 'Is a directory'),), <traceback object at 0x1afab23c8>)\n",
      "Bad:  bytearray(b'icon_34930') (<class 'urllib.error.URLError'>, URLError(IsADirectoryError(21, 'Is a directory'),), <traceback object at 0x116260d08>)\n",
      "Bad:  bytearray(b'icon_34931') (<class 'urllib.error.URLError'>, URLError(IsADirectoryError(21, 'Is a directory'),), <traceback object at 0x1162604c8>)\n",
      "Bad:  bytearray(b'icon_34932') (<class 'urllib.error.URLError'>, URLError(IsADirectoryError(21, 'Is a directory'),), <traceback object at 0x11626f288>)\n",
      "Bad:  bytearray(b'icon_34933') (<class 'urllib.error.URLError'>, URLError(IsADirectoryError(21, 'Is a directory'),), <traceback object at 0x11626fc08>)\n",
      "Bad:  bytearray(b'icon_34934') (<class 'urllib.error.URLError'>, URLError(IsADirectoryError(21, 'Is a directory'),), <traceback object at 0x11626f348>)\n",
      "Bad:  bytearray(b'icon_34935') (<class 'urllib.error.URLError'>, URLError(IsADirectoryError(21, 'Is a directory'),), <traceback object at 0x11626f4c8>)\n",
      "Bad:  bytearray(b'icon_34936') (<class 'urllib.error.URLError'>, URLError(IsADirectoryError(21, 'Is a directory'),), <traceback object at 0x1bdddff08>)\n",
      "Bad:  bytearray(b'icon_34937') (<class 'urllib.error.URLError'>, URLError(IsADirectoryError(21, 'Is a directory'),), <traceback object at 0x1bdddfa08>)\n",
      "Bad:  bytearray(b'icon_34938') (<class 'urllib.error.URLError'>, URLError(IsADirectoryError(21, 'Is a directory'),), <traceback object at 0x1bdddf688>)\n",
      "Bad:  bytearray(b'icon_34939') (<class 'urllib.error.URLError'>, URLError(IsADirectoryError(21, 'Is a directory'),), <traceback object at 0x116270e88>)\n",
      "Bad:  bytearray(b'icon_34987') (<class 'urllib.error.URLError'>, URLError(IsADirectoryError(21, 'Is a directory'),), <traceback object at 0x1bb9a5c48>)\n",
      "20500: bytearray(b'icon_35055')Bad:  bytearray(b'icon_35102') (<class 'urllib.error.URLError'>, URLError(IsADirectoryError(21, 'Is a directory'),), <traceback object at 0x1afaccf48>)\n",
      "Bad:  bytearray(b'icon_35103') (<class 'urllib.error.URLError'>, URLError(IsADirectoryError(21, 'Is a directory'),), <traceback object at 0x1afaccc08>)\n",
      "Bad:  bytearray(b'icon_35104') (<class 'urllib.error.URLError'>, URLError(IsADirectoryError(21, 'Is a directory'),), <traceback object at 0x11627e248>)\n",
      "Bad:  bytearray(b'icon_35105') (<class 'urllib.error.URLError'>, URLError(IsADirectoryError(21, 'Is a directory'),), <traceback object at 0x1bdde0f08>)\n",
      "Bad:  bytearray(b'icon_35106') (<class 'urllib.error.URLError'>, URLError(IsADirectoryError(21, 'Is a directory'),), <traceback object at 0x1bdde0908>)\n",
      "Bad:  bytearray(b'icon_35107') (<class 'urllib.error.URLError'>, URLError(IsADirectoryError(21, 'Is a directory'),), <traceback object at 0x1bdde07c8>)\n",
      "Bad:  bytearray(b'icon_35108') (<class 'urllib.error.URLError'>, URLError(IsADirectoryError(21, 'Is a directory'),), <traceback object at 0x1bdde4648>)\n",
      "Bad:  bytearray(b'icon_35109') (<class 'urllib.error.URLError'>, URLError(IsADirectoryError(21, 'Is a directory'),), <traceback object at 0x1bdde4f08>)\n",
      "Bad:  bytearray(b'icon_35110') (<class 'urllib.error.URLError'>, URLError(IsADirectoryError(21, 'Is a directory'),), <traceback object at 0x1bdde1b08>)\n",
      "Bad:  bytearray(b'icon_35111') (<class 'urllib.error.URLError'>, URLError(IsADirectoryError(21, 'Is a directory'),), <traceback object at 0x1afab3088>)\n",
      "Bad:  bytearray(b'icon_35119') (<class 'urllib.error.URLError'>, URLError(IsADirectoryError(21, 'Is a directory'),), <traceback object at 0x116260248>)\n",
      "Bad:  bytearray(b'icon_35120') (<class 'urllib.error.URLError'>, URLError(IsADirectoryError(21, 'Is a directory'),), <traceback object at 0x1bb986808>)\n",
      "Bad:  bytearray(b'icon_35121') (<class 'urllib.error.URLError'>, URLError(IsADirectoryError(21, 'Is a directory'),), <traceback object at 0x116266f88>)\n",
      "Bad:  bytearray(b'icon_35122') (<class 'urllib.error.URLError'>, URLError(IsADirectoryError(21, 'Is a directory'),), <traceback object at 0x1bb92aac8>)\n",
      "Bad:  bytearray(b'icon_35123') (<class 'urllib.error.URLError'>, URLError(IsADirectoryError(21, 'Is a directory'),), <traceback object at 0x1afad2448>)\n",
      "Bad:  bytearray(b'icon_35124') (<class 'urllib.error.URLError'>, URLError(IsADirectoryError(21, 'Is a directory'),), <traceback object at 0x1afac1388>)\n",
      "Bad:  bytearray(b'icon_35125') (<class 'urllib.error.URLError'>, URLError(IsADirectoryError(21, 'Is a directory'),), <traceback object at 0x1bb967388>)\n",
      "Bad:  bytearray(b'icon_35126') (<class 'urllib.error.URLError'>, URLError(IsADirectoryError(21, 'Is a directory'),), <traceback object at 0x11626f248>)\n",
      "Bad:  bytearray(b'icon_35127') (<class 'urllib.error.URLError'>, URLError(IsADirectoryError(21, 'Is a directory'),), <traceback object at 0x11626d108>)\n",
      "Bad:  bytearray(b'icon_35128') (<class 'urllib.error.URLError'>, URLError(IsADirectoryError(21, 'Is a directory'),), <traceback object at 0x116278988>)\n",
      "Bad:  bytearray(b'icon_35129') (<class 'urllib.error.URLError'>, URLError(IsADirectoryError(21, 'Is a directory'),), <traceback object at 0x116278c88>)\n",
      "Bad:  bytearray(b'icon_35130') (<class 'urllib.error.URLError'>, URLError(IsADirectoryError(21, 'Is a directory'),), <traceback object at 0x1bb996908>)\n",
      "Bad:  bytearray(b'icon_35131') (<class 'urllib.error.URLError'>, URLError(IsADirectoryError(21, 'Is a directory'),), <traceback object at 0x1bddef4c8>)\n",
      "Bad:  bytearray(b'icon_35132') (<class 'urllib.error.URLError'>, URLError(IsADirectoryError(21, 'Is a directory'),), <traceback object at 0x1bddef708>)\n",
      "Bad:  bytearray(b'icon_35133') (<class 'urllib.error.URLError'>, URLError(IsADirectoryError(21, 'Is a directory'),), <traceback object at 0x1bddef988>)\n",
      "Bad:  bytearray(b'icon_35135') (<class 'urllib.error.URLError'>, URLError(IsADirectoryError(21, 'Is a directory'),), <traceback object at 0x1bddefc88>)\n",
      "Bad:  bytearray(b'icon_35136') (<class 'urllib.error.URLError'>, URLError(IsADirectoryError(21, 'Is a directory'),), <traceback object at 0x1bddeff88>)\n",
      "Bad:  bytearray(b'icon_35137') (<class 'urllib.error.URLError'>, URLError(IsADirectoryError(21, 'Is a directory'),), <traceback object at 0x1bddf22c8>)\n",
      "Bad:  bytearray(b'icon_35138') (<class 'urllib.error.URLError'>, URLError(IsADirectoryError(21, 'Is a directory'),), <traceback object at 0x1bddefc08>)\n",
      "Bad:  bytearray(b'icon_35139') (<class 'urllib.error.URLError'>, URLError(IsADirectoryError(21, 'Is a directory'),), <traceback object at 0x1bddef608>)\n",
      "Bad:  bytearray(b'icon_35140') (<class 'urllib.error.URLError'>, URLError(IsADirectoryError(21, 'Is a directory'),), <traceback object at 0x1bddef0c8>)\n",
      "Bad:  bytearray(b'icon_35141') (<class 'urllib.error.URLError'>, URLError(IsADirectoryError(21, 'Is a directory'),), <traceback object at 0x1bb93f788>)\n",
      "Bad:  bytearray(b'icon_35142') (<class 'urllib.error.URLError'>, URLError(IsADirectoryError(21, 'Is a directory'),), <traceback object at 0x1bb93fc88>)\n",
      "Bad:  bytearray(b'icon_35143') (<class 'urllib.error.URLError'>, URLError(IsADirectoryError(21, 'Is a directory'),), <traceback object at 0x1bb996f08>)\n",
      "Bad:  bytearray(b'icon_35144') (<class 'urllib.error.URLError'>, URLError(IsADirectoryError(21, 'Is a directory'),), <traceback object at 0x116294208>)\n",
      "Bad:  bytearray(b'icon_35145') (<class 'urllib.error.URLError'>, URLError(IsADirectoryError(21, 'Is a directory'),), <traceback object at 0x1162943c8>)\n",
      "Bad:  bytearray(b'icon_35146') (<class 'urllib.error.URLError'>, URLError(IsADirectoryError(21, 'Is a directory'),), <traceback object at 0x116294a48>)\n",
      "Bad:  bytearray(b'icon_35147') (<class 'urllib.error.URLError'>, URLError(IsADirectoryError(21, 'Is a directory'),), <traceback object at 0x116294648>)\n",
      "Bad:  bytearray(b'icon_35148') (<class 'urllib.error.URLError'>, URLError(IsADirectoryError(21, 'Is a directory'),), <traceback object at 0x116278d48>)\n",
      "Bad:  bytearray(b'icon_35149') (<class 'urllib.error.URLError'>, URLError(IsADirectoryError(21, 'Is a directory'),), <traceback object at 0x116278808>)\n",
      "Bad:  bytearray(b'icon_35150') (<class 'urllib.error.URLError'>, URLError(IsADirectoryError(21, 'Is a directory'),), <traceback object at 0x116278308>)\n",
      "Bad:  bytearray(b'icon_35151') (<class 'urllib.error.URLError'>, URLError(IsADirectoryError(21, 'Is a directory'),), <traceback object at 0x116278748>)\n"
     ]
    },
    {
     "name": "stdout",
     "output_type": "stream",
     "text": [
      "20800: bytearray(b'icon_35465')Bad:  bytearray(b'icon_35572') (<class 'urllib.error.URLError'>, URLError(IsADirectoryError(21, 'Is a directory'),), <traceback object at 0x11627b5c8>)\n",
      "20900: bytearray(b'icon_35599')Bad:  bytearray(b'icon_35617') (<class 'urllib.error.URLError'>, URLError(FileNotFoundError(2, 'No such file or directory'),), <traceback object at 0x11627a708>)\n",
      "Bad:  bytearray(b'icon_35621') (<class 'urllib.error.URLError'>, URLError(IsADirectoryError(21, 'Is a directory'),), <traceback object at 0x1afac1388>)\n",
      "Bad:  bytearray(b'icon_35622') (<class 'urllib.error.URLError'>, URLError(IsADirectoryError(21, 'Is a directory'),), <traceback object at 0x11627da48>)\n",
      "Bad:  bytearray(b'icon_35623') (<class 'urllib.error.URLError'>, URLError(IsADirectoryError(21, 'Is a directory'),), <traceback object at 0x11627d608>)\n",
      "Bad:  bytearray(b'icon_35624') (<class 'urllib.error.URLError'>, URLError(IsADirectoryError(21, 'Is a directory'),), <traceback object at 0x11626db08>)\n",
      "Bad:  bytearray(b'icon_35625') (<class 'urllib.error.URLError'>, URLError(IsADirectoryError(21, 'Is a directory'),), <traceback object at 0x116280c88>)\n",
      "Bad:  bytearray(b'icon_35626') (<class 'urllib.error.URLError'>, URLError(IsADirectoryError(21, 'Is a directory'),), <traceback object at 0x1afab2308>)\n",
      "Bad:  bytearray(b'icon_35627') (<class 'urllib.error.URLError'>, URLError(IsADirectoryError(21, 'Is a directory'),), <traceback object at 0x1afab2cc8>)\n",
      "Bad:  bytearray(b'icon_35628') (<class 'urllib.error.URLError'>, URLError(IsADirectoryError(21, 'Is a directory'),), <traceback object at 0x11627bd08>)\n",
      "Bad:  bytearray(b'icon_35629') (<class 'urllib.error.URLError'>, URLError(IsADirectoryError(21, 'Is a directory'),), <traceback object at 0x11627b9c8>)\n",
      "Bad:  bytearray(b'icon_35715') (<class 'urllib.error.URLError'>, URLError(IsADirectoryError(21, 'Is a directory'),), <traceback object at 0x1afa9f1c8>)\n",
      "Bad:  bytearray(b'icon_35716') (<class 'urllib.error.URLError'>, URLError(IsADirectoryError(21, 'Is a directory'),), <traceback object at 0x1162814c8>)\n",
      "Bad:  bytearray(b'icon_35747') (<class 'urllib.error.URLError'>, URLError(FileNotFoundError(2, 'No such file or directory'),), <traceback object at 0x11627ba48>)\n",
      "Bad:  bytearray(b'icon_35778') (<class 'urllib.error.URLError'>, URLError(IsADirectoryError(21, 'Is a directory'),), <traceback object at 0x116271ec8>)\n",
      "Bad:  bytearray(b'icon_35779') (<class 'urllib.error.URLError'>, URLError(IsADirectoryError(21, 'Is a directory'),), <traceback object at 0x1bb945e48>)\n",
      "Bad:  bytearray(b'icon_35780') (<class 'urllib.error.URLError'>, URLError(IsADirectoryError(21, 'Is a directory'),), <traceback object at 0x116270cc8>)\n",
      "Bad:  bytearray(b'icon_35781') (<class 'urllib.error.URLError'>, URLError(IsADirectoryError(21, 'Is a directory'),), <traceback object at 0x1162707c8>)\n",
      "Bad:  bytearray(b'icon_35783') (<class 'urllib.error.URLError'>, URLError(IsADirectoryError(21, 'Is a directory'),), <traceback object at 0x1bb991688>)\n",
      "Bad:  bytearray(b'icon_35784') (<class 'urllib.error.URLError'>, URLError(IsADirectoryError(21, 'Is a directory'),), <traceback object at 0x1bb991d88>)\n",
      "Bad:  bytearray(b'icon_35785') (<class 'urllib.error.URLError'>, URLError(IsADirectoryError(21, 'Is a directory'),), <traceback object at 0x1afacc148>)\n",
      "Bad:  bytearray(b'icon_35786') (<class 'urllib.error.URLError'>, URLError(IsADirectoryError(21, 'Is a directory'),), <traceback object at 0x1bb92aac8>)\n",
      "Bad:  bytearray(b'icon_35787') (<class 'urllib.error.URLError'>, URLError(IsADirectoryError(21, 'Is a directory'),), <traceback object at 0x1afac3908>)\n",
      "21000: bytearray(b'icon_35790')Bad:  bytearray(b'icon_35846') (<class 'urllib.error.URLError'>, URLError(FileNotFoundError(2, 'No such file or directory'),), <traceback object at 0x11626fbc8>)\n",
      "21200: bytearray(b'icon_36144')Bad:  bytearray(b'icon_36298') (<class 'urllib.error.URLError'>, URLError(FileNotFoundError(2, 'No such file or directory'),), <traceback object at 0x1bb994348>)\n",
      "21300: bytearray(b'icon_36321')Bad:  bytearray(b'icon_36450') (<class 'urllib.error.URLError'>, URLError(FileNotFoundError(2, 'No such file or directory'),), <traceback object at 0x1afab2a88>)\n",
      "21600: bytearray(b'icon_3686'))Bad:  bytearray(b'icon_36919') (<class 'urllib.error.URLError'>, URLError(FileNotFoundError(2, 'No such file or directory'),), <traceback object at 0x1bde04f48>)\n",
      "21900: bytearray(b'icon_37291')Bad:  bytearray(b'icon_37402') (<class 'urllib.error.URLError'>, URLError(FileNotFoundError(2, 'No such file or directory'),), <traceback object at 0x14a942248>)\n",
      "22000: bytearray(b'icon_37442')Bad:  bytearray(b'icon_37494') (<class 'urllib.error.URLError'>, URLError(FileNotFoundError(2, 'No such file or directory'),), <traceback object at 0x14a946f88>)\n",
      "Bad:  bytearray(b'icon_37534') (<class 'urllib.error.URLError'>, URLError(FileNotFoundError(2, 'No such file or directory'),), <traceback object at 0x14a961148>)\n",
      "Bad:  bytearray(b'icon_37544') (<class 'urllib.error.URLError'>, URLError(FileNotFoundError(2, 'No such file or directory'),), <traceback object at 0x14a95c188>)\n",
      "22100: bytearray(b'icon_37604')Bad:  bytearray(b'icon_37632') (<class 'urllib.error.URLError'>, URLError(IsADirectoryError(21, 'Is a directory'),), <traceback object at 0x11fcf8808>)\n",
      "22600: bytearray(b'icon_38257')Bad:  bytearray(b'icon_38324') (<class 'urllib.error.URLError'>, URLError(FileNotFoundError(2, 'No such file or directory'),), <traceback object at 0x14a950e48>)\n",
      "23900: bytearray(b'icon_39966')Bad:  bytearray(b'icon_4001') (<class 'urllib.error.URLError'>, URLError(IsADirectoryError(21, 'Is a directory'),), <traceback object at 0x14a8e0348>)\n",
      "34900: bytearray(b'icon_6012'))Bad:  bytearray(b'icon_6063') (<class 'urllib.error.URLError'>, URLError(IsADirectoryError(21, 'Is a directory'),), <traceback object at 0x14aabc3c8>)\n",
      "38600: bytearray(b'icon_9939')Bad:  bytearray(b'revision') (<class 'IndexError'>, IndexError('list index out of range',), <traceback object at 0x14af93608>)\n"
     ]
    }
   ],
   "source": [
    "import itertools, io\n",
    "import numpy as np\n",
    "from cairosvg import svg2png\n",
    "from PIL import Image\n",
    "\n",
    "noise_size = 10\n",
    "img_width = 64\n",
    "img_height = 64\n",
    "\n",
    "images = []\n",
    "categories = []\n",
    "\n",
    "l_iter = ldb.RangeIter(None, None)\n",
    "for i, (k, v) in enumerate(l_iter):\n",
    "    if i % 100 == 0:\n",
    "        print('\\r%05d: %s' % (i, k), end='', flush=True)\n",
    "        \n",
    "    try:\n",
    "        cat = v.replace(b'\\x00', b'').split(b'\\x08')[2].decode('utf8')\n",
    "        \n",
    "        start_idx = v.find(b'<?xml')\n",
    "        end_idx = v.find(b'</svg>')\n",
    "        v = v[start_idx:end_idx+6]    \n",
    "        png = svg2png(bytestring=bytes(v))        \n",
    "        \n",
    "        with io.BytesIO(png) as f:\n",
    "            img = Image.open(f)\n",
    "            img = img.resize((img_width, img_height))\n",
    "            img = np.asarray(img)\n",
    "            images.append(img)\n",
    "            categories.append(cat)\n",
    "    except:\n",
    "        print('Bad: ', k, v[:10], sys.exc_info())\n",
    "        continue"
   ]
  },
  {
   "cell_type": "code",
   "execution_count": 88,
   "metadata": {},
   "outputs": [
    {
     "data": {
      "image/png": "[encoded data removed]",
      "text/plain": [
       "<matplotlib.figure.Figure at 0x11c243518>"
      ]
     },
     "metadata": {},
     "output_type": "display_data"
    }
   ],
   "source": [
    "%matplotlib inline\n",
    "import matplotlib.pyplot as plt\n",
    "f, axarr = plt.subplots(8, 8)\n",
    "f.set_size_inches(10, 10)\n",
    "for i in range(8):\n",
    "    for j in range(8):\n",
    "        axarr[i, j].imshow(images[10000 + i * 8 + j])"
   ]
  },
  {
   "cell_type": "markdown",
   "metadata": {},
   "source": [
    "## Prepping our data\n",
    "\n",
    "Before training our network, we want to normalize our data to make the models work a little easier: we'll normalize all of our images to have values between -1 and 1.  We'll also transform our categories we collected up above into labels from [0, num_labels].  We will use these labels to pre-train our discriminator network."
   ]
  },
  {
   "cell_type": "code",
   "execution_count": 175,
   "metadata": {},
   "outputs": [],
   "source": [
    "img_array = np.asarray(\n",
    "    [2 * (img / (1e-9 + img.max()) - 0.5) for img in images]\n",
    ")\n",
    "\n",
    "from sklearn.preprocessing import LabelEncoder\n",
    "label_encoder = LabelEncoder()\n",
    "category_labels = label_encoder.fit_transform(categories)"
   ]
  },
  {
   "cell_type": "code",
   "execution_count": 178,
   "metadata": {},
   "outputs": [
    {
     "data": {
      "text/plain": [
       "(38544, 38544)"
      ]
     },
     "execution_count": 178,
     "metadata": {},
     "output_type": "execute_result"
    }
   ],
   "source": [
    "len(category_labels), len(img_array)"
   ]
  },
  {
   "cell_type": "code",
   "execution_count": 182,
   "metadata": {},
   "outputs": [
    {
     "data": {
      "text/plain": [
       "Counter({'': 1,\n",
       "         'Alphabet': 552,\n",
       "         'Animals': 738,\n",
       "         'Arrows': 824,\n",
       "         'Astrology': 379,\n",
       "         'Baby': 361,\n",
       "         'Beauty': 428,\n",
       "         'Business': 1622,\n",
       "         'Cinema': 1199,\n",
       "         'City': 1015,\n",
       "         'Clothing': 540,\n",
       "         'Computer Hardware': 495,\n",
       "         'Crime': 115,\n",
       "         'Culture': 494,\n",
       "         'DIY': 277,\n",
       "         'Data': 919,\n",
       "         'Drinks': 197,\n",
       "         'Ecommerce': 1100,\n",
       "         'Editing': 1310,\n",
       "         'File Types': 2,\n",
       "         'Files': 901,\n",
       "         'Finance': 631,\n",
       "         'Flags': 232,\n",
       "         'Folders': 165,\n",
       "         'Food': 864,\n",
       "         'Free Popular': 576,\n",
       "         'Gaming': 824,\n",
       "         'Hands': 214,\n",
       "         'Healthcare': 751,\n",
       "         'Holidays': 454,\n",
       "         'Household': 1587,\n",
       "         'Industry': 949,\n",
       "         'Logos': 2091,\n",
       "         'Maps': 555,\n",
       "         'Media Controls': 287,\n",
       "         'Messaging': 1187,\n",
       "         'Military': 483,\n",
       "         'Mobile': 613,\n",
       "         'Music': 504,\n",
       "         'Nature': 12,\n",
       "         'Network': 567,\n",
       "         'Operating Systems': 114,\n",
       "         'People': 1275,\n",
       "         'Photo and Video': 580,\n",
       "         'Plants': 350,\n",
       "         'Printing': 293,\n",
       "         'Programming': 627,\n",
       "         'Science': 1128,\n",
       "         'Sciences': 2,\n",
       "         'Security': 469,\n",
       "         'Shopping': 33,\n",
       "         'Social Media': 22,\n",
       "         'Sports': 1193,\n",
       "         'Time And Date': 1093,\n",
       "         'Tools': 2,\n",
       "         'Transport': 1231,\n",
       "         'Travel': 687,\n",
       "         'User Interface': 1507,\n",
       "         'Weather': 531,\n",
       "         'id': 392})"
      ]
     },
     "execution_count": 182,
     "metadata": {},
     "output_type": "execute_result"
    }
   ],
   "source": [
    "## Let's take a quick look at what our categories are like.\n",
    "\n",
    "collections.Counter(categories)"
   ]
  },
  {
   "cell_type": "markdown",
   "metadata": {},
   "source": [
    "## Building our network\n",
    "\n",
    "Now that we have our icons, let's build our GAN network.  The basic idea with a GAN network is to construct 2 sub-networks that we will have \"fight\" against each other.\n",
    "\n",
    "* Generator: this network starts with a random data seed, and it's goal is to generate an image that fools the discriminator\n",
    "* Discriminator: this network is presented an image, and must decide whether it is a real image, or a fake generated by the generator network\n",
    "\n",
    "By playing these networks against each other, we can cause the generator network to produce more and more convincing \"fakes\"."
   ]
  },
  {
   "cell_type": "markdown",
   "metadata": {},
   "source": [
    "### Generator Network\n",
    "\n",
    "Our generator network is effectively an upside down convolutional network.  Normal CNNs start with an image and producing a small dimensional label.  A generative network starts with a small random seed (\"label\"), and runs inverted CNN to produce successively larger images."
   ]
  },
  {
   "cell_type": "code",
   "execution_count": 131,
   "metadata": {},
   "outputs": [
    {
     "name": "stdout",
     "output_type": "stream",
     "text": [
      "_________________________________________________________________\n",
      "Layer (type)                 Output Shape              Param #   \n",
      "=================================================================\n",
      "input_24 (InputLayer)        (None, 10)                0         \n",
      "_________________________________________________________________\n",
      "reshape_14 (Reshape)         (None, 1, 1, 10)          0         \n",
      "_________________________________________________________________\n",
      "conv2d_transpose_57 (Conv2DT (None, 4, 4, 256)         41216     \n",
      "_________________________________________________________________\n",
      "batch_normalization_71 (Batc (None, 4, 4, 256)         1024      \n",
      "_________________________________________________________________\n",
      "leaky_re_lu_71 (LeakyReLU)   (None, 4, 4, 256)         0         \n",
      "_________________________________________________________________\n",
      "conv2d_transpose_58 (Conv2DT (None, 8, 8, 128)         524416    \n",
      "_________________________________________________________________\n",
      "batch_normalization_72 (Batc (None, 8, 8, 128)         512       \n",
      "_________________________________________________________________\n",
      "leaky_re_lu_72 (LeakyReLU)   (None, 8, 8, 128)         0         \n",
      "_________________________________________________________________\n",
      "conv2d_transpose_59 (Conv2DT (None, 16, 16, 128)       262272    \n",
      "_________________________________________________________________\n",
      "batch_normalization_73 (Batc (None, 16, 16, 128)       512       \n",
      "_________________________________________________________________\n",
      "leaky_re_lu_73 (LeakyReLU)   (None, 16, 16, 128)       0         \n",
      "_________________________________________________________________\n",
      "conv2d_transpose_60 (Conv2DT (None, 32, 32, 64)        131136    \n",
      "_________________________________________________________________\n",
      "batch_normalization_74 (Batc (None, 32, 32, 64)        256       \n",
      "_________________________________________________________________\n",
      "leaky_re_lu_74 (LeakyReLU)   (None, 32, 32, 64)        0         \n",
      "_________________________________________________________________\n",
      "conv2d_transpose_61 (Conv2DT (None, 64, 64, 4)         4100      \n",
      "_________________________________________________________________\n",
      "activation_1 (Activation)    (None, 64, 64, 4)         0         \n",
      "=================================================================\n",
      "Total params: 965,444\n",
      "Trainable params: 964,292\n",
      "Non-trainable params: 1,152\n",
      "_________________________________________________________________\n"
     ]
    }
   ],
   "source": [
    "import keras\n",
    "from keras.models import Model\n",
    "import keras.layers as L\n",
    "import keras.backend as K\n",
    "\n",
    "\n",
    "# Using https://github.com/ctmakro/hellotensor/blob/master/lets_gan_clean.py\n",
    "# as a basis\n",
    "\n",
    "def build_gen_network(seed_shape):\n",
    "    input = L.Input(shape=(seed_shape,))\n",
    "    reshaped = L.Reshape((1,1,seed_shape))(input)\n",
    "    \n",
    "    def deconv(layer, num_filters, kernel_size, strides=4, normalize=True, padding='same'):\n",
    "        layer = L.Conv2DTranspose(\n",
    "            num_filters, kernel_size, \n",
    "            padding=padding,\n",
    "            strides=strides)(layer)\n",
    "        if normalize:\n",
    "            layer = L.BatchNormalization()(layer)\n",
    "            layer = L.LeakyReLU(0.2)(layer)\n",
    "        return layer\n",
    "\n",
    "    reshaped = deconv(reshaped, 256, 4, padding='valid', strides=2)\n",
    "    reshaped = deconv(reshaped, 128, 4, padding='same', strides=2)\n",
    "    reshaped = deconv(reshaped, 128, 4, padding='same', strides=2)\n",
    "    reshaped = deconv(reshaped, 64, 4, padding='same', strides=2)\n",
    "    reshaped = deconv(reshaped, 4, 4, normalize=False, strides=2)    \n",
    "    reshaped = L.Activation(activation='tanh')(reshaped)\n",
    "    \n",
    "    return Model(inputs=[input], outputs=[reshaped])\n",
    "\n",
    "gen_network = build_gen_network(noise_size)\n",
    "gen_network.compile(loss='binary_crossentropy', optimizer='adam')\n",
    "gen_network.summary()"
   ]
  },
  {
   "cell_type": "markdown",
   "metadata": {},
   "source": [
    "### Discriminator Network\n",
    "\n",
    "Our discriminator network is just a standard CNN, and looks like the inverse of our generator.  We stack a number of CNN layers, terminating in dense layer with a single output to decide if we are looking at a real or fake image."
   ]
  },
  {
   "cell_type": "code",
   "execution_count": 180,
   "metadata": {},
   "outputs": [
    {
     "name": "stdout",
     "output_type": "stream",
     "text": [
      "_________________________________________________________________\n",
      "Layer (type)                 Output Shape              Param #   \n",
      "=================================================================\n",
      "input_26 (InputLayer)        (None, 64, 64, 4)         0         \n",
      "_________________________________________________________________\n",
      "conv2d_32 (Conv2D)           (None, 32, 32, 64)        4160      \n",
      "_________________________________________________________________\n",
      "batch_normalization_79 (Batc (None, 32, 32, 64)        256       \n",
      "_________________________________________________________________\n",
      "leaky_re_lu_79 (LeakyReLU)   (None, 32, 32, 64)        0         \n",
      "_________________________________________________________________\n",
      "conv2d_33 (Conv2D)           (None, 16, 16, 128)       131200    \n",
      "_________________________________________________________________\n",
      "batch_normalization_80 (Batc (None, 16, 16, 128)       512       \n",
      "_________________________________________________________________\n",
      "leaky_re_lu_80 (LeakyReLU)   (None, 16, 16, 128)       0         \n",
      "_________________________________________________________________\n",
      "conv2d_34 (Conv2D)           (None, 8, 8, 256)         524544    \n",
      "_________________________________________________________________\n",
      "batch_normalization_81 (Batc (None, 8, 8, 256)         1024      \n",
      "_________________________________________________________________\n",
      "leaky_re_lu_81 (LeakyReLU)   (None, 8, 8, 256)         0         \n",
      "_________________________________________________________________\n",
      "conv2d_35 (Conv2D)           (None, 4, 4, 256)         1048832   \n",
      "_________________________________________________________________\n",
      "batch_normalization_82 (Batc (None, 4, 4, 256)         1024      \n",
      "_________________________________________________________________\n",
      "leaky_re_lu_82 (LeakyReLU)   (None, 4, 4, 256)         0         \n",
      "_________________________________________________________________\n",
      "flatten_9 (Flatten)          (None, 4096)              0         \n",
      "_________________________________________________________________\n",
      "dense_16 (Dense)             (None, 64)                262208    \n",
      "_________________________________________________________________\n",
      "dense_17 (Dense)             (None, 1)                 65        \n",
      "=================================================================\n",
      "Total params: 1,973,825\n",
      "Trainable params: 1,972,417\n",
      "Non-trainable params: 1,408\n",
      "_________________________________________________________________\n"
     ]
    }
   ],
   "source": [
    "def build_discriminator_network():\n",
    "    input = L.Input(shape=(img_width, img_height, 4))\n",
    "    def conv(layer, num_filters, kernel_size, strides, normalize=True, padding='same'):\n",
    "        layer = L.Conv2D(\n",
    "            num_filters, kernel_size, \n",
    "            padding=padding,\n",
    "            strides=strides)(layer)\n",
    "        if normalize:\n",
    "            layer = L.BatchNormalization()(layer)\n",
    "            layer = L.LeakyReLU(0.2)(layer)\n",
    "        return layer\n",
    "    \n",
    "    l = conv(input, 64, kernel_size=4, strides=2)\n",
    "    l = conv(l, 128, kernel_size=4, strides=2)\n",
    "    l = conv(l, 256, kernel_size=4, strides=2)\n",
    "    l = conv(l, 256, kernel_size=4, strides=2)\n",
    "    l = L.Flatten()(l)\n",
    "    l = L.Dense(units=64, activation='relu')(l)\n",
    "    \n",
    "    discriminator = L.Dense(units=1, activation='sigmoid')(l)\n",
    "    label = L.Dense(units=len(label_encoder.classes_))(l)\n",
    "    \n",
    "    return (\n",
    "        Model(inputs=[input], outputs=[discriminator]),\n",
    "        Model(inputs=[input], outputs=[label]),\n",
    "    )\n",
    "\n",
    "dis_net, label_net = build_discriminator_network()\n",
    "label_net.compile(loss='sparse_categorical_crossentropy', optimizer='adam')\n",
    "dis_net.compile(loss='binary_crossentropy', optimizer='adam')\n",
    "dis_net.summary()"
   ]
  },
  {
   "cell_type": "markdown",
   "metadata": {},
   "source": [
    "### Combined Model\n",
    "\n",
    "Now let's build the combined model which runs both our generator and discrimnator: this will be used for training."
   ]
  },
  {
   "cell_type": "code",
   "execution_count": 114,
   "metadata": {},
   "outputs": [
    {
     "name": "stdout",
     "output_type": "stream",
     "text": [
      "_________________________________________________________________\n",
      "Layer (type)                 Output Shape              Param #   \n",
      "=================================================================\n",
      "input_23 (InputLayer)        (None, 10)                0         \n",
      "_________________________________________________________________\n",
      "model_18 (Model)             (None, 64, 64, 4)         965444    \n",
      "_________________________________________________________________\n",
      "model_20 (Model)             (None, 1)                 1973825   \n",
      "=================================================================\n",
      "Total params: 2,939,269\n",
      "Trainable params: 2,936,709\n",
      "Non-trainable params: 2,560\n",
      "_________________________________________________________________\n"
     ]
    }
   ],
   "source": [
    "gan_input = L.Input(gen_network.input_shape[1:])\n",
    "GAN = Model(gan_input, \n",
    "            discriminator_network(gen_network(gan_input)))\n",
    "GAN.compile(loss='binary_crossentropy', optimizer='adam')\n",
    "GAN.summary()"
   ]
  },
  {
   "cell_type": "code",
   "execution_count": 128,
   "metadata": {},
   "outputs": [],
   "source": [
    "class Stat(object):\n",
    "    def __init__(self):\n",
    "        self._v = []\n",
    "        \n",
    "    def record(self, v):\n",
    "        self._v.append(v)\n",
    "        \n",
    "    def mean(self, last=10):\n",
    "        return np.mean(self._v[-last:])"
   ]
  },
  {
   "cell_type": "markdown",
   "metadata": {},
   "source": [
    "## Pretraining our discriminator network\n",
    "\n",
    "To help our real training converge faster, we pre-train our discriminator network to determine which category an icon comes from.  Because the label network shares most of it's layers with the discriminator network, most of the discriminator network will have reasonable values."
   ]
  },
  {
   "cell_type": "code",
   "execution_count": 181,
   "metadata": {},
   "outputs": [
    {
     "name": "stdout",
     "output_type": "stream",
     "text": [
      "Epoch 1/1\n",
      " 2176/38544 [>.............................] - ETA: 1062s - loss: 9.2572"
     ]
    },
    {
     "ename": "KeyboardInterrupt",
     "evalue": "",
     "output_type": "error",
     "traceback": [
      "\u001b[0;31m---------------------------------------------------------------------------\u001b[0m",
      "\u001b[0;31mKeyboardInterrupt\u001b[0m                         Traceback (most recent call last)",
      "\u001b[0;32m<ipython-input-181-06674acce102>\u001b[0m in \u001b[0;36m<module>\u001b[0;34m()\u001b[0m\n\u001b[1;32m      1\u001b[0m label_net.fit(\n\u001b[0;32m----> 2\u001b[0;31m     \u001b[0mimg_array\u001b[0m\u001b[0;34m,\u001b[0m \u001b[0mcategory_labels\u001b[0m\u001b[0;34m\u001b[0m\u001b[0m\n\u001b[0m\u001b[1;32m      3\u001b[0m )\n",
      "\u001b[0;32m/Users/power/anaconda3/lib/python3.5/site-packages/keras/engine/training.py\u001b[0m in \u001b[0;36mfit\u001b[0;34m(self, x, y, batch_size, epochs, verbose, callbacks, validation_split, validation_data, shuffle, class_weight, sample_weight, initial_epoch, **kwargs)\u001b[0m\n\u001b[1;32m   1428\u001b[0m                               \u001b[0mval_f\u001b[0m\u001b[0;34m=\u001b[0m\u001b[0mval_f\u001b[0m\u001b[0;34m,\u001b[0m \u001b[0mval_ins\u001b[0m\u001b[0;34m=\u001b[0m\u001b[0mval_ins\u001b[0m\u001b[0;34m,\u001b[0m \u001b[0mshuffle\u001b[0m\u001b[0;34m=\u001b[0m\u001b[0mshuffle\u001b[0m\u001b[0;34m,\u001b[0m\u001b[0;34m\u001b[0m\u001b[0m\n\u001b[1;32m   1429\u001b[0m                               \u001b[0mcallback_metrics\u001b[0m\u001b[0;34m=\u001b[0m\u001b[0mcallback_metrics\u001b[0m\u001b[0;34m,\u001b[0m\u001b[0;34m\u001b[0m\u001b[0m\n\u001b[0;32m-> 1430\u001b[0;31m                               initial_epoch=initial_epoch)\n\u001b[0m\u001b[1;32m   1431\u001b[0m \u001b[0;34m\u001b[0m\u001b[0m\n\u001b[1;32m   1432\u001b[0m     \u001b[0;32mdef\u001b[0m \u001b[0mevaluate\u001b[0m\u001b[0;34m(\u001b[0m\u001b[0mself\u001b[0m\u001b[0;34m,\u001b[0m \u001b[0mx\u001b[0m\u001b[0;34m,\u001b[0m \u001b[0my\u001b[0m\u001b[0;34m,\u001b[0m \u001b[0mbatch_size\u001b[0m\u001b[0;34m=\u001b[0m\u001b[0;36m32\u001b[0m\u001b[0;34m,\u001b[0m \u001b[0mverbose\u001b[0m\u001b[0;34m=\u001b[0m\u001b[0;36m1\u001b[0m\u001b[0;34m,\u001b[0m \u001b[0msample_weight\u001b[0m\u001b[0;34m=\u001b[0m\u001b[0;32mNone\u001b[0m\u001b[0;34m)\u001b[0m\u001b[0;34m:\u001b[0m\u001b[0;34m\u001b[0m\u001b[0m\n",
      "\u001b[0;32m/Users/power/anaconda3/lib/python3.5/site-packages/keras/engine/training.py\u001b[0m in \u001b[0;36m_fit_loop\u001b[0;34m(self, f, ins, out_labels, batch_size, epochs, verbose, callbacks, val_f, val_ins, shuffle, callback_metrics, initial_epoch)\u001b[0m\n\u001b[1;32m   1077\u001b[0m                 \u001b[0mbatch_logs\u001b[0m\u001b[0;34m[\u001b[0m\u001b[0;34m'size'\u001b[0m\u001b[0;34m]\u001b[0m \u001b[0;34m=\u001b[0m \u001b[0mlen\u001b[0m\u001b[0;34m(\u001b[0m\u001b[0mbatch_ids\u001b[0m\u001b[0;34m)\u001b[0m\u001b[0;34m\u001b[0m\u001b[0m\n\u001b[1;32m   1078\u001b[0m                 \u001b[0mcallbacks\u001b[0m\u001b[0;34m.\u001b[0m\u001b[0mon_batch_begin\u001b[0m\u001b[0;34m(\u001b[0m\u001b[0mbatch_index\u001b[0m\u001b[0;34m,\u001b[0m \u001b[0mbatch_logs\u001b[0m\u001b[0;34m)\u001b[0m\u001b[0;34m\u001b[0m\u001b[0m\n\u001b[0;32m-> 1079\u001b[0;31m                 \u001b[0mouts\u001b[0m \u001b[0;34m=\u001b[0m \u001b[0mf\u001b[0m\u001b[0;34m(\u001b[0m\u001b[0mins_batch\u001b[0m\u001b[0;34m)\u001b[0m\u001b[0;34m\u001b[0m\u001b[0m\n\u001b[0m\u001b[1;32m   1080\u001b[0m                 \u001b[0;32mif\u001b[0m \u001b[0;32mnot\u001b[0m \u001b[0misinstance\u001b[0m\u001b[0;34m(\u001b[0m\u001b[0mouts\u001b[0m\u001b[0;34m,\u001b[0m \u001b[0mlist\u001b[0m\u001b[0;34m)\u001b[0m\u001b[0;34m:\u001b[0m\u001b[0;34m\u001b[0m\u001b[0m\n\u001b[1;32m   1081\u001b[0m                     \u001b[0mouts\u001b[0m \u001b[0;34m=\u001b[0m \u001b[0;34m[\u001b[0m\u001b[0mouts\u001b[0m\u001b[0;34m]\u001b[0m\u001b[0;34m\u001b[0m\u001b[0m\n",
      "\u001b[0;32m/Users/power/anaconda3/lib/python3.5/site-packages/keras/backend/tensorflow_backend.py\u001b[0m in \u001b[0;36m__call__\u001b[0;34m(self, inputs)\u001b[0m\n\u001b[1;32m   2266\u001b[0m         updated = session.run(self.outputs + [self.updates_op],\n\u001b[1;32m   2267\u001b[0m                               \u001b[0mfeed_dict\u001b[0m\u001b[0;34m=\u001b[0m\u001b[0mfeed_dict\u001b[0m\u001b[0;34m,\u001b[0m\u001b[0;34m\u001b[0m\u001b[0m\n\u001b[0;32m-> 2268\u001b[0;31m                               **self.session_kwargs)\n\u001b[0m\u001b[1;32m   2269\u001b[0m         \u001b[0;32mreturn\u001b[0m \u001b[0mupdated\u001b[0m\u001b[0;34m[\u001b[0m\u001b[0;34m:\u001b[0m\u001b[0mlen\u001b[0m\u001b[0;34m(\u001b[0m\u001b[0mself\u001b[0m\u001b[0;34m.\u001b[0m\u001b[0moutputs\u001b[0m\u001b[0;34m)\u001b[0m\u001b[0;34m]\u001b[0m\u001b[0;34m\u001b[0m\u001b[0m\n\u001b[1;32m   2270\u001b[0m \u001b[0;34m\u001b[0m\u001b[0m\n",
      "\u001b[0;32m/Users/power/anaconda3/lib/python3.5/site-packages/tensorflow/python/client/session.py\u001b[0m in \u001b[0;36mrun\u001b[0;34m(self, fetches, feed_dict, options, run_metadata)\u001b[0m\n\u001b[1;32m    787\u001b[0m     \u001b[0;32mtry\u001b[0m\u001b[0;34m:\u001b[0m\u001b[0;34m\u001b[0m\u001b[0m\n\u001b[1;32m    788\u001b[0m       result = self._run(None, fetches, feed_dict, options_ptr,\n\u001b[0;32m--> 789\u001b[0;31m                          run_metadata_ptr)\n\u001b[0m\u001b[1;32m    790\u001b[0m       \u001b[0;32mif\u001b[0m \u001b[0mrun_metadata\u001b[0m\u001b[0;34m:\u001b[0m\u001b[0;34m\u001b[0m\u001b[0m\n\u001b[1;32m    791\u001b[0m         \u001b[0mproto_data\u001b[0m \u001b[0;34m=\u001b[0m \u001b[0mtf_session\u001b[0m\u001b[0;34m.\u001b[0m\u001b[0mTF_GetBuffer\u001b[0m\u001b[0;34m(\u001b[0m\u001b[0mrun_metadata_ptr\u001b[0m\u001b[0;34m)\u001b[0m\u001b[0;34m\u001b[0m\u001b[0m\n",
      "\u001b[0;32m/Users/power/anaconda3/lib/python3.5/site-packages/tensorflow/python/client/session.py\u001b[0m in \u001b[0;36m_run\u001b[0;34m(self, handle, fetches, feed_dict, options, run_metadata)\u001b[0m\n\u001b[1;32m    995\u001b[0m     \u001b[0;32mif\u001b[0m \u001b[0mfinal_fetches\u001b[0m \u001b[0;32mor\u001b[0m \u001b[0mfinal_targets\u001b[0m\u001b[0;34m:\u001b[0m\u001b[0;34m\u001b[0m\u001b[0m\n\u001b[1;32m    996\u001b[0m       results = self._do_run(handle, final_targets, final_fetches,\n\u001b[0;32m--> 997\u001b[0;31m                              feed_dict_string, options, run_metadata)\n\u001b[0m\u001b[1;32m    998\u001b[0m     \u001b[0;32melse\u001b[0m\u001b[0;34m:\u001b[0m\u001b[0;34m\u001b[0m\u001b[0m\n\u001b[1;32m    999\u001b[0m       \u001b[0mresults\u001b[0m \u001b[0;34m=\u001b[0m \u001b[0;34m[\u001b[0m\u001b[0;34m]\u001b[0m\u001b[0;34m\u001b[0m\u001b[0m\n",
      "\u001b[0;32m/Users/power/anaconda3/lib/python3.5/site-packages/tensorflow/python/client/session.py\u001b[0m in \u001b[0;36m_do_run\u001b[0;34m(self, handle, target_list, fetch_list, feed_dict, options, run_metadata)\u001b[0m\n\u001b[1;32m   1130\u001b[0m     \u001b[0;32mif\u001b[0m \u001b[0mhandle\u001b[0m \u001b[0;32mis\u001b[0m \u001b[0;32mNone\u001b[0m\u001b[0;34m:\u001b[0m\u001b[0;34m\u001b[0m\u001b[0m\n\u001b[1;32m   1131\u001b[0m       return self._do_call(_run_fn, self._session, feed_dict, fetch_list,\n\u001b[0;32m-> 1132\u001b[0;31m                            target_list, options, run_metadata)\n\u001b[0m\u001b[1;32m   1133\u001b[0m     \u001b[0;32melse\u001b[0m\u001b[0;34m:\u001b[0m\u001b[0;34m\u001b[0m\u001b[0m\n\u001b[1;32m   1134\u001b[0m       return self._do_call(_prun_fn, self._session, handle, feed_dict,\n",
      "\u001b[0;32m/Users/power/anaconda3/lib/python3.5/site-packages/tensorflow/python/client/session.py\u001b[0m in \u001b[0;36m_do_call\u001b[0;34m(self, fn, *args)\u001b[0m\n\u001b[1;32m   1137\u001b[0m   \u001b[0;32mdef\u001b[0m \u001b[0m_do_call\u001b[0m\u001b[0;34m(\u001b[0m\u001b[0mself\u001b[0m\u001b[0;34m,\u001b[0m \u001b[0mfn\u001b[0m\u001b[0;34m,\u001b[0m \u001b[0;34m*\u001b[0m\u001b[0margs\u001b[0m\u001b[0;34m)\u001b[0m\u001b[0;34m:\u001b[0m\u001b[0;34m\u001b[0m\u001b[0m\n\u001b[1;32m   1138\u001b[0m     \u001b[0;32mtry\u001b[0m\u001b[0;34m:\u001b[0m\u001b[0;34m\u001b[0m\u001b[0m\n\u001b[0;32m-> 1139\u001b[0;31m       \u001b[0;32mreturn\u001b[0m \u001b[0mfn\u001b[0m\u001b[0;34m(\u001b[0m\u001b[0;34m*\u001b[0m\u001b[0margs\u001b[0m\u001b[0;34m)\u001b[0m\u001b[0;34m\u001b[0m\u001b[0m\n\u001b[0m\u001b[1;32m   1140\u001b[0m     \u001b[0;32mexcept\u001b[0m \u001b[0merrors\u001b[0m\u001b[0;34m.\u001b[0m\u001b[0mOpError\u001b[0m \u001b[0;32mas\u001b[0m \u001b[0me\u001b[0m\u001b[0;34m:\u001b[0m\u001b[0;34m\u001b[0m\u001b[0m\n\u001b[1;32m   1141\u001b[0m       \u001b[0mmessage\u001b[0m \u001b[0;34m=\u001b[0m \u001b[0mcompat\u001b[0m\u001b[0;34m.\u001b[0m\u001b[0mas_text\u001b[0m\u001b[0;34m(\u001b[0m\u001b[0me\u001b[0m\u001b[0;34m.\u001b[0m\u001b[0mmessage\u001b[0m\u001b[0;34m)\u001b[0m\u001b[0;34m\u001b[0m\u001b[0m\n",
      "\u001b[0;32m/Users/power/anaconda3/lib/python3.5/site-packages/tensorflow/python/client/session.py\u001b[0m in \u001b[0;36m_run_fn\u001b[0;34m(session, feed_dict, fetch_list, target_list, options, run_metadata)\u001b[0m\n\u001b[1;32m   1119\u001b[0m         return tf_session.TF_Run(session, options,\n\u001b[1;32m   1120\u001b[0m                                  \u001b[0mfeed_dict\u001b[0m\u001b[0;34m,\u001b[0m \u001b[0mfetch_list\u001b[0m\u001b[0;34m,\u001b[0m \u001b[0mtarget_list\u001b[0m\u001b[0;34m,\u001b[0m\u001b[0;34m\u001b[0m\u001b[0m\n\u001b[0;32m-> 1121\u001b[0;31m                                  status, run_metadata)\n\u001b[0m\u001b[1;32m   1122\u001b[0m \u001b[0;34m\u001b[0m\u001b[0m\n\u001b[1;32m   1123\u001b[0m     \u001b[0;32mdef\u001b[0m \u001b[0m_prun_fn\u001b[0m\u001b[0;34m(\u001b[0m\u001b[0msession\u001b[0m\u001b[0;34m,\u001b[0m \u001b[0mhandle\u001b[0m\u001b[0;34m,\u001b[0m \u001b[0mfeed_dict\u001b[0m\u001b[0;34m,\u001b[0m \u001b[0mfetch_list\u001b[0m\u001b[0;34m)\u001b[0m\u001b[0;34m:\u001b[0m\u001b[0;34m\u001b[0m\u001b[0m\n",
      "\u001b[0;31mKeyboardInterrupt\u001b[0m: "
     ]
    }
   ],
   "source": [
    "label_net.fit(\n",
    "    img_array, category_labels\n",
    ")"
   ]
  },
  {
   "cell_type": "markdown",
   "metadata": {},
   "source": [
    "## Training the GAN\n",
    "\n",
    "Now we're finally ready to train the generator network.  We do this by alternating the following:\n",
    "\n",
    "* Generate a batch of images G\n",
    "* Train the discriminator to distinguish true images from G\n",
    "* Generate a new batch G'\n",
    "* Train the generator based on how well G' fooled the discriminator"
   ]
  },
  {
   "cell_type": "code",
   "execution_count": 183,
   "metadata": {},
   "outputs": [
    {
     "name": "stdout",
     "output_type": "stream",
     "text": [
      " 99 G: 0.00000012 D: 0.00000022"
     ]
    }
   ],
   "source": [
    "batch_size = 8\n",
    "noise_size = 10\n",
    "\n",
    "def make_trainable(net, val):\n",
    "    net.trainable = val\n",
    "    for l in net.layers:\n",
    "        l.trainable = val\n",
    "\n",
    "d_loss = Stat()\n",
    "g_loss = Stat()\n",
    "\n",
    "for i in range(100):\n",
    "    noise_gen = np.random.uniform(0, 1, size=(batch_size, noise_size))\n",
    "    image_batch = normalized_img[np.random.randint(0, normalized_img.shape[0], size=batch_size)]\n",
    "    \n",
    "    # Train the discriminator network\n",
    "    generated = gen_network.predict(noise_gen)\n",
    "    make_trainable(discriminator_network, True)\n",
    "    \n",
    "    # Use separate batches for true and fake images\n",
    "    d_loss.record(discriminator_network.train_on_batch(image_batch, np.ones(batch_size)))\n",
    "    d_loss.record(discriminator_network.train_on_batch(generated, np.zeros(batch_size)))\n",
    "    \n",
    "    # Now train the generator network -- it should generate inputs which\n",
    "    # \"fool\" the discriminator and cause it to produce 1s.\n",
    "    noise_tr = np.random.uniform(0, 1, size=(batch_size, noise_size))\n",
    "    y2 = np.zeros(batch_size)\n",
    "    y2[:] = 1\n",
    "    make_trainable(discriminator_network, False)\n",
    "    g_loss.record(GAN.train_on_batch(noise_tr, y2))\n",
    "    \n",
    "    print('\\r', i, 'G: %.8f D: %.8f' % (g_loss.mean(), d_loss.mean()), flush=True, end='')"
   ]
  },
  {
   "cell_type": "code",
   "execution_count": 184,
   "metadata": {},
   "outputs": [
    {
     "data": {
      "text/plain": [
       "<__main__.Stat at 0x1c11bf5c0>"
      ]
     },
     "execution_count": 184,
     "metadata": {},
     "output_type": "execute_result"
    }
   ],
   "source": [
    "g_loss"
   ]
  },
  {
   "cell_type": "code",
   "execution_count": null,
   "metadata": {
    "collapsed": true
   },
   "outputs": [],
   "source": []
  }
 ],
 "metadata": {
  "anaconda-cloud": {},
  "kernelspec": {
   "display_name": "Python [default]",
   "language": "python",
   "name": "python3"
  },
  "language_info": {
   "codemirror_mode": {
    "name": "ipython",
    "version": 3
   },
   "file_extension": ".py",
   "mimetype": "text/x-python",
   "name": "python",
   "nbconvert_exporter": "python",
   "pygments_lexer": "ipython3",
   "version": "3.5.2"
  }
 },
 "nbformat": 4,
 "nbformat_minor": 1
}
