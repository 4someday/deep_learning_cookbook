{
 "cells": [
  {
   "cell_type": "code",
   "execution_count": 1,
   "metadata": {},
   "outputs": [
    {
     "name": "stderr",
     "output_type": "stream",
     "text": [
      "Using TensorFlow backend.\n"
     ]
    }
   ],
   "source": [
    "%matplotlib inline\n",
    "\n",
    "from __future__ import print_function\n",
    "from sklearn import svm\n",
    "import os\n",
    "import gensim\n",
    "import numpy as np\n",
    "import matplotlib.pyplot as plt\n",
    "import random\n",
    "import requests\n",
    "from IPython.display import HTML"
   ]
  },
  {
   "cell_type": "code",
   "execution_count": 2,
   "metadata": {},
   "outputs": [],
   "source": [
    "MODEL = 'GoogleNews-vectors-negative300.bin'\n",
    "if not os.path.isfile(MODEL):\n",
    "  with open(MODEL, 'wb') as fout:\n",
    "    path = 'https://s3.amazonaws.com/dl4j-distribution/%s.gz' % MODEL\n",
    "    curl = subprocess.Popen(['curl', path],\n",
    "                           stdout=subprocess.PIPE).stdout\n",
    "    zcat = subprocess.Popen(['zcat'],\n",
    "                          stdin=curl,\n",
    "                          stdout=fout\n",
    "                         )\n",
    "    zcat.wait()"
   ]
  },
  {
   "cell_type": "code",
   "execution_count": 3,
   "metadata": {},
   "outputs": [
    {
     "data": {
      "text/plain": [
       "[('Argentina', 0.6674913763999939),\n",
       " ('South_Africa', 0.6387203931808472),\n",
       " ('Portugal', 0.6178219318389893),\n",
       " ('China', 0.6163622140884399),\n",
       " ('Poland', 0.6154983043670654),\n",
       " ('Europe', 0.6070770621299744),\n",
       " ('Japan', 0.6041076183319092),\n",
       " ('Uruguay', 0.6010409593582153),\n",
       " ('South_Korea', 0.5988146066665649),\n",
       " ('United_States', 0.5964298844337463)]"
      ]
     },
     "execution_count": 3,
     "metadata": {},
     "output_type": "execute_result"
    }
   ],
   "source": [
    "model = gensim.models.KeyedVectors.load_word2vec_format(MODEL, binary=True)\n",
    "model.most_similar(positive=['Germany', 'India', 'Brazil'])"
   ]
  },
  {
   "cell_type": "code",
   "execution_count": 4,
   "metadata": {},
   "outputs": [],
   "source": [
    "COUNTRIES = {'Canada': 'ca', 'Turkmenistan': 'tm', 'Vatican': 'va', 'Lithuania': 'lt', 'Cambodia': 'kh',\n",
    "             'Ethiopia': 'et', 'Aruba': 'aw', 'Swaziland': 'sz', 'Argentina': 'ar', 'Bolivia': 'bo', 'Cameroon': 'cm',\n",
    "             'Ghana': 'gh', 'Japan': 'jp', 'Slovenia': 'si', 'Guatemala': 'gt', 'Kuwait': 'kw', 'Jordan': 'jo',\n",
    "             'UAE': 'ae', 'Spain': 'es', 'Western_Sahara': 'eh', 'Liberia': 'lr', 'Maldives': 'mv', 'East_Timor': 'tl',\n",
    "             'Pakistan': 'pk', 'Oman': 'om', 'Tanzania': 'tz', 'Zambia': 'zm', 'North_Korea': 'kp', 'Albania': 'al',\n",
    "             'Gabon': 'ga', 'Finland': 'fi', 'Monaco': 'mc', 'Samoa': 'ws', 'Yemen': 'ye', 'Jamaica': 'jm',\n",
    "             'Greenland': 'gl', 'England': 'uk', 'Ivory_Coast': 'ci', 'Guam': 'gu', 'Uruguay': 'uy', 'India': 'in',\n",
    "             'Azerbaijan': 'az', 'Solomon_Islands': 'sb', 'Kenya': 'ke', 'Tajikistan': 'tj', 'Turkey': 'tr',\n",
    "             'Afghanistan': 'af', 'Bangladesh': 'bd', 'Mauritania': 'mr', 'Mongolia': 'mn',\n",
    "             'France': 'fr', 'Bermuda': 'bm', 'Slovakia': 'sk', 'Somalia': 'so', 'Peru': 'pe', 'Laos': 'la',\n",
    "             'Norway': 'no', 'Czech_Republic': 'cz', 'Benin': 'bj', 'Cuba': 'cu', 'South_Africa': 'za',\n",
    "             'Montenegro': 'me', 'Togo': 'tg', 'China': 'cn', 'Armenia': 'am', 'Ukraine': 'ua', 'Bahrain': 'bh',\n",
    "             'Tonga': 'to', 'French_Guiana': 'gf', 'Libya': 'ly', 'Indonesia': 'id', 'Mauritius': 'mu', 'Sweden': 'se',\n",
    "             'Belarus': 'by', 'Equatorial_Guinea': 'gq', 'Mali': 'ml', 'Russia': 'ru', 'Bulgaria': 'bg', 'Papua': 'pg',\n",
    "             'Romania': 'ro', 'Angola': 'ao', 'Chad': 'td', 'Cyprus': 'cy', 'Puerto_Rico': 'pr', 'Malaysia': 'my',\n",
    "             'Austria': 'at', 'Vietnam': 'vn', 'Mozambique': 'mz', 'Uganda': 'ug', 'Hungary': 'hu', 'Niger': 'ne',\n",
    "             'Brazil': 'br', 'Dominican_Republic': 'do', 'Guinea': 'gn', 'Panama': 'pa', 'Qatar': 'qa',\n",
    "             'Luxembourg': 'lu', 'Bahamas': 'bs', 'Ireland': 'ie', 'Nigeria': 'ng', 'Ecuador': 'ec', 'Brunei': 'bn',\n",
    "             'Australia': 'au', 'Iran': 'ir', 'Algeria': 'dz', 'Svalbard': 'sj', 'Chile': 'cl', 'Belgium': 'be',\n",
    "             'Thailand': 'th', 'Haiti': 'ht', 'Belize': 'bz', 'Georgia': 'ge', 'Gambia': 'gm', 'Poland': 'pl',\n",
    "             'Moldova': 'md', 'Morocco': 'ma', 'Croatia': 'hr', 'Switzerland': 'ch', 'Iraq': 'iq', 'Sierra_Leone': 'sl',\n",
    "             'Portugal': 'pt', 'Estonia': 'ee', 'Kosovo': 'xk', 'Lebanon': 'lb', 'America': 'us', 'Uzbekistan': 'uz',\n",
    "             'Tunisia': 'tn', 'Djibouti': 'dj', 'Rwanda': 'rw', 'Saudi_Arabia': 'sa', 'Colombia': 'co', 'Burundi': 'bi',\n",
    "             'Sri_Lanka': 'lk', 'Taiwan': 'tw', 'Fiji': 'fj', 'Barbados': 'bb', 'Madagascar': 'mg', 'Italy': 'it',\n",
    "             'Virgin_Islands': 'vi', 'Bhutan': 'bt', 'Sudan': 'sd', 'Nepal': 'np', 'Malta': 'mt', 'Malawi': 'mw',\n",
    "             'Netherlands': 'nl', 'Suriname': 'sr', 'Lesotho': 'ls', 'Venezuela': 've', 'South_Korea': 'kr',\n",
    "             'Israel': 'il', 'Iceland': 'is', 'Burkina_Faso': 'bf', 'Senegal': 'sn', 'El_Salvador': 'sv',\n",
    "             'Zimbabwe': 'zw', 'Germany': 'de', 'Denmark': 'dk', 'Kazakhstan': 'kz', 'Philippines': 'ph',\n",
    "             'Eritrea': 'er', 'Kyrgyzstan': 'kg', 'Bosnia': 'ba', 'New_Zealand': 'nz', 'Macedonia': 'mk',\n",
    "             'Latvia': 'lv', 'Guyana': 'gy', 'Syria': 'sy', 'Gaza_Strip': 'ps', 'Honduras': 'hn', 'Myanmar': 'mm',\n",
    "             'Mexico': 'mx', 'Egypt': 'eg', 'Nicaragua': 'ni', 'Singapore': 'sg', 'Serbia': 'rs', 'Botswana': 'bw',\n",
    "             'Antarctica': 'aq', 'Congo': 'cd', 'Greece': 'gr', 'Paraguay': 'py', 'Namibia': 'na', 'Costa_Rica': 'cr',\n",
    "             'Comoros': 'km', 'Cayman_Islands': 'ky'}"
   ]
  },
  {
   "cell_type": "code",
   "execution_count": 7,
   "metadata": {},
   "outputs": [],
   "source": [
    "positive = list(COUNTRIES.keys())\n",
    "random.shuffle(positive)\n",
    "positive = positive[:40]"
   ]
  },
  {
   "cell_type": "code",
   "execution_count": 9,
   "metadata": {},
   "outputs": [
    {
     "data": {
      "text/plain": [
       "['monicker', 'multifunction_peripheral', 'Sylvia_Westall', 'Noyer']"
      ]
     },
     "execution_count": 9,
     "metadata": {},
     "output_type": "execute_result"
    }
   ],
   "source": [
    "negative = random.sample(model.vocab.keys(), 5000)\n",
    "negative[:4]"
   ]
  },
  {
   "cell_type": "code",
   "execution_count": 82,
   "metadata": {},
   "outputs": [
    {
     "data": {
      "text/plain": [
       "((5185, 300), (5185,))"
      ]
     },
     "execution_count": 82,
     "metadata": {},
     "output_type": "execute_result"
    }
   ],
   "source": [
    "labelled = [(p, 1) for p in positive] + [(n, 0) for n in negative]\n",
    "random.shuffle(labelled)\n",
    "X = np.asarray([model[w] for w, l in labelled])\n",
    "y = np.asarray([l for w, l in labelled])\n",
    "X.shape, y.shape"
   ]
  },
  {
   "cell_type": "code",
   "execution_count": 83,
   "metadata": {},
   "outputs": [
    {
     "data": {
      "text/plain": [
       "SVC(C=1.0, cache_size=200, class_weight=None, coef0=0.0,\n",
       "  decision_function_shape=None, degree=3, gamma='auto', kernel='linear',\n",
       "  max_iter=-1, probability=False, random_state=None, shrinking=True,\n",
       "  tol=0.001, verbose=False)"
      ]
     },
     "execution_count": 83,
     "metadata": {},
     "output_type": "execute_result"
    }
   ],
   "source": [
    "TRAINING_FRACTION = 0.3\n",
    "cut_off = int(TRAINING_FRACTION * len(labelled))\n",
    "clf = svm.SVC(kernel='linear')\n",
    "clf.fit(X[:cut_off], y[:cut_off]) "
   ]
  },
  {
   "cell_type": "code",
   "execution_count": 84,
   "metadata": {},
   "outputs": [
    {
     "data": {
      "text/plain": [
       "(99.77961432506888,\n",
       " [('North_Korea', 1),\n",
       "  ('Chad', 1),\n",
       "  ('Vatican', 1),\n",
       "  ('reunion', 1),\n",
       "  ('Svalbard', 1),\n",
       "  ('Jordan', 1),\n",
       "  ('Monaco', 1),\n",
       "  ('Antarctica', 1)])"
      ]
     },
     "execution_count": 84,
     "metadata": {},
     "output_type": "execute_result"
    }
   ],
   "source": [
    "res = clf.predict(X[cut_off:])\n",
    "\n",
    "missed = [country for (pred, truth, country) in \n",
    " zip(res, y[cut_off:], labelled[cut_off:]) if pred != truth]\n",
    "\n",
    "100 - 100 * float(len(missed)) / len(res), missed"
   ]
  },
  {
   "cell_type": "code",
   "execution_count": 68,
   "metadata": {
    "collapsed": true
   },
   "outputs": [],
   "source": [
    "all_predictions = clf.predict(model.syn0)"
   ]
  },
  {
   "cell_type": "code",
   "execution_count": 85,
   "metadata": {},
   "outputs": [
    {
     "data": {
      "text/plain": [
       "[u'Myanmar',\n",
       " u'countries',\n",
       " u'Sri_Lanka',\n",
       " u'Israelis',\n",
       " u'Australia',\n",
       " u'Pyongyang',\n",
       " u'New_Hampshire',\n",
       " u'Italy',\n",
       " u'China',\n",
       " u'Philippine']"
      ]
     },
     "execution_count": 85,
     "metadata": {},
     "output_type": "execute_result"
    }
   ],
   "source": [
    "res = []\n",
    "for word, pred in zip(model.index2word, all_predictions):\n",
    "  if pred:\n",
    "    res.append(word)\n",
    "    if len(res) == 150:\n",
    "      break\n",
    "random.sample(res, 10)"
   ]
  },
  {
   "cell_type": "code",
   "execution_count": 169,
   "metadata": {},
   "outputs": [
    {
     "data": {
      "text/plain": [
       "u'us'"
      ]
     },
     "execution_count": 169,
     "metadata": {},
     "output_type": "execute_result"
    }
   ],
   "source": [
    "url = 'https://docs.google.com/spreadsheets/d/1jqYEIrvgGKc_FE7R5-zqYjwLfOY2ptVFH74sdw7VbOg/pub?gid=0&single=true&output=csv'\n",
    "country_to_cc = dict(x.split(',') for x in requests.get(url).text.splitlines())\n",
    "country_to_cc['United_States']"
   ]
  },
  {
   "cell_type": "code",
   "execution_count": 170,
   "metadata": {},
   "outputs": [],
   "source": [
    "countries = list(country_to_cc.keys())\n",
    "country_to_idx = {country: idx for idx, country in enumerate(countries)}\n",
    "country_vecs = np.asarray([model[c] for c in countries])"
   ]
  },
  {
   "cell_type": "code",
   "execution_count": 171,
   "metadata": {},
   "outputs": [
    {
     "name": "stdout",
     "output_type": "stream",
     "text": [
      "Canada 7.54402\n",
      "New_Zealand 3.96197\n",
      "Finland 3.93924\n",
      "Puerto_Rico 3.83815\n",
      "Jamaica 3.81029\n",
      "Sweden 3.80428\n",
      "Slovakia 3.70387\n",
      "Australia 3.6711\n",
      "Bahamas 3.62404\n",
      "United_States 3.53743\n"
     ]
    }
   ],
   "source": [
    "dists = np.dot(country_vecs, country_vecs[country_to_idx['Canada']])\n",
    "for idx in reversed(np.argsort(dists)[-10:]):\n",
    "  print(countries[idx], dists[idx])"
   ]
  },
  {
   "cell_type": "code",
   "execution_count": 172,
   "metadata": {
    "collapsed": true
   },
   "outputs": [],
   "source": [
    "def rank_countries(term, topn=10):\n",
    "  if not term in model:\n",
    "    return []\n",
    "  vec = model[term]\n",
    "  dists = np.dot(country_vecs, vec)\n",
    "  return [(countries[idx], float(dists[idx])) \n",
    "          for idx in reversed(np.argsort(dists)[-topn:])]"
   ]
  },
  {
   "cell_type": "code",
   "execution_count": 173,
   "metadata": {},
   "outputs": [
    {
     "data": {
      "text/plain": [
       "[(u'Canada', 2.5576062202453613),\n",
       " (u'Slovakia', 2.456810474395752),\n",
       " (u'Finland', 2.244586706161499),\n",
       " (u'Sweden', 2.1060357093811035),\n",
       " (u'Czech_Republic', 2.088719129562378),\n",
       " (u'Latvia', 2.033060312271118),\n",
       " (u'Pakistan', 1.8923059701919556),\n",
       " (u'Norway', 1.7905339002609253),\n",
       " (u'Belarus', 1.7010831832885742),\n",
       " (u'Greenland', 1.6949326992034912)]"
      ]
     },
     "execution_count": 173,
     "metadata": {},
     "output_type": "execute_result"
    }
   ],
   "source": [
    "rank_countries('hockey')"
   ]
  },
  {
   "cell_type": "code",
   "execution_count": 176,
   "metadata": {},
   "outputs": [
    {
     "data": {
      "text/plain": [
       "[(u'Canada', 7.5440239906311035),\n",
       " (u'New_Zealand', 3.9619698524475098),\n",
       " (u'Finland', 3.9392404556274414),\n",
       " (u'Puerto_Rico', 3.8381450176239014),\n",
       " (u'Jamaica', 3.810293436050415),\n",
       " (u'Sweden', 3.80427885055542),\n",
       " (u'Slovakia', 3.703874111175537),\n",
       " (u'Australia', 3.6711010932922363),\n",
       " (u'Bahamas', 3.6240415573120117),\n",
       " (u'United_States', 3.5374338626861572),\n",
       " (u'Barbados', 3.470252275466919),\n",
       " (u'Norway', 3.4603371620178223),\n",
       " (u'Mexico', 3.426602840423584),\n",
       " (u'Argentina', 3.4216275215148926),\n",
       " (u'Bermuda', 3.381308078765869),\n",
       " (u'Guyana', 3.3389341831207275),\n",
       " (u'Colombia', 3.3358325958251953),\n",
       " (u'Dominican_Republic', 3.253561019897461),\n",
       " (u'Latvia', 3.2421295642852783),\n",
       " (u'Chile', 3.229321002960205),\n",
       " (u'Switzerland', 3.2072014808654785),\n",
       " (u'Netherlands', 3.195124864578247),\n",
       " (u'Suriname', 3.181366205215454),\n",
       " (u'Costa_Rica', 3.15801739692688),\n",
       " (u'Belize', 3.1510772705078125),\n",
       " (u'Czech_Republic', 3.143127918243408),\n",
       " (u'France', 3.128284454345703),\n",
       " (u'Iceland', 3.123826026916504),\n",
       " (u'Brazil', 3.1149439811706543),\n",
       " (u'India', 3.097590446472168),\n",
       " (u'Slovenia', 3.037161350250244),\n",
       " (u'Haiti', 3.0319693088531494),\n",
       " (u'Honduras', 3.0141420364379883),\n",
       " (u'Austria', 3.0110931396484375),\n",
       " (u'Cayman_Islands', 3.004281997680664),\n",
       " (u'Guatemala', 2.9574074745178223),\n",
       " (u'Japan', 2.9534780979156494),\n",
       " (u'South_Korea', 2.946737289428711),\n",
       " (u'Algeria', 2.9439663887023926),\n",
       " (u'Ireland', 2.935234546661377),\n",
       " (u'Mongolia', 2.9168248176574707),\n",
       " (u'Hungary', 2.906684637069702),\n",
       " (u'Virgin_Islands', 2.8958168029785156),\n",
       " (u'Cuba', 2.8953444957733154),\n",
       " (u'Venezuela', 2.895030975341797),\n",
       " (u'Belgium', 2.893296718597412),\n",
       " (u'Denmark', 2.8919849395751953),\n",
       " (u'Russia', 2.878950834274292),\n",
       " (u'El_Salvador', 2.8642079830169678),\n",
       " (u'Botswana', 2.858445644378662),\n",
       " (u'Kenya', 2.8296597003936768),\n",
       " (u'China', 2.792262554168701),\n",
       " (u'Germany', 2.7806954383850098),\n",
       " (u'South_Africa', 2.7693207263946533),\n",
       " (u'Philippines', 2.755552291870117),\n",
       " (u'Thailand', 2.7519350051879883),\n",
       " (u'Belarus', 2.7481369972229004),\n",
       " (u'Malawi', 2.7323861122131348),\n",
       " (u'UAE', 2.7308835983276367),\n",
       " (u'Sri_Lanka', 2.7216415405273438),\n",
       " (u'Uruguay', 2.7195448875427246),\n",
       " (u'Italy', 2.6901230812072754),\n",
       " (u'Ukraine', 2.6814866065979004),\n",
       " (u'Poland', 2.6786794662475586),\n",
       " (u'Nigeria', 2.6779675483703613),\n",
       " (u'Fiji', 2.6688342094421387),\n",
       " (u'Ecuador', 2.6653976440429688),\n",
       " (u'Saudi_Arabia', 2.65877103805542),\n",
       " (u'Ghana', 2.6378774642944336),\n",
       " (u'Pakistan', 2.6256980895996094),\n",
       " (u'Burkina_Faso', 2.620077133178711),\n",
       " (u'Afghanistan', 2.593987464904785),\n",
       " (u'England', 2.589536666870117),\n",
       " (u'Estonia', 2.5452427864074707),\n",
       " (u'Nicaragua', 2.532258987426758),\n",
       " (u'Lithuania', 2.5301733016967773),\n",
       " (u'Malaysia', 2.508066177368164),\n",
       " (u'Spain', 2.4650027751922607),\n",
       " (u'Portugal', 2.457920551300049),\n",
       " (u'Peru', 2.443155527114868),\n",
       " (u'Indonesia', 2.43369722366333),\n",
       " (u'Taiwan', 2.4303054809570312),\n",
       " (u'Romania', 2.4298768043518066),\n",
       " (u'Greece', 2.4265851974487305),\n",
       " (u'Nepal', 2.42240834236145),\n",
       " (u'Solomon_Islands', 2.4207406044006348),\n",
       " (u'Zambia', 2.401951551437378),\n",
       " (u'Morocco', 2.3824682235717773),\n",
       " (u'Bhutan', 2.3748598098754883),\n",
       " (u'Rwanda', 2.3599042892456055),\n",
       " (u'Zimbabwe', 2.354832172393799),\n",
       " (u'Paraguay', 2.345500946044922),\n",
       " (u'Greenland', 2.335172653198242),\n",
       " (u'Bulgaria', 2.3314266204833984),\n",
       " (u'Tanzania', 2.328860282897949),\n",
       " (u'Kazakhstan', 2.3116607666015625),\n",
       " (u'Ethiopia', 2.2999014854431152),\n",
       " (u'Gambia', 2.2974932193756104),\n",
       " (u'Namibia', 2.293586254119873),\n",
       " (u'Cambodia', 2.292031764984131),\n",
       " (u'Croatia', 2.2615766525268555),\n",
       " (u'Tunisia', 2.2405669689178467),\n",
       " (u'Uganda', 2.2250726222991943),\n",
       " (u'Egypt', 2.213434934616089),\n",
       " (u'Bolivia', 2.210296154022217),\n",
       " (u'Cameroon', 2.195681571960449),\n",
       " (u'Yemen', 2.1923370361328125),\n",
       " (u'Gaza_Strip', 2.1887218952178955),\n",
       " (u'Papua', 2.1724982261657715),\n",
       " (u'Bangladesh', 2.1579766273498535),\n",
       " (u'Panama', 2.1552813053131104),\n",
       " (u'Luxembourg', 2.1520676612854004),\n",
       " (u'French_Guiana', 2.149172306060791),\n",
       " (u'Ivory_Coast', 2.136793613433838),\n",
       " (u'Serbia', 2.133599281311035),\n",
       " (u'Aruba', 2.1171622276306152),\n",
       " (u'Cyprus', 2.1048831939697266),\n",
       " (u'Malta', 2.0844104290008545),\n",
       " (u'Singapore', 2.0775794982910156),\n",
       " (u'Swaziland', 2.0774006843566895),\n",
       " (u'Sierra_Leone', 2.0631346702575684),\n",
       " (u'Kyrgyzstan', 2.056629180908203),\n",
       " (u'Israel', 2.0371203422546387),\n",
       " (u'Senegal', 2.036525249481201),\n",
       " (u'Mozambique', 2.0344133377075195),\n",
       " (u'Syria', 2.022954225540161),\n",
       " (u'Brunei', 1.9994218349456787),\n",
       " (u'Oman', 1.9981426000595093),\n",
       " (u'Togo', 1.9657808542251587),\n",
       " (u'Eritrea', 1.933830976486206),\n",
       " (u'Uzbekistan', 1.9328781366348267),\n",
       " (u'Kosovo', 1.923964023590088),\n",
       " (u'Turkey', 1.9195765256881714),\n",
       " (u'Tonga', 1.9121370315551758),\n",
       " (u'Burundi', 1.9104045629501343),\n",
       " (u'Congo', 1.909081220626831),\n",
       " (u'Niger', 1.9006521701812744),\n",
       " (u'Guam', 1.89480459690094),\n",
       " (u'Kuwait', 1.8819856643676758),\n",
       " (u'Guinea', 1.8685333728790283),\n",
       " (u'Mali', 1.866250991821289),\n",
       " (u'Tajikistan', 1.8590031862258911),\n",
       " (u'Madagascar', 1.8471627235412598),\n",
       " (u'Iran', 1.8266875743865967),\n",
       " (u'Bahrain', 1.8226709365844727),\n",
       " (u'Equatorial_Guinea', 1.8196907043457031),\n",
       " (u'Mauritius', 1.815287470817566),\n",
       " (u'Bosnia', 1.8001036643981934),\n",
       " (u'Turkmenistan', 1.7970921993255615),\n",
       " (u'Lesotho', 1.787338376045227),\n",
       " (u'Angola', 1.766300916671753),\n",
       " (u'Albania', 1.7556407451629639),\n",
       " (u'Laos', 1.7366178035736084),\n",
       " (u'Comoros', 1.7089474201202393),\n",
       " (u'Moldova', 1.7053701877593994),\n",
       " (u'Mauritania', 1.6935184001922607),\n",
       " (u'Vietnam', 1.6920175552368164),\n",
       " (u'Somalia', 1.6915620565414429),\n",
       " (u'Gabon', 1.6879879236221313),\n",
       " (u'Macedonia', 1.6710649728775024),\n",
       " (u'Azerbaijan', 1.6622573137283325),\n",
       " (u'Armenia', 1.6324859857559204),\n",
       " (u'Liberia', 1.6251609325408936),\n",
       " (u'Benin', 1.6026506423950195),\n",
       " (u'Samoa', 1.5700197219848633),\n",
       " (u'Qatar', 1.5223913192749023),\n",
       " (u'Svalbard', 1.519972324371338),\n",
       " (u'Sudan', 1.5100408792495728),\n",
       " (u'Libya', 1.4909083843231201),\n",
       " (u'Monaco', 1.4743764400482178),\n",
       " (u'Lebanon', 1.46684992313385),\n",
       " (u'Georgia', 1.4544878005981445),\n",
       " (u'Iraq', 1.443300724029541),\n",
       " (u'Myanmar', 1.4103240966796875),\n",
       " (u'East_Timor', 1.404883861541748),\n",
       " (u'Maldives', 1.4030133485794067),\n",
       " (u'North_Korea', 1.2321486473083496),\n",
       " (u'Montenegro', 1.2003823518753052),\n",
       " (u'Western_Sahara', 1.1951557397842407),\n",
       " (u'Djibouti', 1.1932528018951416),\n",
       " (u'Chad', 1.1489355564117432),\n",
       " (u'Vatican', 1.1233152151107788),\n",
       " (u'Jordan', 0.9711291193962097),\n",
       " (u'Reunion', -0.2868509292602539)]"
      ]
     },
     "execution_count": 176,
     "metadata": {},
     "output_type": "execute_result"
    }
   ],
   "source": [
    "rank_countries('Canada', topn=0)"
   ]
  },
  {
   "cell_type": "code",
   "execution_count": null,
   "metadata": {},
   "outputs": [],
   "source": []
  },
  {
   "cell_type": "code",
   "execution_count": 188,
   "metadata": {},
   "outputs": [
    {
     "data": {
      "text/html": [
       "\n",
       "  <div id=\"regions_div\" style=\"width: 640px; height: 320px;\"></div>\n",
       "  <script type=\"text/Javascript\">\n",
       "    google.charts.load('upcoming', {'packages':['geochart']});\n",
       "    google.charts.setOnLoadCallback(drawRegionsMap);\n",
       "    function drawRegionsMap() {\n",
       "      var chart = new google.visualization.GeoChart(\n",
       "          document.getElementById('regions_div'));\n",
       "      chart.draw(google.visualization.arrayToDataTable([[\"Country\", \"surfing\"], [\"aw\", 3.8150792121887207], [\"mv\", 2.785109758377075], [\"eh\", 2.6441004276275635], [\"sb\", 2.365474224090576], [\"cr\", 2.2799789905548096], [\"ws\", 2.2151498794555664], [\"fj\", 2.1157472133636475], [\"pg\", 2.101541519165039], [\"id\", 2.070221424102783], [\"nz\", 2.0239264965057373], [\"km\", 2.006196975708008], [\"tl\", 1.9409337043762207], [\"pt\", 1.8751753568649292], [\"cl\", 1.8733186721801758], [\"to\", 1.8598514795303345], [\"mr\", 1.7611215114593506], [\"au\", 1.7209820747375488], [\"bz\", 1.7063053846359253], [\"sj\", 1.696542501449585], [\"re\", 1.686598777770996], [\"py\", 1.6622059345245361], [\"bm\", 1.6444892883300781], [\"es\", 1.6346702575683594], [\"uy\", 1.6267204284667969], [\"bs\", 1.5689828395843506], [\"pe\", 1.568070888519287], [\"gu\", 1.518454670906067], [\"bn\", 1.4711204767227173], [\"om\", 1.4201772212982178], [\"sr\", 1.4002516269683838], [\"ma\", 1.3901946544647217], [\"vi\", 1.3795812129974365], [\"ph\", 1.3636348247528076], [\"br\", 1.3501522541046143], [\"ky\", 1.348940134048462], [\"ie\", 1.315887212753296], [\"fi\", 1.3150068521499634], [\"bh\", 1.3076202869415283], [\"na\", 1.2918905019760132], [\"ni\", 1.2824188470840454], [\"bb\", 1.276627540588379], [\"my\", 1.2746014595031738], [\"mu\", 1.2720004320144653], [\"ke\", 1.2538663148880005], [\"gm\", 1.2524385452270508], [\"tn\", 1.2365895509719849], [\"eg\", 1.2334281206130981], [\"dj\", 1.2318965196609497], [\"ar\", 1.2244338989257812], [\"jp\", 1.2070881128311157], [\"do\", 1.193543553352356], [\"ye\", 1.1886036396026611], [\"gr\", 1.1718008518218994], [\"nl\", 1.169467806816101], [\"it\", 1.1650104522705078], [\"kr\", 1.162084698677063], [\"lk\", 1.1601576805114746], [\"gn\", 1.1521424055099487], [\"za\", 1.1514561176300049], [\"pr\", 1.1433079242706299], [\"vn\", 1.1392592191696167], [\"mg\", 1.1382946968078613], [\"se\", 1.135299801826477], [\"il\", 1.1184543371200562], [\"pa\", 1.0897502899169922], [\"is\", 1.0717084407806396], [\"ir\", 1.0528143644332886], [\"ps\", 1.032075047492981], [\"jm\", 1.0202726125717163], [\"hr\", 1.0169538259506226], [\"ec\", 1.0164294242858887], [\"th\", 1.0115840435028076], [\"tw\", 1.007443904876709], [\"so\", 0.9920448660850525], [\"tz\", 0.976742684841156], [\"kh\", 0.9613739252090454], [\"ga\", 0.9565026164054871], [\"co\", 0.9519931077957153], [\"sa\", 0.9518553018569946], [\"mz\", 0.9463748931884766], [\"mt\", 0.9454180002212524], [\"cu\", 0.935989499092102], [\"gh\", 0.897662341594696], [\"ht\", 0.891753077507019], [\"si\", 0.8814211487770081], [\"no\", 0.8728079795837402], [\"at\", 0.8592398166656494], [\"ls\", 0.8462159633636475], [\"ae\", 0.8408221006393433], [\"sg\", 0.8357062339782715], [\"dz\", 0.8066717386245728], [\"qa\", 0.803016722202301], [\"bo\", 0.8015788793563843], [\"sv\", 0.7938246726989746], [\"sz\", 0.7638628482818604], [\"va\", 0.7587873339653015], [\"kp\", 0.7560725212097168], [\"ng\", 0.7437143921852112], [\"jo\", 0.7422968745231628], [\"sn\", 0.737087607383728], [\"np\", 0.7142961025238037], [\"gt\", 0.7110424637794495], [\"fr\", 0.7069511413574219], [\"ca\", 0.6956005096435547], [\"hn\", 0.6827145218849182], [\"la\", 0.6774144768714905], [\"bj\", 0.6656180620193481], [\"de\", 0.6621480584144592], [\"mc\", 0.6621240377426147], [\"sy\", 0.6452081203460693], [\"gq\", 0.6356590986251831], [\"ch\", 0.6345155239105225], [\"cm\", 0.6018130779266357], [\"lb\", 0.5915365815162659], [\"dk\", 0.5790818333625793], [\"be\", 0.5790299773216248], [\"mw\", 0.5764794945716858], [\"cy\", 0.5758064985275269], [\"in\", 0.5502150058746338], [\"gy\", 0.5382413268089294], [\"cn\", 0.5317504405975342], [\"sl\", 0.5178900957107544], [\"bd\", 0.506786584854126], [\"gf\", 0.49523571133613586], [\"sk\", 0.4742598831653595], [\"mx\", 0.470603346824646], [\"ve\", 0.46817702054977417], [\"iq\", 0.4356381893157959], [\"mn\", 0.40731358528137207], [\"xk\", 0.3812657296657562], [\"ne\", 0.37435925006866455], [\"mm\", 0.3475750684738159], [\"er\", 0.33766475319862366], [\"bw\", 0.3375983238220215], [\"ee\", 0.32205280661582947], [\"lu\", 0.2892465591430664], [\"ly\", 0.28775113821029663], [\"cz\", 0.27936193346977234], [\"pk\", 0.25726521015167236], [\"al\", 0.24907872080802917], [\"gl\", 0.2166275978088379], [\"ml\", 0.2125050127506256], [\"gb\", 0.20977959036827087], [\"ug\", 0.20055769383907318], [\"tg\", 0.18700993061065674], [\"bt\", 0.160506471991539], [\"tr\", 0.14159107208251953], [\"bf\", 0.125710129737854], [\"af\", 0.12477520108222961], [\"zw\", 0.09665419161319733], [\"us\", 0.0845395103096962], [\"bi\", 0.04909220337867737], [\"zm\", 0.010946378111839294], [\"hu\", -0.0007385015487670898], [\"ao\", -0.0057646483182907104], [\"lr\", -0.016540169715881348], [\"sd\", -0.023632287979125977], [\"td\", -0.050699278712272644], [\"ci\", -0.0583023726940155], [\"cd\", -0.09729918837547302], [\"ro\", -0.10066342353820801], [\"kw\", -0.10177108645439148], [\"lv\", -0.106882244348526], [\"bg\", -0.1267792284488678], [\"et\", -0.15847492218017578], [\"rs\", -0.16011816263198853], [\"lt\", -0.28089439868927], [\"pl\", -0.3419170379638672], [\"ba\", -0.3619529604911804], [\"az\", -0.42008090019226074], [\"rw\", -0.4344324767589569], [\"xk\", -0.43473660945892334], [\"am\", -0.49224627017974854], [\"ru\", -0.531206488609314], [\"kz\", -0.5424721837043762], [\"tj\", -0.617734968662262], [\"md\", -0.6581072807312012], [\"mk\", -0.6855725049972534], [\"tm\", -0.7131362557411194], [\"uz\", -0.7747770547866821], [\"by\", -0.8201808929443359], [\"ua\", -0.8685404658317566], [\"kg\", -0.9196239113807678], [\"ge\", -1.003258466720581]]), {});\n",
       "    }\n",
       "  </script>\n",
       "  "
      ],
      "text/plain": [
       "<IPython.core.display.HTML object>"
      ]
     },
     "execution_count": 188,
     "metadata": {},
     "output_type": "execute_result"
    }
   ],
   "source": [
    "def GChart(term):\n",
    "  data = rank_countries(term, topn=0)\n",
    "  data_by_cc = [[country_to_cc[country], val] for country, val in data]\n",
    "  data_js = json.dumps([('Country', term)] + data_by_cc)\n",
    "\n",
    "  code = \"\"\"\n",
    "  <div id=\"regions_div\" style=\"width: 640px; height: 320px;\"></div>\n",
    "  <script type=\"text/Javascript\">\n",
    "    google.charts.load('upcoming', {'packages':['geochart']});\n",
    "    google.charts.setOnLoadCallback(drawRegionsMap);\n",
    "    function drawRegionsMap() {\n",
    "      var chart = new google.visualization.GeoChart(\n",
    "          document.getElementById('regions_div'));\n",
    "      chart.draw(google.visualization.arrayToDataTable(%s), {});\n",
    "    }\n",
    "  </script>\n",
    "  \"\"\"\n",
    "\n",
    "  return HTML(code % data_js)\n",
    "\n",
    "GChart('surfing')"
   ]
  },
  {
   "cell_type": "code",
   "execution_count": 183,
   "metadata": {},
   "outputs": [
    {
     "data": {
      "text/html": [
       "\n",
       "  <div id=\"a_map\" style=\"width: 640px; height: 320px;\"></div>\n",
       "  <script type=\"text/Javascript\">\n",
       "    google.charts.load('upcoming', {'packages':['geochart']});\n",
       "    google.charts.setOnLoadCallback(drawRegionsMap);\n",
       "    function drawRegionsMap() {\n",
       "      var chart = new google.visualization.GeoChart(\n",
       "          document.getElementById('a_map'));\n",
       "      var data = [['Header', 'Value'], ['ca', 100], ['us', 50]]\n",
       "      chart.draw(google.visualization.arrayToDataTable(data), {});\n",
       "    }\n",
       "  </script>\n",
       "  "
      ],
      "text/plain": [
       "<IPython.core.display.HTML object>"
      ]
     },
     "execution_count": 183,
     "metadata": {},
     "output_type": "execute_result"
    }
   ],
   "source": [
    "HTML(\"\"\"\n",
    "  <div id=\"a_map\" style=\"width: 640px; height: 320px;\"></div>\n",
    "  <script type=\"text/Javascript\">\n",
    "    google.charts.load('upcoming', {'packages':['geochart']});\n",
    "    google.charts.setOnLoadCallback(drawRegionsMap);\n",
    "    function drawRegionsMap() {\n",
    "      var chart = new google.visualization.GeoChart(\n",
    "          document.getElementById('a_map'));\n",
    "      var data = [['Header', 'Value'], ['ca', 100], ['us', 50]]\n",
    "      chart.draw(google.visualization.arrayToDataTable(data), {});\n",
    "    }\n",
    "  </script>\n",
    "  \"\"\")"
   ]
  },
  {
   "cell_type": "code",
   "execution_count": 160,
   "metadata": {},
   "outputs": [
    {
     "data": {
      "text/plain": [
       "u'Bangladesh'"
      ]
     },
     "execution_count": 160,
     "metadata": {},
     "output_type": "execute_result"
    }
   ],
   "source": [
    "data[0]"
   ]
  },
  {
   "cell_type": "code",
   "execution_count": 163,
   "metadata": {},
   "outputs": [
    {
     "data": {
      "text/plain": [
       "'[[\"bd\", 2.4695568084716797], [\"lk\", 2.2264552116394043], [\"np\", 2.1970415115356445], [\"bt\", 2.181537628173828], [\"ke\", 2.0634021759033203], [\"kp\", 1.769707202911377], [\"mm\", 1.7306537628173828], [\"et\", 1.5849881172180176], [\"pk\", 1.5726646184921265], [\"th\", 1.5576823949813843]]'"
      ]
     },
     "execution_count": 163,
     "metadata": {},
     "output_type": "execute_result"
    }
   ],
   "source": [
    "data_js"
   ]
  },
  {
   "cell_type": "code",
   "execution_count": null,
   "metadata": {
    "collapsed": true
   },
   "outputs": [],
   "source": []
  }
 ],
 "metadata": {
  "kernelspec": {
   "display_name": "Python 2",
   "language": "python",
   "name": "python2"
  },
  "language_info": {
   "codemirror_mode": {
    "name": "ipython",
    "version": 3
   },
   "file_extension": ".py",
   "mimetype": "text/x-python",
   "name": "python",
   "nbconvert_exporter": "python",
   "pygments_lexer": "ipython3",
   "version": "3.5.2"
  }
 },
 "nbformat": 4,
 "nbformat_minor": 1
}
